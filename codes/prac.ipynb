{
 "cells": [
  {
   "cell_type": "code",
   "execution_count": 9,
   "metadata": {},
   "outputs": [
    {
     "name": "stdout",
     "output_type": "stream",
     "text": [
      "[-316.67  423.33  -16.67  223.33 -166.67 -146.67]\n",
      "[-501.67  698.33  108.33 -201.67  398.33 -501.67]\n",
      "[158863.8389 295624.0389  -1805.8611 -45038.9611 -66389.6611  73579.9389]\n",
      "[100279.8889 179208.2889    277.8889  49876.2889  27778.8889  21512.0889]\n",
      "414833.3334\n",
      "378933.3334\n",
      "1.0947396199692576\n"
     ]
    }
   ],
   "source": [
    "import numpy as np\n",
    "x = np.array([340,1080,640,880,490,510])\n",
    "y = np.array([500,1700,1110,800,1400,500])\n",
    "a = x - 656.67\n",
    "print(a)\n",
    "b = y - 1001.67\n",
    "print(b)\n",
    "print(a * b)\n",
    "print(a ** 2)\n",
    "print((a * b).sum())\n",
    "print((a ** 2).sum())\n",
    "\n",
    "print((a * b).sum() / (a ** 2).sum())\n",
    "print(1001.)"
   ]
  }
 ],
 "metadata": {
  "file_extension": ".py",
  "kernelspec": {
   "display_name": "Python 3.6.2 32-bit",
   "language": "python",
   "name": "python36232bitd47103a6e5ae4c098fd049203838ad8c"
  },
  "language_info": {
   "codemirror_mode": {
    "name": "ipython",
    "version": 3
   },
   "file_extension": ".py",
   "mimetype": "text/x-python",
   "name": "python",
   "nbconvert_exporter": "python",
   "pygments_lexer": "ipython3",
   "version": "3.6.2"
  },
  "mimetype": "text/x-python",
  "name": "python",
  "npconvert_exporter": "python",
  "pygments_lexer": "ipython3",
  "version": 3
 },
 "nbformat": 4,
 "nbformat_minor": 2
}
