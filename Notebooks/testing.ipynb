{
 "metadata": {
  "language_info": {
   "codemirror_mode": {
    "name": "ipython",
    "version": 3
   },
   "file_extension": ".py",
   "mimetype": "text/x-python",
   "name": "python",
   "nbconvert_exporter": "python",
   "pygments_lexer": "ipython3",
   "version": "3.7.6-final"
  },
  "orig_nbformat": 2,
  "kernelspec": {
   "name": "python3",
   "display_name": "Python 3",
   "language": "python"
  }
 },
 "nbformat": 4,
 "nbformat_minor": 2,
 "cells": [
  {
   "cell_type": "code",
   "execution_count": 76,
   "metadata": {},
   "outputs": [
    {
     "output_type": "stream",
     "name": "stdout",
     "text": [
      "ab\n"
     ]
    }
   ],
   "source": [
    "print(\"a\" + chr(98))"
   ]
  },
  {
   "cell_type": "code",
   "execution_count": 77,
   "metadata": {},
   "outputs": [],
   "source": [
    "from random import randint\n",
    "import numpy as np\n",
    "from sklearn.linear_model import LogisticRegression\n",
    "from sklearn.metrics import accuracy_score\n",
    "from sklearn.preprocessing import OneHotEncoder\n",
    "import pandas as pd"
   ]
  },
  {
   "cell_type": "code",
   "execution_count": 79,
   "metadata": {},
   "outputs": [],
   "source": [
    "X = []\n",
    "for i in range(1000):\n",
    "    gender = randint(0,1)\n",
    "    if(gender == 0):\n",
    "        s = list('female')\n",
    "        times = randint(0,5)\n",
    "        for j in range(times):\n",
    "            k = randint(0,5)\n",
    "            s[k] = s[k].upper()\n",
    "        str1 = ''.join(s)\n",
    "        X.append(str1)\n",
    "    else:\n",
    "        s = list('male')\n",
    "        times = randint(0,3)\n",
    "        for j in range(times):\n",
    "            k = randint(0,3)\n",
    "            s[k] = s[k].upper()\n",
    "        str1 = ''.join(s)\n",
    "        X.append(str1)"
   ]
  },
  {
   "cell_type": "code",
   "execution_count": 80,
   "metadata": {},
   "outputs": [],
   "source": [
    "x_train = np.array(X)"
   ]
  },
  {
   "cell_type": "code",
   "execution_count": 81,
   "metadata": {
    "tags": []
   },
   "outputs": [],
   "source": [
    "for i in range(0,x_train.shape[0]):\n",
    "    str = x_train[i]\n",
    "    if(str[0] == 'f' or str[0] == 'F'):\n",
    "        x_train[i] = 'female'\n",
    "        continue\n",
    "    x_train[i] = 'male'"
   ]
  },
  {
   "cell_type": "code",
   "execution_count": 83,
   "metadata": {},
   "outputs": [],
   "source": [
    "y = []\n",
    "for i in range(x_train.shape[0]):\n",
    "    if(len(x_train[i]) == 6):\n",
    "        y.append(0)\n",
    "        continue\n",
    "    y.append(1)\n",
    "y = np.array(y)"
   ]
  },
  {
   "cell_type": "code",
   "execution_count": 84,
   "metadata": {},
   "outputs": [],
   "source": [
    "ohe = OneHotEncoder()\n",
    "x_train = ohe.fit_transform(x_train.reshape(-1,1))"
   ]
  },
  {
   "cell_type": "code",
   "execution_count": 86,
   "metadata": {},
   "outputs": [
    {
     "output_type": "execute_result",
     "data": {
      "text/plain": [
       "LogisticRegression(C=1.0, class_weight=None, dual=False, fit_intercept=True,\n",
       "                   intercept_scaling=1, l1_ratio=None, max_iter=100,\n",
       "                   multi_class='auto', n_jobs=None, penalty='l2',\n",
       "                   random_state=None, solver='lbfgs', tol=0.0001, verbose=0,\n",
       "                   warm_start=False)"
      ]
     },
     "metadata": {},
     "execution_count": 86
    }
   ],
   "source": [
    "model = LogisticRegression()\n",
    "model.fit(x_train,y)\n"
   ]
  },
  {
   "cell_type": "code",
   "execution_count": 91,
   "metadata": {},
   "outputs": [
    {
     "output_type": "execute_result",
     "data": {
      "text/plain": [
       "1.0"
      ]
     },
     "metadata": {},
     "execution_count": 91
    }
   ],
   "source": [
    "accuracy_score(model.predict(x_train),y)"
   ]
  }
 ]
}