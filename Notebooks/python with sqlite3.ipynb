{
 "metadata": {
  "language_info": {
   "codemirror_mode": {
    "name": "ipython",
    "version": 3
   },
   "file_extension": ".py",
   "mimetype": "text/x-python",
   "name": "python",
   "nbconvert_exporter": "python",
   "pygments_lexer": "ipython3",
   "version": "3.7.6-final"
  },
  "orig_nbformat": 2,
  "kernelspec": {
   "name": "python3",
   "display_name": "Python 3"
  }
 },
 "nbformat": 4,
 "nbformat_minor": 2,
 "cells": [
  {
   "cell_type": "code",
   "execution_count": 14,
   "metadata": {},
   "outputs": [],
   "source": [
    "import sqlite3\n",
    "import pandas as pd\n",
    "conn = sqlite3.connect('moma.db')\n",
    "cursor = conn.cursor()"
   ]
  },
  {
   "cell_type": "code",
   "execution_count": 30,
   "metadata": {},
   "outputs": [
    {
     "output_type": "execute_result",
     "data": {
      "text/plain": [
       "    cid                    name     type  notnull dflt_value  pk\n",
       "0     0            ExhibitionID  INTEGER        0       None   0\n",
       "1     1        ExhibitionNumber     TEXT        0       None   0\n",
       "2     2         ExhibitionTitle     TEXT        0       None   0\n",
       "3     3  ExhibitionCitationDate     TEXT        0       None   0\n",
       "4     4     ExhibitionBeginDate     TEXT        0       None   0\n",
       "5     5       ExhibitionEndDate     TEXT        0       None   0\n",
       "6     6     ExhibitionSortOrder  INTEGER        0       None   0\n",
       "7     7           ExhibitionURL     TEXT        0       None   0\n",
       "8     8          ExhibitionRole     TEXT        0       None   0\n",
       "9     9           ConstituentID     REAL        0       None   0\n",
       "10   10         ConstituentType     TEXT        0       None   0\n",
       "11   11             DisplayName     TEXT        0       None   0\n",
       "12   12               AlphaSort     TEXT        0       None   0\n",
       "13   13               FirstName     TEXT        0       None   0\n",
       "14   14              MiddleName     TEXT        0       None   0\n",
       "15   15                LastName     TEXT        0       None   0\n",
       "16   16                  Suffix     TEXT        0       None   0\n",
       "17   17             Institution     TEXT        0       None   0\n",
       "18   18             Nationality     TEXT        0       None   0\n",
       "19   19    ConstituentBeginDate     REAL        0       None   0\n",
       "20   20      ConstituentEndDate     REAL        0       None   0\n",
       "21   21               ArtistBio     TEXT        0       None   0\n",
       "22   22                  Gender     TEXT        0       None   0\n",
       "23   23                  VIAFID     REAL        0       None   0\n",
       "24   24              WikidataID     TEXT        0       None   0\n",
       "25   25                  ULANID     REAL        0       None   0\n",
       "26   26          ConstituentURL     TEXT        0       None   0"
      ],
      "text/html": "<div>\n<style scoped>\n    .dataframe tbody tr th:only-of-type {\n        vertical-align: middle;\n    }\n\n    .dataframe tbody tr th {\n        vertical-align: top;\n    }\n\n    .dataframe thead th {\n        text-align: right;\n    }\n</style>\n<table border=\"1\" class=\"dataframe\">\n  <thead>\n    <tr style=\"text-align: right;\">\n      <th></th>\n      <th>cid</th>\n      <th>name</th>\n      <th>type</th>\n      <th>notnull</th>\n      <th>dflt_value</th>\n      <th>pk</th>\n    </tr>\n  </thead>\n  <tbody>\n    <tr>\n      <th>0</th>\n      <td>0</td>\n      <td>ExhibitionID</td>\n      <td>INTEGER</td>\n      <td>0</td>\n      <td>None</td>\n      <td>0</td>\n    </tr>\n    <tr>\n      <th>1</th>\n      <td>1</td>\n      <td>ExhibitionNumber</td>\n      <td>TEXT</td>\n      <td>0</td>\n      <td>None</td>\n      <td>0</td>\n    </tr>\n    <tr>\n      <th>2</th>\n      <td>2</td>\n      <td>ExhibitionTitle</td>\n      <td>TEXT</td>\n      <td>0</td>\n      <td>None</td>\n      <td>0</td>\n    </tr>\n    <tr>\n      <th>3</th>\n      <td>3</td>\n      <td>ExhibitionCitationDate</td>\n      <td>TEXT</td>\n      <td>0</td>\n      <td>None</td>\n      <td>0</td>\n    </tr>\n    <tr>\n      <th>4</th>\n      <td>4</td>\n      <td>ExhibitionBeginDate</td>\n      <td>TEXT</td>\n      <td>0</td>\n      <td>None</td>\n      <td>0</td>\n    </tr>\n    <tr>\n      <th>5</th>\n      <td>5</td>\n      <td>ExhibitionEndDate</td>\n      <td>TEXT</td>\n      <td>0</td>\n      <td>None</td>\n      <td>0</td>\n    </tr>\n    <tr>\n      <th>6</th>\n      <td>6</td>\n      <td>ExhibitionSortOrder</td>\n      <td>INTEGER</td>\n      <td>0</td>\n      <td>None</td>\n      <td>0</td>\n    </tr>\n    <tr>\n      <th>7</th>\n      <td>7</td>\n      <td>ExhibitionURL</td>\n      <td>TEXT</td>\n      <td>0</td>\n      <td>None</td>\n      <td>0</td>\n    </tr>\n    <tr>\n      <th>8</th>\n      <td>8</td>\n      <td>ExhibitionRole</td>\n      <td>TEXT</td>\n      <td>0</td>\n      <td>None</td>\n      <td>0</td>\n    </tr>\n    <tr>\n      <th>9</th>\n      <td>9</td>\n      <td>ConstituentID</td>\n      <td>REAL</td>\n      <td>0</td>\n      <td>None</td>\n      <td>0</td>\n    </tr>\n    <tr>\n      <th>10</th>\n      <td>10</td>\n      <td>ConstituentType</td>\n      <td>TEXT</td>\n      <td>0</td>\n      <td>None</td>\n      <td>0</td>\n    </tr>\n    <tr>\n      <th>11</th>\n      <td>11</td>\n      <td>DisplayName</td>\n      <td>TEXT</td>\n      <td>0</td>\n      <td>None</td>\n      <td>0</td>\n    </tr>\n    <tr>\n      <th>12</th>\n      <td>12</td>\n      <td>AlphaSort</td>\n      <td>TEXT</td>\n      <td>0</td>\n      <td>None</td>\n      <td>0</td>\n    </tr>\n    <tr>\n      <th>13</th>\n      <td>13</td>\n      <td>FirstName</td>\n      <td>TEXT</td>\n      <td>0</td>\n      <td>None</td>\n      <td>0</td>\n    </tr>\n    <tr>\n      <th>14</th>\n      <td>14</td>\n      <td>MiddleName</td>\n      <td>TEXT</td>\n      <td>0</td>\n      <td>None</td>\n      <td>0</td>\n    </tr>\n    <tr>\n      <th>15</th>\n      <td>15</td>\n      <td>LastName</td>\n      <td>TEXT</td>\n      <td>0</td>\n      <td>None</td>\n      <td>0</td>\n    </tr>\n    <tr>\n      <th>16</th>\n      <td>16</td>\n      <td>Suffix</td>\n      <td>TEXT</td>\n      <td>0</td>\n      <td>None</td>\n      <td>0</td>\n    </tr>\n    <tr>\n      <th>17</th>\n      <td>17</td>\n      <td>Institution</td>\n      <td>TEXT</td>\n      <td>0</td>\n      <td>None</td>\n      <td>0</td>\n    </tr>\n    <tr>\n      <th>18</th>\n      <td>18</td>\n      <td>Nationality</td>\n      <td>TEXT</td>\n      <td>0</td>\n      <td>None</td>\n      <td>0</td>\n    </tr>\n    <tr>\n      <th>19</th>\n      <td>19</td>\n      <td>ConstituentBeginDate</td>\n      <td>REAL</td>\n      <td>0</td>\n      <td>None</td>\n      <td>0</td>\n    </tr>\n    <tr>\n      <th>20</th>\n      <td>20</td>\n      <td>ConstituentEndDate</td>\n      <td>REAL</td>\n      <td>0</td>\n      <td>None</td>\n      <td>0</td>\n    </tr>\n    <tr>\n      <th>21</th>\n      <td>21</td>\n      <td>ArtistBio</td>\n      <td>TEXT</td>\n      <td>0</td>\n      <td>None</td>\n      <td>0</td>\n    </tr>\n    <tr>\n      <th>22</th>\n      <td>22</td>\n      <td>Gender</td>\n      <td>TEXT</td>\n      <td>0</td>\n      <td>None</td>\n      <td>0</td>\n    </tr>\n    <tr>\n      <th>23</th>\n      <td>23</td>\n      <td>VIAFID</td>\n      <td>REAL</td>\n      <td>0</td>\n      <td>None</td>\n      <td>0</td>\n    </tr>\n    <tr>\n      <th>24</th>\n      <td>24</td>\n      <td>WikidataID</td>\n      <td>TEXT</td>\n      <td>0</td>\n      <td>None</td>\n      <td>0</td>\n    </tr>\n    <tr>\n      <th>25</th>\n      <td>25</td>\n      <td>ULANID</td>\n      <td>REAL</td>\n      <td>0</td>\n      <td>None</td>\n      <td>0</td>\n    </tr>\n    <tr>\n      <th>26</th>\n      <td>26</td>\n      <td>ConstituentURL</td>\n      <td>TEXT</td>\n      <td>0</td>\n      <td>None</td>\n      <td>0</td>\n    </tr>\n  </tbody>\n</table>\n</div>"
     },
     "metadata": {},
     "execution_count": 30
    }
   ],
   "source": [
    "moma_iter = pd.read_csv('https://query.data.world/s/z7tudrbl7mp7x7nhmiwbas2melfxoo', chunksize=1000)\n",
    "for chunk in moma_iter:\n",
    "    chunk.to_sql(\"exhibitions\", conn, if_exists='append', index=False)\n",
    "results_df = pd.read_sql('PRAGMA table_info(exhibitions);', conn)\n",
    "results_df"
   ]
  },
  {
   "cell_type": "code",
   "execution_count": 28,
   "metadata": {},
   "outputs": [],
   "source": [
    "for chunk in moma_iter:\n",
    "    chunk['ExhibitionSortOrder'] = chunk['ExhibitionSortOrder'].astype('int16')\n",
    "    chunk.to_sql(\"exhibitions\", conn, if_exists='append', index=False)\n"
   ]
  },
  {
   "cell_type": "code",
   "execution_count": 31,
   "metadata": {},
   "outputs": [
    {
     "output_type": "execute_result",
     "data": {
      "text/plain": [
       "       ExhibitionID ExhibitionNumber  \\\n",
       "0            2557.0                1   \n",
       "1            2557.0                1   \n",
       "2            2557.0                1   \n",
       "3            2557.0                1   \n",
       "4            2557.0                1   \n",
       "...             ...              ...   \n",
       "69111         288.0             1536   \n",
       "69112         288.0             1536   \n",
       "69113         288.0             1536   \n",
       "69114         288.0             1536   \n",
       "69115        3367.0             1537   \n",
       "\n",
       "                                   ExhibitionTitle  \\\n",
       "0               Cézanne, Gauguin, Seurat, Van Gogh   \n",
       "1               Cézanne, Gauguin, Seurat, Van Gogh   \n",
       "2               Cézanne, Gauguin, Seurat, Van Gogh   \n",
       "3               Cézanne, Gauguin, Seurat, Van Gogh   \n",
       "4               Cézanne, Gauguin, Seurat, Van Gogh   \n",
       "...                                            ...   \n",
       "69111  Recent Japanese Posters from the Collection   \n",
       "69112  Recent Japanese Posters from the Collection   \n",
       "69113  Recent Japanese Posters from the Collection   \n",
       "69114  Recent Japanese Posters from the Collection   \n",
       "69115                Directed by Vincente Minnelli   \n",
       "\n",
       "                                  ExhibitionCitationDate ExhibitionBeginDate  \\\n",
       "0            [MoMA Exh. #1, November 7-December 7, 1929]           11/7/1929   \n",
       "1            [MoMA Exh. #1, November 7-December 7, 1929]           11/7/1929   \n",
       "2            [MoMA Exh. #1, November 7-December 7, 1929]           11/7/1929   \n",
       "3            [MoMA Exh. #1, November 7-December 7, 1929]           11/7/1929   \n",
       "4            [MoMA Exh. #1, November 7-December 7, 1929]           11/7/1929   \n",
       "...                                                  ...                 ...   \n",
       "69111  [MoMA Exh. #1536, December 9, 1989-April 16, 1...           12/9/1989   \n",
       "69112  [MoMA Exh. #1536, December 9, 1989-April 16, 1...           12/9/1989   \n",
       "69113  [MoMA Exh. #1536, December 9, 1989-April 16, 1...           12/9/1989   \n",
       "69114  [MoMA Exh. #1536, December 9, 1989-April 16, 1...           12/9/1989   \n",
       "69115  [MoMA Exh. #1537, December 15, 1989-January 28...          12/15/1989   \n",
       "\n",
       "      ExhibitionEndDate  ExhibitionSortOrder  \\\n",
       "0             12/7/1929                  1.0   \n",
       "1             12/7/1929                  1.0   \n",
       "2             12/7/1929                  1.0   \n",
       "3             12/7/1929                  1.0   \n",
       "4             12/7/1929                  1.0   \n",
       "...                 ...                  ...   \n",
       "69111         4/16/1990               1767.0   \n",
       "69112         4/16/1990               1767.0   \n",
       "69113         4/16/1990               1767.0   \n",
       "69114         4/16/1990               1767.0   \n",
       "69115         1/28/1990               1768.0   \n",
       "\n",
       "                                       ExhibitionURL ExhibitionRole  \\\n",
       "0      http://www.moma.org/calendar/exhibitions/1767       Director   \n",
       "1      http://www.moma.org/calendar/exhibitions/1767         Artist   \n",
       "2      http://www.moma.org/calendar/exhibitions/1767         Artist   \n",
       "3      http://www.moma.org/calendar/exhibitions/1767         Artist   \n",
       "4      http://www.moma.org/calendar/exhibitions/1767         Artist   \n",
       "...                                              ...            ...   \n",
       "69111  http://www.moma.org/calendar/exhibitions/1739         Artist   \n",
       "69112  http://www.moma.org/calendar/exhibitions/1739         Artist   \n",
       "69113  http://www.moma.org/calendar/exhibitions/1739         Artist   \n",
       "69114  http://www.moma.org/calendar/exhibitions/1739         Artist   \n",
       "69115  http://www.moma.org/calendar/exhibitions/2118      Organizer   \n",
       "\n",
       "       ConstituentID  ... Institution Nationality ConstituentBeginDate  \\\n",
       "0             9168.0  ...        None    American               1902.0   \n",
       "1             1053.0  ...        None      French               1839.0   \n",
       "2             2098.0  ...        None      French               1848.0   \n",
       "3             2206.0  ...        None       Dutch               1853.0   \n",
       "4             5358.0  ...        None      French               1859.0   \n",
       "...              ...  ...         ...         ...                  ...   \n",
       "69111         6215.0  ...        None    Japanese               1942.0   \n",
       "69112         6486.0  ...        None    Japanese               1943.0   \n",
       "69113         6487.0  ...        None    Japanese               1920.0   \n",
       "69114         6502.0  ...        None    Japanese               1936.0   \n",
       "69115        25529.0  ...        None        None                  NaN   \n",
       "\n",
       "      ConstituentEndDate            ArtistBio Gender       VIAFID WikidataID  \\\n",
       "0                 1981.0  American, 1902–1981   Male  109252853.0    Q711362   \n",
       "1                 1906.0    French, 1839–1906   Male   39374836.0     Q35548   \n",
       "2                 1903.0    French, 1848–1903   Male   27064953.0     Q37693   \n",
       "3                 1890.0     Dutch, 1853–1890   Male    9854560.0      Q5582   \n",
       "4                 1891.0    French, 1859–1891   Male   24608076.0     Q34013   \n",
       "...                  ...                  ...    ...          ...        ...   \n",
       "69111                NaN  Japanese, born 1942   Male   18484958.0       None   \n",
       "69112                NaN  Japanese, born 1943   Male          NaN       None   \n",
       "69113                NaN  Japanese, born 1920   Male  119202488.0   Q2178400   \n",
       "69114                NaN  Japanese, born 1936   Male   96086073.0   Q3513688   \n",
       "69115                NaN                 None   None  250655373.0       None   \n",
       "\n",
       "            ULANID          ConstituentURL  \n",
       "0      500241556.0   moma.org/artists/9168  \n",
       "1      500004793.0   moma.org/artists/1053  \n",
       "2      500011421.0   moma.org/artists/2098  \n",
       "3      500115588.0   moma.org/artists/2206  \n",
       "4      500008873.0   moma.org/artists/5358  \n",
       "...            ...                     ...  \n",
       "69111          NaN   moma.org/artists/6215  \n",
       "69112          NaN   moma.org/artists/6486  \n",
       "69113          NaN   moma.org/artists/6487  \n",
       "69114  500060125.0   moma.org/artists/6502  \n",
       "69115          NaN  moma.org/artists/25529  \n",
       "\n",
       "[69116 rows x 27 columns]"
      ],
      "text/html": "<div>\n<style scoped>\n    .dataframe tbody tr th:only-of-type {\n        vertical-align: middle;\n    }\n\n    .dataframe tbody tr th {\n        vertical-align: top;\n    }\n\n    .dataframe thead th {\n        text-align: right;\n    }\n</style>\n<table border=\"1\" class=\"dataframe\">\n  <thead>\n    <tr style=\"text-align: right;\">\n      <th></th>\n      <th>ExhibitionID</th>\n      <th>ExhibitionNumber</th>\n      <th>ExhibitionTitle</th>\n      <th>ExhibitionCitationDate</th>\n      <th>ExhibitionBeginDate</th>\n      <th>ExhibitionEndDate</th>\n      <th>ExhibitionSortOrder</th>\n      <th>ExhibitionURL</th>\n      <th>ExhibitionRole</th>\n      <th>ConstituentID</th>\n      <th>...</th>\n      <th>Institution</th>\n      <th>Nationality</th>\n      <th>ConstituentBeginDate</th>\n      <th>ConstituentEndDate</th>\n      <th>ArtistBio</th>\n      <th>Gender</th>\n      <th>VIAFID</th>\n      <th>WikidataID</th>\n      <th>ULANID</th>\n      <th>ConstituentURL</th>\n    </tr>\n  </thead>\n  <tbody>\n    <tr>\n      <th>0</th>\n      <td>2557.0</td>\n      <td>1</td>\n      <td>Cézanne, Gauguin, Seurat, Van Gogh</td>\n      <td>[MoMA Exh. #1, November 7-December 7, 1929]</td>\n      <td>11/7/1929</td>\n      <td>12/7/1929</td>\n      <td>1.0</td>\n      <td>http://www.moma.org/calendar/exhibitions/1767</td>\n      <td>Director</td>\n      <td>9168.0</td>\n      <td>...</td>\n      <td>None</td>\n      <td>American</td>\n      <td>1902.0</td>\n      <td>1981.0</td>\n      <td>American, 1902–1981</td>\n      <td>Male</td>\n      <td>109252853.0</td>\n      <td>Q711362</td>\n      <td>500241556.0</td>\n      <td>moma.org/artists/9168</td>\n    </tr>\n    <tr>\n      <th>1</th>\n      <td>2557.0</td>\n      <td>1</td>\n      <td>Cézanne, Gauguin, Seurat, Van Gogh</td>\n      <td>[MoMA Exh. #1, November 7-December 7, 1929]</td>\n      <td>11/7/1929</td>\n      <td>12/7/1929</td>\n      <td>1.0</td>\n      <td>http://www.moma.org/calendar/exhibitions/1767</td>\n      <td>Artist</td>\n      <td>1053.0</td>\n      <td>...</td>\n      <td>None</td>\n      <td>French</td>\n      <td>1839.0</td>\n      <td>1906.0</td>\n      <td>French, 1839–1906</td>\n      <td>Male</td>\n      <td>39374836.0</td>\n      <td>Q35548</td>\n      <td>500004793.0</td>\n      <td>moma.org/artists/1053</td>\n    </tr>\n    <tr>\n      <th>2</th>\n      <td>2557.0</td>\n      <td>1</td>\n      <td>Cézanne, Gauguin, Seurat, Van Gogh</td>\n      <td>[MoMA Exh. #1, November 7-December 7, 1929]</td>\n      <td>11/7/1929</td>\n      <td>12/7/1929</td>\n      <td>1.0</td>\n      <td>http://www.moma.org/calendar/exhibitions/1767</td>\n      <td>Artist</td>\n      <td>2098.0</td>\n      <td>...</td>\n      <td>None</td>\n      <td>French</td>\n      <td>1848.0</td>\n      <td>1903.0</td>\n      <td>French, 1848–1903</td>\n      <td>Male</td>\n      <td>27064953.0</td>\n      <td>Q37693</td>\n      <td>500011421.0</td>\n      <td>moma.org/artists/2098</td>\n    </tr>\n    <tr>\n      <th>3</th>\n      <td>2557.0</td>\n      <td>1</td>\n      <td>Cézanne, Gauguin, Seurat, Van Gogh</td>\n      <td>[MoMA Exh. #1, November 7-December 7, 1929]</td>\n      <td>11/7/1929</td>\n      <td>12/7/1929</td>\n      <td>1.0</td>\n      <td>http://www.moma.org/calendar/exhibitions/1767</td>\n      <td>Artist</td>\n      <td>2206.0</td>\n      <td>...</td>\n      <td>None</td>\n      <td>Dutch</td>\n      <td>1853.0</td>\n      <td>1890.0</td>\n      <td>Dutch, 1853–1890</td>\n      <td>Male</td>\n      <td>9854560.0</td>\n      <td>Q5582</td>\n      <td>500115588.0</td>\n      <td>moma.org/artists/2206</td>\n    </tr>\n    <tr>\n      <th>4</th>\n      <td>2557.0</td>\n      <td>1</td>\n      <td>Cézanne, Gauguin, Seurat, Van Gogh</td>\n      <td>[MoMA Exh. #1, November 7-December 7, 1929]</td>\n      <td>11/7/1929</td>\n      <td>12/7/1929</td>\n      <td>1.0</td>\n      <td>http://www.moma.org/calendar/exhibitions/1767</td>\n      <td>Artist</td>\n      <td>5358.0</td>\n      <td>...</td>\n      <td>None</td>\n      <td>French</td>\n      <td>1859.0</td>\n      <td>1891.0</td>\n      <td>French, 1859–1891</td>\n      <td>Male</td>\n      <td>24608076.0</td>\n      <td>Q34013</td>\n      <td>500008873.0</td>\n      <td>moma.org/artists/5358</td>\n    </tr>\n    <tr>\n      <th>...</th>\n      <td>...</td>\n      <td>...</td>\n      <td>...</td>\n      <td>...</td>\n      <td>...</td>\n      <td>...</td>\n      <td>...</td>\n      <td>...</td>\n      <td>...</td>\n      <td>...</td>\n      <td>...</td>\n      <td>...</td>\n      <td>...</td>\n      <td>...</td>\n      <td>...</td>\n      <td>...</td>\n      <td>...</td>\n      <td>...</td>\n      <td>...</td>\n      <td>...</td>\n      <td>...</td>\n    </tr>\n    <tr>\n      <th>69111</th>\n      <td>288.0</td>\n      <td>1536</td>\n      <td>Recent Japanese Posters from the Collection</td>\n      <td>[MoMA Exh. #1536, December 9, 1989-April 16, 1...</td>\n      <td>12/9/1989</td>\n      <td>4/16/1990</td>\n      <td>1767.0</td>\n      <td>http://www.moma.org/calendar/exhibitions/1739</td>\n      <td>Artist</td>\n      <td>6215.0</td>\n      <td>...</td>\n      <td>None</td>\n      <td>Japanese</td>\n      <td>1942.0</td>\n      <td>NaN</td>\n      <td>Japanese, born 1942</td>\n      <td>Male</td>\n      <td>18484958.0</td>\n      <td>None</td>\n      <td>NaN</td>\n      <td>moma.org/artists/6215</td>\n    </tr>\n    <tr>\n      <th>69112</th>\n      <td>288.0</td>\n      <td>1536</td>\n      <td>Recent Japanese Posters from the Collection</td>\n      <td>[MoMA Exh. #1536, December 9, 1989-April 16, 1...</td>\n      <td>12/9/1989</td>\n      <td>4/16/1990</td>\n      <td>1767.0</td>\n      <td>http://www.moma.org/calendar/exhibitions/1739</td>\n      <td>Artist</td>\n      <td>6486.0</td>\n      <td>...</td>\n      <td>None</td>\n      <td>Japanese</td>\n      <td>1943.0</td>\n      <td>NaN</td>\n      <td>Japanese, born 1943</td>\n      <td>Male</td>\n      <td>NaN</td>\n      <td>None</td>\n      <td>NaN</td>\n      <td>moma.org/artists/6486</td>\n    </tr>\n    <tr>\n      <th>69113</th>\n      <td>288.0</td>\n      <td>1536</td>\n      <td>Recent Japanese Posters from the Collection</td>\n      <td>[MoMA Exh. #1536, December 9, 1989-April 16, 1...</td>\n      <td>12/9/1989</td>\n      <td>4/16/1990</td>\n      <td>1767.0</td>\n      <td>http://www.moma.org/calendar/exhibitions/1739</td>\n      <td>Artist</td>\n      <td>6487.0</td>\n      <td>...</td>\n      <td>None</td>\n      <td>Japanese</td>\n      <td>1920.0</td>\n      <td>NaN</td>\n      <td>Japanese, born 1920</td>\n      <td>Male</td>\n      <td>119202488.0</td>\n      <td>Q2178400</td>\n      <td>NaN</td>\n      <td>moma.org/artists/6487</td>\n    </tr>\n    <tr>\n      <th>69114</th>\n      <td>288.0</td>\n      <td>1536</td>\n      <td>Recent Japanese Posters from the Collection</td>\n      <td>[MoMA Exh. #1536, December 9, 1989-April 16, 1...</td>\n      <td>12/9/1989</td>\n      <td>4/16/1990</td>\n      <td>1767.0</td>\n      <td>http://www.moma.org/calendar/exhibitions/1739</td>\n      <td>Artist</td>\n      <td>6502.0</td>\n      <td>...</td>\n      <td>None</td>\n      <td>Japanese</td>\n      <td>1936.0</td>\n      <td>NaN</td>\n      <td>Japanese, born 1936</td>\n      <td>Male</td>\n      <td>96086073.0</td>\n      <td>Q3513688</td>\n      <td>500060125.0</td>\n      <td>moma.org/artists/6502</td>\n    </tr>\n    <tr>\n      <th>69115</th>\n      <td>3367.0</td>\n      <td>1537</td>\n      <td>Directed by Vincente Minnelli</td>\n      <td>[MoMA Exh. #1537, December 15, 1989-January 28...</td>\n      <td>12/15/1989</td>\n      <td>1/28/1990</td>\n      <td>1768.0</td>\n      <td>http://www.moma.org/calendar/exhibitions/2118</td>\n      <td>Organizer</td>\n      <td>25529.0</td>\n      <td>...</td>\n      <td>None</td>\n      <td>None</td>\n      <td>NaN</td>\n      <td>NaN</td>\n      <td>None</td>\n      <td>None</td>\n      <td>250655373.0</td>\n      <td>None</td>\n      <td>NaN</td>\n      <td>moma.org/artists/25529</td>\n    </tr>\n  </tbody>\n</table>\n<p>69116 rows × 27 columns</p>\n</div>"
     },
     "metadata": {},
     "execution_count": 31
    }
   ],
   "source": [
    "results = pd.read_sql('select * from exhibitions;', conn)\n",
    "results"
   ]
  },
  {
   "cell_type": "code",
   "execution_count": 35,
   "metadata": {},
   "outputs": [
    {
     "output_type": "stream",
     "name": "stdout",
     "text": [
      "   ExhibitionID  counts\n0           NaN     858\n1           7.0     642\n2        3838.0     604\n3        3030.0     568\n4        3988.0     550\n5        2600.0     524\n6          79.0     518\n7       10601.0     512\n8        3939.0     508\n9        3036.0     488\n"
     ]
    }
   ],
   "source": [
    "q = 'select exhibitionid, count(*) as counts from exhibitions group by exhibitionid order by counts desc;'\n",
    "eid_counts = pd.read_sql(q, conn)\n",
    "print(eid_counts[:10])"
   ]
  },
  {
   "cell_type": "code",
   "execution_count": null,
   "metadata": {},
   "outputs": [],
   "source": [
    "q = 'select exhibitionid from exhibitions;'\n",
    "eid_df = pd.read_sql(q, conn)\n",
    "eid_pandas_counts = eid_df['ExhibitionID'].value_counts()\n",
    "print(eid_pandas_counts[:10])"
   ]
  }
 ]
}