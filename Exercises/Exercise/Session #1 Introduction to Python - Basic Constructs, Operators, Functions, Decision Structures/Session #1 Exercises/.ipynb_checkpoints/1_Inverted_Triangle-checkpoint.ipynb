{
 "cells": [
  {
   "cell_type": "code",
   "execution_count": 1,
   "metadata": {},
   "outputs": [
    {
     "name": "stdout",
     "output_type": "stream",
     "text": [
      "Enter the number: 4\n",
      "****\n",
      "***\n",
      "**\n",
      "*\n"
     ]
    }
   ],
   "source": [
    "def invertedRightTriangle(rows):\n",
    "    '''\n",
    "    Objective: To print an inverted triangle comprising of asterisks\n",
    "    Input Parameter: rows - numeric\n",
    "    Return Value: None\n",
    "    '''\n",
    "    start, end, step = rows, 0, -1\n",
    "    for i in range(start, end, step):\n",
    "        # +++ Your Code Here +++ \n",
    "    \n",
    "def main():\n",
    "    '''\n",
    "    Objective: To compute factorial of a number provided as an input\n",
    "    Input Parameter: None\n",
    "    Return Value: None\n",
    "    '''\n",
    "    rows = int(input('Enter the number: '))\n",
    "    invertedRightTriangle(rows)\n",
    "\n",
    "main()"
   ]
  },
  {
   "cell_type": "code",
   "execution_count": null,
   "metadata": {},
   "outputs": [],
   "source": []
  }
 ],
 "metadata": {
  "kernelspec": {
   "display_name": "Python 3",
   "language": "python",
   "name": "python3"
  },
  "language_info": {
   "codemirror_mode": {
    "name": "ipython",
    "version": 3
   },
   "file_extension": ".py",
   "mimetype": "text/x-python",
   "name": "python",
   "nbconvert_exporter": "python",
   "pygments_lexer": "ipython3",
   "version": "3.6.1"
  }
 },
 "nbformat": 4,
 "nbformat_minor": 2
}
