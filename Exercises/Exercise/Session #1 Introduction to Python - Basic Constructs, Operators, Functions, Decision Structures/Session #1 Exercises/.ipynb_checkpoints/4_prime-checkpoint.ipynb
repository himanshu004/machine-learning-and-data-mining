{
 "cells": [
  {
   "cell_type": "code",
   "execution_count": null,
   "metadata": {},
   "outputs": [],
   "source": [
    "def isPrime(n):\n",
    "    '''\n",
    "    Objective: To check if a number is prime or not\n",
    "    Input Parameter: n - numeric value\n",
    "    Return Value: message – boolean value\n",
    "    '''\n",
    "    '''\n",
    "    Approach: Check to find out if there is any factor of number n or not.\n",
    "    All the numbers in the range [3, root(n)] are checked for factor test.\n",
    "    '''\n",
    "    if n == 1: # 1 is not prime\n",
    "        return False\n",
    "    limit = int (round(n ** 0.5))\n",
    "    for i in range(2, limit + 1):\n",
    "        if # +++ Condition Here +++ :\n",
    "            return False\n",
    "    return True\n",
    "\n",
    "def main():\n",
    "    '''\n",
    "    Objective: To check if the number entered by the user is a\n",
    "    prime number\n",
    "    Input Parameter: None\n",
    "    Return Value: None\n",
    "    '''\n",
    "    n = int(input('Enter number: '))\n",
    "    result = isPrime(n)\n",
    "    if result == True:\n",
    "        print(n, 'is a prime number')\n",
    "    else:\n",
    "        print(n, 'is not a prime number')\n",
    "\n",
    "main()\n"
   ]
  }
 ],
 "metadata": {
  "kernelspec": {
   "display_name": "Python 3",
   "language": "python",
   "name": "python3"
  },
  "language_info": {
   "codemirror_mode": {
    "name": "ipython",
    "version": 3
   },
   "file_extension": ".py",
   "mimetype": "text/x-python",
   "name": "python",
   "nbconvert_exporter": "python",
   "pygments_lexer": "ipython3",
   "version": "3.6.1"
  }
 },
 "nbformat": 4,
 "nbformat_minor": 2
}
