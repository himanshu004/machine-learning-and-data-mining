{
 "cells": [
  {
   "cell_type": "code",
   "execution_count": 49,
   "metadata": {},
   "outputs": [
    {
     "name": "stdout",
     "output_type": "stream",
     "text": [
      "   Age Age Group  Height   Status  Years Married\n",
      "0   21     adult     6.0   single             -1\n",
      "1    2     child     3.0  married              0\n",
      "2   18     adult     5.7  married             20\n",
      "3  221   elderly     5.0  widowed              2\n",
      "4   34     child    -7.0  married              3 \n",
      "\n",
      "\n",
      "\n",
      "\n",
      "\n"
     ]
    },
    {
     "data": {
      "image/png": "[encoded data removed]",
      "text/plain": [
       "<Figure size 864x432 with 1 Axes>"
      ]
     },
     "metadata": {
      "needs_background": "light"
     },
     "output_type": "display_data"
    },
    {
     "data": {
      "image/png": "[encoded data removed]",
      "text/plain": [
       "<Figure size 648x504 with 1 Axes>"
      ]
     },
     "metadata": {
      "needs_background": "light"
     },
     "output_type": "display_data"
    },
    {
     "name": "stdout",
     "output_type": "stream",
     "text": [
      "\n",
      "\n",
      "\n",
      "\n",
      "\n",
      "\n",
      "Row number 0 does not violate any rule\n",
      "Row number 1 does not violate any rule\n",
      "Row number 2 violates rule number: 2\n",
      "Row number 3 violates rule number: 1\n",
      "Row number 4 violates rule number: 4\n",
      "\n",
      "\n",
      "\n",
      "\n",
      "\n",
      "\n",
      "  Age Age Group  Height   Status Years Married\n",
      "0  21     adult     6.0   single            -1\n",
      "1   2     child     3.0  married             0 \n",
      "\n",
      "\n",
      "\n"
     ]
    },
    {
     "data": {
      "text/plain": [
       "<matplotlib.axes._subplots.AxesSubplot at 0xf789c90>"
      ]
     },
     "execution_count": 49,
     "metadata": {},
     "output_type": "execute_result"
    },
    {
     "data": {
      "image/png": "[encoded data removed]",
      "text/plain": [
       "<Figure size 864x432 with 1 Axes>"
      ]
     },
     "metadata": {
      "needs_background": "light"
     },
     "output_type": "display_data"
    }
   ],
   "source": [
    "import pandas as pd\n",
    "import numpy as np\n",
    "import matplotlib.pyplot as plt\n",
    "from matplotlib.pyplot import figure\n",
    "\n",
    "people = pd.read_csv(\"people.csv\")\n",
    "print(people,'\\n'*5)\n",
    "\n",
    "people.plot(kind = 'bar', figsize = (12, 6), title = 'Plot between numeric data of a row')\n",
    "plt.show()\n",
    "\n",
    "y = np.zeros(len(people['Age']))\n",
    "y = y + 150\n",
    "\n",
    "\n",
    "plt.figure(figsize = [9.0,7.0])\n",
    "plt.plot([1,2,3,4,5],people['Age'].values,'ro')\n",
    "plt.plot([1,2,3,4,5],y,'b-')\n",
    "plt.xticks([1,2,3,4,5])\n",
    "plt.xlabel(\"Indices\")\n",
    "plt.ylabel(\"Age\")\n",
    "plt.show()\n",
    "print('\\n' * 5)\n",
    "\n",
    "df = pd.DataFrame(columns = ['Age', 'Age Group','Height','Status','Years Married'])\n",
    "\n",
    "def ruleSet(row,i):\n",
    "    if(row['Age'] < 0 or row['Age'] > 150):\n",
    "        print('Row number ' + str(i) + ' violates rule number: 1')\n",
    "        return\n",
    "    if(row['Age'] <= row['Years Married']):\n",
    "        print('Row number ' + str(i) + ' violates rule number: 2')\n",
    "        return\n",
    "    if(row['Status'] != 'single' and row['Status'] != 'married' and row['Status'] != 'widowed'):\n",
    "        print('Row number ' + str(i) + ' violates rule number: 3')\n",
    "        return\n",
    "    if(row['Age'] < 18):\n",
    "        if(row['Age Group'] != 'child'):\n",
    "            print('Row number ' + str(i) + ' violates rule number: 4')\n",
    "            return\n",
    "    elif(row['Age'] >= 18 and row['Age'] < 65):\n",
    "        if(row['Age Group'] != 'adult'):\n",
    "            print('Row number ' + str(i) + ' violates rule number: 4')\n",
    "            return\n",
    "    elif(row['Age'] >= 65):\n",
    "        if(row['Age Group'] != 'elderly'):\n",
    "            print('Row number ' + str(i) + ' violates rule number: 4')\n",
    "            return\n",
    "    print('Row number ' + str(i) + ' does not violate any rule')\n",
    "    r = list(row)\n",
    "    df.loc[len(df)] = r\n",
    "\n",
    "i = 0\n",
    "for index, row in people.iterrows():\n",
    "    ruleSet(row,i)\n",
    "    i = i + 1\n",
    "\n",
    "print('\\n' * 5)\n",
    "print(df,'\\n'* 3)\n",
    "df.plot(kind = 'bar', figsize = (12, 6), title = '')"
   ]
  },
  {
   "cell_type": "code",
   "execution_count": 16,
   "metadata": {},
   "outputs": [
    {
     "data": {
      "text/html": [
       "<div>\n",
       "<style scoped>\n",
       "    .dataframe tbody tr th:only-of-type {\n",
       "        vertical-align: middle;\n",
       "    }\n",
       "\n",
       "    .dataframe tbody tr th {\n",
       "        vertical-align: top;\n",
       "    }\n",
       "\n",
       "    .dataframe thead th {\n",
       "        text-align: right;\n",
       "    }\n",
       "</style>\n",
       "<table border=\"1\" class=\"dataframe\">\n",
       "  <thead>\n",
       "    <tr style=\"text-align: right;\">\n",
       "      <th></th>\n",
       "      <th>Age</th>\n",
       "      <th>Age Group</th>\n",
       "      <th>Height</th>\n",
       "      <th>Status</th>\n",
       "      <th>Years Married</th>\n",
       "    </tr>\n",
       "  </thead>\n",
       "  <tbody>\n",
       "    <tr>\n",
       "      <td>0</td>\n",
       "      <td>21</td>\n",
       "      <td>adult</td>\n",
       "      <td>6.0</td>\n",
       "      <td>single</td>\n",
       "      <td>-1</td>\n",
       "    </tr>\n",
       "    <tr>\n",
       "      <td>1</td>\n",
       "      <td>2</td>\n",
       "      <td>child</td>\n",
       "      <td>3.0</td>\n",
       "      <td>married</td>\n",
       "      <td>0</td>\n",
       "    </tr>\n",
       "    <tr>\n",
       "      <td>2</td>\n",
       "      <td>18</td>\n",
       "      <td>adult</td>\n",
       "      <td>5.7</td>\n",
       "      <td>married</td>\n",
       "      <td>20</td>\n",
       "    </tr>\n",
       "    <tr>\n",
       "      <td>4</td>\n",
       "      <td>34</td>\n",
       "      <td>child</td>\n",
       "      <td>-7.0</td>\n",
       "      <td>married</td>\n",
       "      <td>3</td>\n",
       "    </tr>\n",
       "  </tbody>\n",
       "</table>\n",
       "</div>"
      ],
      "text/plain": [
       "   Age Age Group  Height   Status  Years Married\n",
       "0   21     adult     6.0   single             -1\n",
       "1    2     child     3.0  married              0\n",
       "2   18     adult     5.7  married             20\n",
       "4   34     child    -7.0  married              3"
      ]
     },
     "execution_count": 16,
     "metadata": {},
     "output_type": "execute_result"
    }
   ],
   "source": [
    "people[(people['Age'] >= 0) & (people['Age'] <= 150)]"
   ]
  }
 ],
 "metadata": {
  "kernelspec": {
   "display_name": "Python 3",
   "language": "python",
   "name": "python3"
  },
  "language_info": {
   "codemirror_mode": {
    "name": "ipython",
    "version": 3
   },
   "file_extension": ".py",
   "mimetype": "text/x-python",
   "name": "python",
   "nbconvert_exporter": "python",
   "pygments_lexer": "ipython3",
   "version": "3.6.2"
  }
 },
 "nbformat": 4,
 "nbformat_minor": 2
}
