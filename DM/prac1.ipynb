{
 "cells": [
  {
   "cell_type": "code",
   "execution_count": 21,
   "metadata": {},
   "outputs": [
    {
     "name": "stdout",
     "output_type": "stream",
     "text": [
      "   Age Age Group  Height   Status  Years Married\n",
      "0   21     adult     6.0   single             -1\n",
      "1    2     child     3.0  married              0\n",
      "2   18     adult     5.7  married             20\n",
      "3  221   elderly     5.0  widowed              2\n",
      "4   34     child    -7.0  married              3 \n",
      "\n",
      "\n",
      "\n",
      "\n",
      "\n",
      "Age                  21\n",
      "Age Group         adult\n",
      "Height                6\n",
      "Status           single\n",
      "Years Married        -1\n",
      "Name: 0, dtype: object \n",
      "\n",
      "\n",
      "\n",
      "Age                    2\n",
      "Age Group          child\n",
      "Height                 3\n",
      "Status           married\n",
      "Years Married          0\n",
      "Name: 1, dtype: object \n",
      "\n",
      "\n",
      "\n"
     ]
    }
   ],
   "source": [
    "import pandas as pd\n",
    "import numpy as np\n",
    "\n",
    "people = pd.read_csv(\"people.csv\")\n",
    "p = pd.DataFrame(people)\n",
    "print(people,'\\n'*5)\n",
    "\n",
    "df = pd.DataFrame([])\n",
    "\n",
    "def check(row):\n",
    "    if(row['Age'] < 0 or row['Age'] > 150):\n",
    "        return\n",
    "    if(row['Age'] <= row['Years Married']):\n",
    "        return\n",
    "    if(row['Status'] != 'single' and row['Status'] != 'married' and row['Status'] != 'widowed'):\n",
    "        return\n",
    "    if(row['Age'] < 18):\n",
    "        if(row['Age Group'] != 'child'):\n",
    "            return\n",
    "    elif(row['Age'] >= 18 and row['Age'] < 65):\n",
    "        if(row['Age Group'] != 'adult'):\n",
    "            return\n",
    "    elif(row['Age'] >= 65):\n",
    "        if(row['Age Group'] != 'elderly'):\n",
    "            return\n",
    "    print(row,'\\n' * 3)\n",
    "#     new = pd.DataFrame(row)\n",
    "#     print(new,'\\n'*4)\n",
    "#     df.append(new,True)\n",
    "\n",
    "for index, row in people.iterrows():\n",
    "     check(row)\n",
    "\n",
    "# df.plot(kind = 'bar', figsize = (12, 6), title = '')\n"
   ]
  },
  {
   "cell_type": "code",
   "execution_count": null,
   "metadata": {},
   "outputs": [],
   "source": []
  }
 ],
 "metadata": {
  "kernelspec": {
   "display_name": "Python 3.6.2 32-bit",
   "language": "python",
   "name": "python36232bitd47103a6e5ae4c098fd049203838ad8c"
  },
  "language_info": {
   "codemirror_mode": {
    "name": "ipython",
    "version": 3
   },
   "file_extension": ".py",
   "mimetype": "text/x-python",
   "name": "python",
   "nbconvert_exporter": "python",
   "pygments_lexer": "ipython3",
   "version": "3.6.2"
  }
 },
 "nbformat": 4,
 "nbformat_minor": 2
}
