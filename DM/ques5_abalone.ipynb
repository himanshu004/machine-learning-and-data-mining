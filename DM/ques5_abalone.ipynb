{
 "cells": [
  {
   "cell_type": "markdown",
   "metadata": {},
   "source": [
    "# breast cancer dataset"
   ]
  },
  {
   "cell_type": "code",
   "execution_count": 35,
   "metadata": {},
   "outputs": [
    {
     "name": "stderr",
     "output_type": "stream",
     "text": [
      "c:\\users\\hp-r203tu\\appdata\\local\\programs\\python\\python36-32\\lib\\site-packages\\sklearn\\preprocessing\\data.py:323: DataConversionWarning: Data with input dtype uint8, float64 were all converted to float64 by MinMaxScaler.\n",
      "  return self.partial_fit(X, y)\n",
      "c:\\users\\hp-r203tu\\appdata\\local\\programs\\python\\python36-32\\lib\\site-packages\\sklearn\\model_selection\\_split.py:2179: FutureWarning: From version 0.21, test_size will always complement train_size unless both are specified.\n",
      "  FutureWarning)\n"
     ]
    }
   ],
   "source": [
    "from sklearn.model_selection import train_test_split,cross_val_predict,cross_val_score\n",
    "from sklearn.tree import DecisionTreeClassifier\n",
    "from sklearn.naive_bayes import GaussianNB\n",
    "from sklearn.neighbors import KNeighborsClassifier\n",
    "from sklearn.metrics import accuracy_score,confusion_matrix\n",
    "import pandas as pd\n",
    "import numpy as np\n",
    "from sklearn.preprocessing import MinMaxScaler \n",
    "\n",
    "mm = MinMaxScaler()\n",
    "\n",
    "df = pd.read_csv('abalone.csv')\n",
    "\n",
    "X = df.iloc[:, :-1]\n",
    "y = df.iloc[:, -1]\n",
    "\n",
    "X = pd.get_dummies(X, drop_first=True, prefix_sep='_')\n",
    "X.head()\n",
    "\n",
    "\n",
    "scaler = MinMaxScaler()\n",
    "X = scaler.fit_transform(X)\n",
    "\n",
    "X_train, X_test, y_train, y_test = train_test_split(X, y, train_size = 0.75, shuffle = False, random_state = 1)\n"
   ]
  },
  {
   "cell_type": "markdown",
   "metadata": {},
   "source": [
    "# 1. Decision Tree Classifier"
   ]
  },
  {
   "cell_type": "markdown",
   "metadata": {},
   "source": [
    "## Training data size = 0.75 and hold out method"
   ]
  },
  {
   "cell_type": "code",
   "execution_count": 36,
   "metadata": {},
   "outputs": [
    {
     "name": "stdout",
     "output_type": "stream",
     "text": [
      "Accuracy Score : 20.76555023923445\n"
     ]
    }
   ],
   "source": [
    "model = DecisionTreeClassifier(criterion = \"gini\")\n",
    "model.fit(X_train, y_train)\n",
    "\n",
    "y_predict = model.predict(X_test)\n",
    "\n",
    "dtc_hom = accuracy_score(y_test, y_predict) * 100\n",
    "dtc_hom\n",
    "# cm = pd.DataFrame(\n",
    "#     confusion_matrix(y_test, y_predict),\n",
    "#     columns = ['Predicted BENIGN', 'Predicted MALIGNANT'],\n",
    "#     index = ['True BENIGN', 'True MALIGNANT']\n",
    "# )\n",
    "\n",
    "print('Accuracy Score :',dtc_hom) \n",
    "# cm"
   ]
  },
  {
   "cell_type": "markdown",
   "metadata": {},
   "source": [
    "## Training set = 0.75 and random subsampling"
   ]
  },
  {
   "cell_type": "code",
   "execution_count": 37,
   "metadata": {},
   "outputs": [
    {
     "name": "stdout",
     "output_type": "stream",
     "text": [
      "Accuracy Score : 20.478468899521538\n"
     ]
    }
   ],
   "source": [
    "model = DecisionTreeClassifier(criterion = \"gini\",random_state = 1)\n",
    "model.fit(X_train, y_train)\n",
    "\n",
    "acc = 0\n",
    "for i in range(0,15):\n",
    "    y_predict = model.predict(X_test)\n",
    "    acc = acc + accuracy_score(y_test,y_predict) * 100\n",
    "\n",
    "dtc_rs = acc / 15\n",
    "\n",
    "# cm = pd.DataFrame(\n",
    "#     confusion_matrix(y_test, y_predict),\n",
    "#     columns = ['Predicted BENIGN', 'Predicted MALIGNANT'],\n",
    "#     index = ['True BENIGN', 'True MALIGNANT']\n",
    "# )\n",
    "\n",
    "print('Accuracy Score :',dtc_rs) \n",
    "# cm"
   ]
  },
  {
   "cell_type": "markdown",
   "metadata": {},
   "source": [
    "## Training set = 0.75 and cross-validation(k-fold)"
   ]
  },
  {
   "cell_type": "code",
   "execution_count": 38,
   "metadata": {},
   "outputs": [
    {
     "name": "stderr",
     "output_type": "stream",
     "text": [
      "c:\\users\\hp-r203tu\\appdata\\local\\programs\\python\\python36-32\\lib\\site-packages\\sklearn\\model_selection\\_split.py:652: Warning: The least populated class in y has only 1 members, which is too few. The minimum number of members in any class cannot be less than n_splits=4.\n",
      "  % (min_groups, self.n_splits)), Warning)\n"
     ]
    },
    {
     "name": "stdout",
     "output_type": "stream",
     "text": [
      "Accuracy Score : 20.47846889952153\n"
     ]
    }
   ],
   "source": [
    "model = DecisionTreeClassifier(criterion = \"gini\",random_state = 1)\n",
    "y_pred = cross_val_predict(model,X,y,cv = 4)\n",
    "\n",
    "accuracy_score(y, y_pred)\n",
    "\n",
    "dtc_cv = accuracy_score(y_test, y_predict) * 100\n",
    "\n",
    "# cm = pd.DataFrame(\n",
    "#     confusion_matrix(y_test, y_predict),\n",
    "#     columns = ['Predicted BENIGN', 'Predicted MALIGNANT'],\n",
    "#     index = ['True BENIGN', 'True MALIGNANT']\n",
    "# )\n",
    "\n",
    "print('Accuracy Score :',dtc_cv) \n",
    "# cm"
   ]
  },
  {
   "cell_type": "markdown",
   "metadata": {},
   "source": [
    "# 2. Naive Bayes Classifier"
   ]
  },
  {
   "cell_type": "markdown",
   "metadata": {},
   "source": [
    "## Training data size = 0.75 and hold out method"
   ]
  },
  {
   "cell_type": "code",
   "execution_count": 39,
   "metadata": {},
   "outputs": [
    {
     "name": "stdout",
     "output_type": "stream",
     "text": [
      "Accuracy Score : 10.334928229665072\n"
     ]
    }
   ],
   "source": [
    "model = GaussianNB()\n",
    "model.fit(X_train,y_train)\n",
    "\n",
    "y_predict = model.predict(X_test)\n",
    "\n",
    "nb_hom = accuracy_score(y_test,y_predict) * 100\n",
    "\n",
    "# cm = pd.DataFrame(\n",
    "#     confusion_matrix(y_test, y_predict),\n",
    "#     columns = ['Predicted BENIGN', 'Predicted MALIGNANT'],\n",
    "#     index = ['True BENIGN', 'True MALIGNANT']\n",
    "# )\n",
    "\n",
    "print('Accuracy Score :',nb_hom) \n",
    "# cm"
   ]
  },
  {
   "cell_type": "markdown",
   "metadata": {},
   "source": [
    "## Training data size = 0.75 and random subsampling\n"
   ]
  },
  {
   "cell_type": "code",
   "execution_count": 40,
   "metadata": {},
   "outputs": [
    {
     "name": "stdout",
     "output_type": "stream",
     "text": [
      "Accuracy Score : 10.334928229665072\n"
     ]
    }
   ],
   "source": [
    "model = GaussianNB()\n",
    "model.fit(X_train, y_train)\n",
    "\n",
    "acc = 0\n",
    "for i in range(0,15):\n",
    "    y_predict = model.predict(X_test)\n",
    "    acc = acc + accuracy_score(y_test,y_predict) * 100\n",
    "\n",
    "nb_rs = acc / 15\n",
    "\n",
    "# cm = pd.DataFrame(\n",
    "#     confusion_matrix(y_test, y_predict),\n",
    "#     columns = ['Predicted BENIGN', 'Predicted MALIGNANT'],\n",
    "#     index = ['True BENIGN', 'True MALIGNANT']\n",
    "# )\n",
    "\n",
    "print('Accuracy Score :',nb_rs) \n",
    "# cm"
   ]
  },
  {
   "cell_type": "markdown",
   "metadata": {},
   "source": [
    "# Training data size = 0.75 and cross validation(k-fold)\n"
   ]
  },
  {
   "cell_type": "code",
   "execution_count": 41,
   "metadata": {},
   "outputs": [
    {
     "name": "stdout",
     "output_type": "stream",
     "text": [
      "Accuracy Score : 10.334928229665072\n"
     ]
    },
    {
     "name": "stderr",
     "output_type": "stream",
     "text": [
      "c:\\users\\hp-r203tu\\appdata\\local\\programs\\python\\python36-32\\lib\\site-packages\\sklearn\\model_selection\\_split.py:652: Warning: The least populated class in y has only 1 members, which is too few. The minimum number of members in any class cannot be less than n_splits=4.\n",
      "  % (min_groups, self.n_splits)), Warning)\n"
     ]
    }
   ],
   "source": [
    "model = GaussianNB()\n",
    "y_pred = cross_val_predict(model,X,y,cv = 4)\n",
    "\n",
    "accuracy_score(y, y_pred)\n",
    "\n",
    "nb_cv = accuracy_score(y_test, y_predict) * 100\n",
    "\n",
    "# cm = pd.DataFrame(\n",
    "#     confusion_matrix(y_test, y_predict),\n",
    "#     columns = ['Predicted BENIGN', 'Predicted MALIGNANT'],\n",
    "#     index = ['True BENIGN', 'True MALIGNANT']\n",
    "# )\n",
    "\n",
    "print('Accuracy Score :',nb_cv) \n",
    "# cm"
   ]
  },
  {
   "cell_type": "markdown",
   "metadata": {},
   "source": [
    "# 3. K-nearest Neighbours classifier"
   ]
  },
  {
   "cell_type": "markdown",
   "metadata": {},
   "source": [
    "## 1.Training data size = 0.75,hold out method"
   ]
  },
  {
   "cell_type": "code",
   "execution_count": 42,
   "metadata": {},
   "outputs": [
    {
     "name": "stdout",
     "output_type": "stream",
     "text": [
      "Accuracy Score : 23.923444976076556\n"
     ]
    }
   ],
   "source": [
    "model = KNeighborsClassifier()\n",
    "model.fit(X_train,y_train)\n",
    "y_predict = model.predict(X_test)\n",
    "\n",
    "knn_hom = accuracy_score(y_test,y_predict) * 100\n",
    "\n",
    "# cm = pd.DataFrame(\n",
    "#     confusion_matrix(y_test, y_predict),\n",
    "#     columns = ['Predicted BENIGN', 'Predicted MALIGNANT'],\n",
    "#     index = ['True BENIGN', 'True MALIGNANT']\n",
    "# )\n",
    "\n",
    "print('Accuracy Score :',knn_hom) \n",
    "# cm"
   ]
  },
  {
   "cell_type": "markdown",
   "metadata": {},
   "source": [
    "## 2.Training data set = 0.75,random subsampling"
   ]
  },
  {
   "cell_type": "code",
   "execution_count": 43,
   "metadata": {},
   "outputs": [
    {
     "name": "stdout",
     "output_type": "stream",
     "text": [
      "Accuracy Score : 23.349282296650713\n"
     ]
    }
   ],
   "source": [
    "model = KNeighborsClassifier(n_neighbors = 7)\n",
    "model.fit(X_train,y_train)\n",
    "\n",
    "acc = 0\n",
    "for i in range(0,15):\n",
    "    y_predict = model.predict(X_test)\n",
    "    acc = acc + accuracy_score(y_test,y_predict) * 100\n",
    "\n",
    "knn_rs = acc / 15\n",
    "\n",
    "# cm = pd.DataFrame(\n",
    "#     confusion_matrix(y_test, y_predict),\n",
    "#     columns = ['Predicted BENIGN', 'Predicted MALIGNANT'],\n",
    "#     index = ['True BENIGN', 'True MALIGNANT']\n",
    "# )\n",
    "\n",
    "print('Accuracy Score :',knn_rs) \n",
    "# cm"
   ]
  },
  {
   "cell_type": "markdown",
   "metadata": {},
   "source": [
    "## 3. Training data set = 0.75,cross validation(k - fold)"
   ]
  },
  {
   "cell_type": "code",
   "execution_count": 44,
   "metadata": {},
   "outputs": [
    {
     "name": "stderr",
     "output_type": "stream",
     "text": [
      "c:\\users\\hp-r203tu\\appdata\\local\\programs\\python\\python36-32\\lib\\site-packages\\sklearn\\model_selection\\_split.py:652: Warning: The least populated class in y has only 1 members, which is too few. The minimum number of members in any class cannot be less than n_splits=4.\n",
      "  % (min_groups, self.n_splits)), Warning)\n"
     ]
    },
    {
     "name": "stdout",
     "output_type": "stream",
     "text": [
      "Accuracy Score : 23.349282296650717\n"
     ]
    }
   ],
   "source": [
    "model = KNeighborsClassifier()\n",
    "y_pred = cross_val_predict(model,X,y,cv = 4)\n",
    "\n",
    "accuracy_score(y, y_pred)\n",
    "\n",
    "knn_cv = accuracy_score(y_test, y_predict) * 100\n",
    "\n",
    "# cm = pd.DataFrame(\n",
    "#     confusion_matrix(y_test, y_predict),\n",
    "#     columns = ['Predicted BENIGN', 'Predicted MALIGNANT'],\n",
    "#     index = ['True BENIGN', 'True MALIGNANT']\n",
    "# )\n",
    "\n",
    "print('Accuracy Score :',knn_cv) \n",
    "# cm"
   ]
  },
  {
   "cell_type": "code",
   "execution_count": 45,
   "metadata": {},
   "outputs": [
    {
     "data": {
      "text/html": [
       "<div>\n",
       "<style scoped>\n",
       "    .dataframe tbody tr th:only-of-type {\n",
       "        vertical-align: middle;\n",
       "    }\n",
       "\n",
       "    .dataframe tbody tr th {\n",
       "        vertical-align: top;\n",
       "    }\n",
       "\n",
       "    .dataframe thead th {\n",
       "        text-align: right;\n",
       "    }\n",
       "</style>\n",
       "<table border=\"1\" class=\"dataframe\">\n",
       "  <thead>\n",
       "    <tr style=\"text-align: right;\">\n",
       "      <th></th>\n",
       "      <th>Decision tree</th>\n",
       "      <th>Naive Bayes</th>\n",
       "      <th>KNN</th>\n",
       "    </tr>\n",
       "  </thead>\n",
       "  <tbody>\n",
       "    <tr>\n",
       "      <th>Hold Out Method</th>\n",
       "      <td>20.765550</td>\n",
       "      <td>10.334928</td>\n",
       "      <td>23.923445</td>\n",
       "    </tr>\n",
       "    <tr>\n",
       "      <th>Random Subsampling</th>\n",
       "      <td>20.478469</td>\n",
       "      <td>10.334928</td>\n",
       "      <td>23.349282</td>\n",
       "    </tr>\n",
       "    <tr>\n",
       "      <th>Cross validation</th>\n",
       "      <td>20.478469</td>\n",
       "      <td>10.334928</td>\n",
       "      <td>23.349282</td>\n",
       "    </tr>\n",
       "  </tbody>\n",
       "</table>\n",
       "</div>"
      ],
      "text/plain": [
       "                    Decision tree  Naive Bayes        KNN\n",
       "Hold Out Method         20.765550    10.334928  23.923445\n",
       "Random Subsampling      20.478469    10.334928  23.349282\n",
       "Cross validation        20.478469    10.334928  23.349282"
      ]
     },
     "execution_count": 45,
     "metadata": {},
     "output_type": "execute_result"
    }
   ],
   "source": [
    "method1 = pd.Series({'Decision tree': dtc_hom,\n",
    "                        'Naive Bayes': nb_hom,\n",
    "                        'KNN': knn_hom})\n",
    "method2 = pd.Series({'Decision tree': dtc_rs,\n",
    "                        'Naive Bayes': nb_rs,\n",
    "                        'KNN': knn_rs})\n",
    "method3 = pd.Series({'Decision tree': dtc_cv,\n",
    "                        'Naive Bayes': nb_cv,\n",
    "                        'KNN': knn_cv})\n",
    "purchase = pd.DataFrame([method1, method2, method3], index = ['Hold Out Method', 'Random Subsampling', 'Cross validation'])\n",
    "purchase"
   ]
  }
 ],
 "metadata": {
  "kernelspec": {
   "display_name": "Python 3",
   "language": "python",
   "name": "python3"
  },
  "language_info": {
   "codemirror_mode": {
    "name": "ipython",
    "version": 3
   },
   "file_extension": ".py",
   "mimetype": "text/x-python",
   "name": "python",
   "nbconvert_exporter": "python",
   "pygments_lexer": "ipython3",
   "version": "3.6.2"
  }
 },
 "nbformat": 4,
 "nbformat_minor": 2
}
