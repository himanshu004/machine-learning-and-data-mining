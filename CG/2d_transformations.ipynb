{
 "cells": [
  {
   "cell_type": "code",
   "execution_count": null,
   "metadata": {},
   "outputs": [],
   "source": [
    "# translation\n",
    "\n",
    "import numpy as np\n",
    "\n",
    "#size = map(int,input('Enter the number of co-ordinates:'))\n",
    "mat = np.zeros(6,dtype = 'int').reshape(3,2)\n",
    "\n",
    "print('Enter the co-ordinates')\n",
    "for i in range(0,3):\n",
    "        x,y = (map(int,input().split()))\n",
    "        mat[i][0] = x\n",
    "        mat[i][1] = y\n",
    "        \n",
    "print('The matrix you entered is:')\n",
    "print(mat)\n",
    "    \n",
    "print('Enter the translation paramater:')\n",
    "t = int(input())\n",
    "\n",
    "print('The matrix after translation is:')\n",
    "print(mat + (t * mat))\n",
    "\n"
   ]
  },
  {
   "cell_type": "code",
   "execution_count": null,
   "metadata": {},
   "outputs": [],
   "source": []
  }
 ],
 "metadata": {
  "kernelspec": {
   "display_name": "Python 3.6.2 32-bit",
   "language": "python",
   "name": "python36232bitd47103a6e5ae4c098fd049203838ad8c"
  },
  "language_info": {
   "codemirror_mode": {
    "name": "ipython",
    "version": 3
   },
   "file_extension": ".py",
   "mimetype": "text/x-python",
   "name": "python",
   "nbconvert_exporter": "python",
   "pygments_lexer": "ipython3",
   "version": "3.6.2"
  }
 },
 "nbformat": 4,
 "nbformat_minor": 2
}
