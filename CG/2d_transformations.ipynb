{
 "cells": [
  {
   "cell_type": "code",
   "execution_count": null,
   "metadata": {},
   "outputs": [],
   "source": [
    "# translation\n",
    "\n",
    "import numpy as np\n",
    "import matplotlib.pyplot as plt\n",
    "\n",
    "size = int(input('Enter the number of coordinates:'))\n",
    "mat = np.zeros(2 * size,dtype = 'int').reshape(size,2)\n",
    "\n",
    "print('Enter the co-ordinates:')\n",
    "for i in range(0,size):\n",
    "        x,y = (map(int,input().split()))\n",
    "        mat[i][0] = x\n",
    "        mat[i][1] = y\n",
    "        \n",
    "print('The matrix you entered is:')\n",
    "print(mat)\n",
    "\n",
    "x = mat[:,0]\n",
    "new_x = np.append(x,x[0])\n",
    "y = mat[:,1]\n",
    "new_y = np.append(y,y[0])\n",
    "\n",
    "plt.plot(new_x,new_y,'r*--',markersize = 20,linewidth = 3)\n",
    "plt.xlabel('X axis')\n",
    "plt.ylabel('Y axis')\n",
    "plt.show()\n",
    "    \n",
    "tx = int(input('Enter tx:'))\n",
    "ty = int(input('Enter ty:'))\n",
    "t = np.array([tx,0,0,ty]).reshape(2,2)\n",
    "new_mat = mat * t\n",
    "# for i in range(0,size):\n",
    "#     mat[i][0] *= tx\n",
    "#     mat[i][1] *= ty\n",
    "print('The matrix after translation is:')\n",
    "\n",
    "print(new_mat)\n",
    "\n",
    "x = mat[:,0]\n",
    "new_x = np.append(x,x[0])\n",
    "y = mat[:,1]\n",
    "new_y = np.append(y,y[0])\n",
    "\n",
    "plt.plot(new_x,new_y,'r*--',markersize = 20,linewidth = 3)\n",
    "plt.xlabel('X axis')\n",
    "plt.ylabel('Y axis')\n",
    "plt.show()\n"
   ]
  }
 ],
 "metadata": {
  "kernelspec": {
   "display_name": "Python 3",
   "language": "python",
   "name": "python3"
  },
  "language_info": {
   "codemirror_mode": {
    "name": "ipython",
    "version": 3
   },
   "file_extension": ".py",
   "mimetype": "text/x-python",
   "name": "python",
   "nbconvert_exporter": "python",
   "pygments_lexer": "ipython3",
   "version": "3.7.4"
  }
 },
 "nbformat": 4,
 "nbformat_minor": 2
}
