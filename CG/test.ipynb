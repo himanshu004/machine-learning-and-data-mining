{
 "nbformat": 4,
 "nbformat_minor": 2,
 "metadata": {
  "language_info": {
   "name": "python",
   "codemirror_mode": {
    "name": "ipython",
    "version": 3
   },
   "version": "3.6.2-final"
  },
  "orig_nbformat": 2,
  "file_extension": ".py",
  "mimetype": "text/x-python",
  "name": "python",
  "npconvert_exporter": "python",
  "pygments_lexer": "ipython3",
  "version": 3,
  "kernelspec": {
   "name": "python36232bitd47103a6e5ae4c098fd049203838ad8c",
   "display_name": "Python 3.6.2 32-bit"
  }
 },
 "cells": [
  {
   "cell_type": "code",
   "execution_count": 39,
   "metadata": {},
   "outputs": [
    {
     "name": "stdout",
     "output_type": "stream",
     "text": "(2,)\n1\nobject\n2\n"
    }
   ],
   "source": [
    "import numpy as np\n",
    "a = np.array([['hellolnknkf','2','3',4,5,6,7],[1,4,5,6,7]])\n",
    "print((a.shape))\n",
    "\n",
    "type(a)\n",
    "print(a.ndim)\n",
    "print(a.dtype.name)\n",
    "print(a.size)"
   ]
  }
 ]
}