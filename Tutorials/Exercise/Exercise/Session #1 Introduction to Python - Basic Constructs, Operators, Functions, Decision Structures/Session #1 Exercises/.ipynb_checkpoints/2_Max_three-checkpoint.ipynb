{
 "cells": [
  {
   "cell_type": "code",
   "execution_count": 2,
   "metadata": {},
   "outputs": [
    {
     "name": "stdout",
     "output_type": "stream",
     "text": [
      "Enter first number: 67\n",
      "Enter second number: 89\n",
      "Enter third number: 98\n",
      "Maximum number is 98\n"
     ]
    }
   ],
   "source": [
    " def max2(n1, n2):\n",
    "    '''\n",
    "    Objective: To find maximum of two numbers\n",
    "    Input Parameters: n1, n2 - numeric values\n",
    "    Return Value: maximum of n1, n2 - numeric value\n",
    "    '''\n",
    "    '''\n",
    "    Approach:\n",
    "        Compare two numbers and return the maximum of two numbers.\n",
    "    '''\n",
    "    # +++ Your Code Here +++ \n",
    "        \n",
    "def max3(n1, n2, n3):\n",
    "    '''\n",
    "    Objective: To find maximum of three numbers\n",
    "    Input Parameters: n1, n2, n3 - numeric values\n",
    "    Return Value: number - numeric value\n",
    "    '''\n",
    "    '''\n",
    "    Approach:\n",
    "        Find maximum of two numbers and compare the larger with the third number\n",
    "        Use function max2\n",
    "    '''\n",
    "    return max2(max2(n1, n2), n3)\n",
    "\n",
    "def main():\n",
    "    '''\n",
    "    Objective: To find maximum of three numbers provided as input\n",
    "    by user\n",
    "    Input Parameter: None\n",
    "    Return Value: None\n",
    "    '''\n",
    "    n1 = int(input('Enter first number: '))\n",
    "    n2 = int(input('Enter second number: '))\n",
    "    n3 = int(input('Enter third number: '))\n",
    "    maximum = max3(n1, n2, n3)\n",
    "    print('Maximum number is', maximum)\n",
    "\n",
    "main()\n"
   ]
  },
  {
   "cell_type": "code",
   "execution_count": null,
   "metadata": {},
   "outputs": [],
   "source": []
  }
 ],
 "metadata": {
  "kernelspec": {
   "display_name": "Python 3",
   "language": "python",
   "name": "python3"
  },
  "language_info": {
   "codemirror_mode": {
    "name": "ipython",
    "version": 3
   },
   "file_extension": ".py",
   "mimetype": "text/x-python",
   "name": "python",
   "nbconvert_exporter": "python",
   "pygments_lexer": "ipython3",
   "version": "3.6.1"
  }
 },
 "nbformat": 4,
 "nbformat_minor": 2
}
