{
 "cells": [
  {
   "cell_type": "code",
   "execution_count": null,
   "metadata": {},
   "outputs": [],
   "source": [
    "def computeGrossSalary(basicSalary, daPercent, hraPercent):\n",
    "    '''\n",
    "    Objective: To compute gross salary given a basic salary, hra% and da%.\n",
    "    Input Parameters: basicSalary, daPercent, hraPercent - numeric\n",
    "    Return Value: grossSalary - numeric\n",
    "    '''\n",
    "    '''\n",
    "    Approach: grossSalary is calculated as the sum of basicSalary,\n",
    "    daPercent of basicSalary and hraPercent of basicSalary\n",
    "    '''\n",
    "\n",
    "    # +++ Your Code Here +++ \n",
    "    return grossSalary\n",
    "\n",
    "def main():\n",
    "    '''\n",
    "    Objective: To compute gross salary given a basic salary, grade pay, conveyance charges, hra% and da%.\n",
    "    Input Parameter: None\n",
    "    Return Value: None\n",
    "    '''\n",
    "    basicSalary = float(input('Enter Basic Salary (in rupees): '))\n",
    "    daPercent = float(input('percent of da: ')) \n",
    "    hraPercent = float(input('Percent of hra:'))\n",
    "    print('Your Gross Salary ', computeGrossSalary(basicSalary, daPercent, hraPercent))\n",
    "\n",
    "main()\n"
   ]
  },
  {
   "cell_type": "code",
   "execution_count": null,
   "metadata": {},
   "outputs": [],
   "source": []
  }
 ],
 "metadata": {
  "kernelspec": {
   "display_name": "Python 3",
   "language": "python",
   "name": "python3"
  },
  "language_info": {
   "codemirror_mode": {
    "name": "ipython",
    "version": 3
   },
   "file_extension": ".py",
   "mimetype": "text/x-python",
   "name": "python",
   "nbconvert_exporter": "python",
   "pygments_lexer": "ipython3",
   "version": "3.6.1"
  }
 },
 "nbformat": 4,
 "nbformat_minor": 2
}
