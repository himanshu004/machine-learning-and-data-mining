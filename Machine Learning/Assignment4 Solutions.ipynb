{
 "cells": [
  {
   "cell_type": "markdown",
   "metadata": {},
   "source": [
    "# Question 1 "
   ]
  },
  {
   "cell_type": "code",
   "execution_count": 1,
   "metadata": {},
   "outputs": [],
   "source": [
    "import pandas as pd\n",
    "import numpy as np\n",
    "import matplotlib.pyplot as plt\n",
    "import seaborn as snb\n",
    "from sklearn.preprocessing import MinMaxScaler,LabelEncoder, label_binarize\n",
    "from sklearn.model_selection import train_test_split\n",
    "import warnings\n",
    "warnings.filterwarnings('ignore')\n",
    "from sklearn.neural_network import MLPClassifier\n",
    "from sklearn.metrics import accuracy_score,confusion_matrix, roc_curve, auc,precision_score,recall_score\n",
    "from mnist.loader import MNIST\n"
   ]
  },
  {
   "cell_type": "code",
   "execution_count": 2,
   "metadata": {},
   "outputs": [],
   "source": [
    "df = pd.read_csv('breast_cancer.csv')\n",
    "del df['Unnamed: 32']\n",
    "x = df.iloc[:,2:]\n",
    "\n",
    "y = df['diagnosis']\n",
    "y = y.map({'M': 0, 'B': 1})\n",
    "y = y.values\n",
    "\n",
    "\n",
    "sc = MinMaxScaler()\n",
    "x = sc.fit_transform(x)\n",
    "x = np.c_[np.ones(len(x)),x]\n",
    "x_train, x_test, y_train, y_test = train_test_split(x, y, train_size = 0.7)"
   ]
  },
  {
   "cell_type": "code",
   "execution_count": 3,
   "metadata": {},
   "outputs": [],
   "source": [
    "def sigmoid(x):\n",
    "    return 1 / (1 + np.exp(-x))\n",
    "\n",
    "def train_perceptron(X,Y,alpha = 0.1,iter = 2500):\n",
    "    theta = np.random.uniform(size=(X.shape[1], 1))\n",
    "    Y = Y.reshape(Y.shape[0], 1)\n",
    "    for i in range(iter):\n",
    "        z = X @ theta\n",
    "        Y_pred = sigmoid(z)\n",
    "        error = Y - Y_pred\n",
    "        temp = alpha * error\n",
    "        theta += X.T @ temp\n",
    "    return theta\n",
    "        \n",
    "def evaluateClassifier(x,y,y_pred,y_score):\n",
    "    cm = pd.DataFrame(\n",
    "        confusion_matrix(y, y_pred),\n",
    "        columns=['Predicted Benign', 'Predicted Malignant'],\n",
    "        index=['True Benign', 'True Malignant']\n",
    "    )\n",
    "    print('\\nConfusion Matrix: \\n')\n",
    "    print(cm)\n",
    "    w1 = cm['Predicted Benign']['True Benign'] / (cm['Predicted Benign']['True Benign'] + cm['Predicted Malignant']['True Benign'])\n",
    "    w2 = cm['Predicted Malignant']['True Malignant'] / (cm['Predicted Benign']['True Malignant'] + cm['Predicted Malignant']['True Malignant'])\n",
    "    print('\\nClasswise accuracy: ')\n",
    "    print('\\nBenign: ',w1 * 100)\n",
    "    print('\\nMalignant: ',w2 * 100)\n",
    "    print('\\nAccuracy of the model:',accuracy_score(y,y_pred) * 100)\n",
    "    print('\\nPrecision of the model:',precision_score(y,y_pred,average = 'macro') * 100)\n",
    "    print('\\nRecall of the model:',recall_score(y,y_pred,average = 'macro') * 100)\n",
    "    print('\\nF1 Score of the model:',2 * recall_score(y,y_pred,average = 'macro') * precision_score(y,y_pred,average = 'macro') / (recall_score(y,y_pred,average = 'macro') + precision_score(y,y_pred,average = 'macro')) * 100)\n",
    "    \n",
    "    fpr,tpr,_ = roc_curve(y, y_score)\n",
    "    roc_auc = auc(fpr, tpr)\n",
    "    plt.plot(fpr, tpr, label = 'AUC = %0.2f' % roc_auc)        \n",
    "    plt.plot([0, 1], [0, 1], 'k--')\n",
    "    plt.xlim([0.0, 1.05])\n",
    "    plt.ylim([0, 1.05])\n",
    "    plt.xlabel('False Positive Rate')\n",
    "    plt.ylabel('True Positive Rate')\n",
    "    plt.legend()\n",
    "    plt.title('ROC curve')\n",
    "    plt.show()"
   ]
  },
  {
   "cell_type": "code",
   "execution_count": 4,
   "metadata": {},
   "outputs": [],
   "source": [
    "weights = train_perceptron(x_train,y_train)\n",
    "h_theta = sigmoid(x_test @ weights)\n"
   ]
  },
  {
   "cell_type": "code",
   "execution_count": 9,
   "metadata": {},
   "outputs": [
    {
     "name": "stdout",
     "output_type": "stream",
     "text": [
      "\n",
      "Confusion Matrix: \n",
      "\n",
      "                Predicted Benign  Predicted Malignant\n",
      "True Benign                   56                    2\n",
      "True Malignant                 1                  112\n",
      "\n",
      "Classwise accuracy: \n",
      "\n",
      "Benign:  96.55172413793103\n",
      "\n",
      "Malignant:  99.11504424778761\n",
      "\n",
      "Accuracy of the model: 98.24561403508771\n",
      "\n",
      "Precision of the model: 98.24561403508771\n",
      "\n",
      "Recall of the model: 97.83338419285931\n",
      "\n",
      "F1 Score of the model: 98.03906578494706\n"
     ]
    },
    {
     "data": {
      "image/png": "[encoded data removed]",
      "text/plain": [
       "<Figure size 432x288 with 1 Axes>"
      ]
     },
     "metadata": {
      "needs_background": "light"
     },
     "output_type": "display_data"
    }
   ],
   "source": [
    "y_probs = h_theta\n",
    "h_theta[h_theta >=  0.5] = 1\n",
    "h_theta[h_theta <  0.5] = 0\n",
    "y_probs.shape\n",
    "evaluateClassifier(x_test,y_test,h_theta,y_probs)"
   ]
  },
  {
   "cell_type": "markdown",
   "metadata": {},
   "source": [
    "# Question 2"
   ]
  },
  {
   "cell_type": "code",
   "execution_count": 6,
   "metadata": {},
   "outputs": [],
   "source": [
    "mndata = MNIST(gz=True)\n",
    "images, labels = mndata.load_training()\n",
    "x_train, y_train = np.array(images), np.array(labels)\n",
    "images, labels = mndata.load_testing()\n",
    "x_test, y_test = np.array(images), np.array(labels)\n",
    "\n",
    "x_train = x_train / 255\n",
    "x_test = x_test / 255\n",
    "\n"
   ]
  },
  {
   "cell_type": "code",
   "execution_count": 7,
   "metadata": {},
   "outputs": [],
   "source": [
    "training_acc = np.zeros(11)\n",
    "testing_acc = np.zeros(11)\n",
    "iter = 0\n",
    "for i in range(30,41): \n",
    "    mlp = MLPClassifier(hidden_layer_sizes = (i), max_iter = 10, alpha=0.001, solver='sgd', verbose=False, learning_rate_init=0.01)\n",
    "    \n",
    "    mlp.fit(x_train, y_train)\n",
    "    training_acc[iter] = mlp.score(x_train, y_train)\n",
    "    \n",
    "    mlp.fit(x_test, y_test)\n",
    "    testing_acc[iter] = mlp.score(x_test, y_test)\n",
    "    iter += 1\n"
   ]
  },
  {
   "cell_type": "code",
   "execution_count": 8,
   "metadata": {},
   "outputs": [
    {
     "data": {
      "image/png": "[encoded data removed]",
      "text/plain": [
       "<Figure size 432x288 with 1 Axes>"
      ]
     },
     "metadata": {
      "needs_background": "light"
     },
     "output_type": "display_data"
    },
    {
     "data": {
      "text/html": [
       "<div>\n",
       "<style scoped>\n",
       "    .dataframe tbody tr th:only-of-type {\n",
       "        vertical-align: middle;\n",
       "    }\n",
       "\n",
       "    .dataframe tbody tr th {\n",
       "        vertical-align: top;\n",
       "    }\n",
       "\n",
       "    .dataframe thead th {\n",
       "        text-align: right;\n",
       "    }\n",
       "</style>\n",
       "<table border=\"1\" class=\"dataframe\">\n",
       "  <thead>\n",
       "    <tr style=\"text-align: right;\">\n",
       "      <th></th>\n",
       "      <th>No. of hidden nodes</th>\n",
       "      <th>Training Accuracy</th>\n",
       "    </tr>\n",
       "  </thead>\n",
       "  <tbody>\n",
       "    <tr>\n",
       "      <th>0</th>\n",
       "      <td>30</td>\n",
       "      <td>95.418333</td>\n",
       "    </tr>\n",
       "    <tr>\n",
       "      <th>1</th>\n",
       "      <td>31</td>\n",
       "      <td>95.490000</td>\n",
       "    </tr>\n",
       "    <tr>\n",
       "      <th>2</th>\n",
       "      <td>32</td>\n",
       "      <td>95.545000</td>\n",
       "    </tr>\n",
       "    <tr>\n",
       "      <th>3</th>\n",
       "      <td>33</td>\n",
       "      <td>95.516667</td>\n",
       "    </tr>\n",
       "    <tr>\n",
       "      <th>4</th>\n",
       "      <td>34</td>\n",
       "      <td>95.790000</td>\n",
       "    </tr>\n",
       "    <tr>\n",
       "      <th>5</th>\n",
       "      <td>35</td>\n",
       "      <td>95.616667</td>\n",
       "    </tr>\n",
       "    <tr>\n",
       "      <th>6</th>\n",
       "      <td>36</td>\n",
       "      <td>95.401667</td>\n",
       "    </tr>\n",
       "    <tr>\n",
       "      <th>7</th>\n",
       "      <td>37</td>\n",
       "      <td>95.878333</td>\n",
       "    </tr>\n",
       "    <tr>\n",
       "      <th>8</th>\n",
       "      <td>38</td>\n",
       "      <td>95.493333</td>\n",
       "    </tr>\n",
       "    <tr>\n",
       "      <th>9</th>\n",
       "      <td>39</td>\n",
       "      <td>95.636667</td>\n",
       "    </tr>\n",
       "    <tr>\n",
       "      <th>10</th>\n",
       "      <td>40</td>\n",
       "      <td>95.813333</td>\n",
       "    </tr>\n",
       "  </tbody>\n",
       "</table>\n",
       "</div>"
      ],
      "text/plain": [
       "    No. of hidden nodes  Training Accuracy\n",
       "0                    30          95.418333\n",
       "1                    31          95.490000\n",
       "2                    32          95.545000\n",
       "3                    33          95.516667\n",
       "4                    34          95.790000\n",
       "5                    35          95.616667\n",
       "6                    36          95.401667\n",
       "7                    37          95.878333\n",
       "8                    38          95.493333\n",
       "9                    39          95.636667\n",
       "10                   40          95.813333"
      ]
     },
     "execution_count": 8,
     "metadata": {},
     "output_type": "execute_result"
    }
   ],
   "source": [
    "plt.plot(range(30,41),training_acc * 100,'b-')\n",
    "plt.xlabel('No. of hidden layer nodes')\n",
    "plt.ylabel('Accuracy')\n",
    "plt.title('Training accuracy v/s no. of hidden nodes')\n",
    "plt.show()\n",
    "s = pd.Series(training_acc * 100,range(30,41))\n",
    "df = pd.DataFrame({'No. of hidden nodes':s.index, 'Training Accuracy':s.values})\n",
    "df\n"
   ]
  },
  {
   "cell_type": "code",
   "execution_count": 9,
   "metadata": {},
   "outputs": [
    {
     "data": {
      "image/png": "[encoded data removed]",
      "text/plain": [
       "<Figure size 432x288 with 1 Axes>"
      ]
     },
     "metadata": {
      "needs_background": "light"
     },
     "output_type": "display_data"
    },
    {
     "data": {
      "text/html": [
       "<div>\n",
       "<style scoped>\n",
       "    .dataframe tbody tr th:only-of-type {\n",
       "        vertical-align: middle;\n",
       "    }\n",
       "\n",
       "    .dataframe tbody tr th {\n",
       "        vertical-align: top;\n",
       "    }\n",
       "\n",
       "    .dataframe thead th {\n",
       "        text-align: right;\n",
       "    }\n",
       "</style>\n",
       "<table border=\"1\" class=\"dataframe\">\n",
       "  <thead>\n",
       "    <tr style=\"text-align: right;\">\n",
       "      <th></th>\n",
       "      <th>No. of hidden nodes</th>\n",
       "      <th>Testing Accuracy</th>\n",
       "    </tr>\n",
       "  </thead>\n",
       "  <tbody>\n",
       "    <tr>\n",
       "      <th>0</th>\n",
       "      <td>30</td>\n",
       "      <td>92.68</td>\n",
       "    </tr>\n",
       "    <tr>\n",
       "      <th>1</th>\n",
       "      <td>31</td>\n",
       "      <td>92.74</td>\n",
       "    </tr>\n",
       "    <tr>\n",
       "      <th>2</th>\n",
       "      <td>32</td>\n",
       "      <td>92.82</td>\n",
       "    </tr>\n",
       "    <tr>\n",
       "      <th>3</th>\n",
       "      <td>33</td>\n",
       "      <td>92.42</td>\n",
       "    </tr>\n",
       "    <tr>\n",
       "      <th>4</th>\n",
       "      <td>34</td>\n",
       "      <td>92.43</td>\n",
       "    </tr>\n",
       "    <tr>\n",
       "      <th>5</th>\n",
       "      <td>35</td>\n",
       "      <td>92.71</td>\n",
       "    </tr>\n",
       "    <tr>\n",
       "      <th>6</th>\n",
       "      <td>36</td>\n",
       "      <td>92.68</td>\n",
       "    </tr>\n",
       "    <tr>\n",
       "      <th>7</th>\n",
       "      <td>37</td>\n",
       "      <td>92.41</td>\n",
       "    </tr>\n",
       "    <tr>\n",
       "      <th>8</th>\n",
       "      <td>38</td>\n",
       "      <td>93.06</td>\n",
       "    </tr>\n",
       "    <tr>\n",
       "      <th>9</th>\n",
       "      <td>39</td>\n",
       "      <td>93.01</td>\n",
       "    </tr>\n",
       "    <tr>\n",
       "      <th>10</th>\n",
       "      <td>40</td>\n",
       "      <td>93.02</td>\n",
       "    </tr>\n",
       "  </tbody>\n",
       "</table>\n",
       "</div>"
      ],
      "text/plain": [
       "    No. of hidden nodes  Testing Accuracy\n",
       "0                    30             92.68\n",
       "1                    31             92.74\n",
       "2                    32             92.82\n",
       "3                    33             92.42\n",
       "4                    34             92.43\n",
       "5                    35             92.71\n",
       "6                    36             92.68\n",
       "7                    37             92.41\n",
       "8                    38             93.06\n",
       "9                    39             93.01\n",
       "10                   40             93.02"
      ]
     },
     "execution_count": 9,
     "metadata": {},
     "output_type": "execute_result"
    }
   ],
   "source": [
    "plt.plot(range(30,41),testing_acc * 100,'b-')\n",
    "plt.xlabel('No. of hidden layer nodes')\n",
    "plt.ylabel('Accuracy')\n",
    "plt.title('Testing accuracy v/s no. of hidden nodes')\n",
    "plt.show()\n",
    "testing_acc * 100\n",
    "\n",
    "s = pd.Series(testing_acc * 100,range(30,41))\n",
    "df = pd.DataFrame({'No. of hidden nodes':s.index, 'Testing Accuracy':s.values})\n",
    "df\n"
   ]
  },
  {
   "cell_type": "markdown",
   "metadata": {},
   "source": [
    "## Since the maximum testing accuracy is with 40 hidden nodes, we will use 40 nodes in the hidden layer for classification."
   ]
  },
  {
   "cell_type": "code",
   "execution_count": 10,
   "metadata": {},
   "outputs": [],
   "source": [
    "mlp = MLPClassifier(hidden_layer_sizes = (40), max_iter = 10, alpha=0.001, solver='sgd', verbose=False, learning_rate_init=0.01)\n",
    "mlp.fit(x_train,y_train)\n",
    "h_theta = mlp.predict(x_test)\n",
    "y_probs = mlp.predict_proba(x_test)\n"
   ]
  },
  {
   "cell_type": "code",
   "execution_count": 11,
   "metadata": {},
   "outputs": [
    {
     "name": "stdout",
     "output_type": "stream",
     "text": [
      "\n",
      "Accuracy of the model: 95.54\n",
      "\n",
      "Precision of the model: 95.53324933112116\n",
      "\n",
      "Recall of the model: 95.48812561966062\n",
      "\n",
      "F1 Score of the model: 95.51068214575346\n"
     ]
    }
   ],
   "source": [
    "print('\\nAccuracy of the model:',accuracy_score(y_test,h_theta) * 100)\n",
    "print('\\nPrecision of the model:',precision_score(y_test,h_theta,average = 'macro') * 100)\n",
    "print('\\nRecall of the model:',recall_score(y_test,h_theta,average = 'macro') * 100)\n",
    "print('\\nF1 Score of the model:',2 * recall_score(y_test,h_theta,average = 'macro') * precision_score(y_test,h_theta,average = 'macro') / (recall_score(y_test,h_theta,average = 'macro') + precision_score(y_test,h_theta,average = 'macro')) * 100)\n"
   ]
  },
  {
   "cell_type": "code",
   "execution_count": 12,
   "metadata": {},
   "outputs": [
    {
     "data": {
      "image/png": "[encoded data removed]",
      "text/plain": [
       "<Figure size 432x288 with 1 Axes>"
      ]
     },
     "metadata": {
      "needs_background": "light"
     },
     "output_type": "display_data"
    }
   ],
   "source": [
    "\n",
    "classes = range(10)\n",
    "probabs = y_probs\n",
    "y_test2 = label_binarize(y_test, classes)\n",
    "for i in range(10):\n",
    "    preds = probabs[:,i]    \n",
    "    fpr, tpr, threshold = roc_curve(y_test2[:, i], preds)\n",
    "    roc_auc = auc(fpr, tpr)\n",
    "    plt.title('Receiver Operating Characteristic')\n",
    "    plt.plot(fpr, tpr, 'b', label = 'Class ' + str(i + 1))\n",
    "    plt.legend(loc = 'lower right')\n",
    "    plt.ylabel('True Positive Rate')\n",
    "    plt.xlabel('False Positive Rate')\n",
    "plt.show()\n"
   ]
  }
 ],
 "metadata": {
  "kernelspec": {
   "display_name": "Python 3",
   "language": "python",
   "name": "python3"
  },
  "language_info": {
   "codemirror_mode": {
    "name": "ipython",
    "version": 3
   },
   "file_extension": ".py",
   "mimetype": "text/x-python",
   "name": "python",
   "nbconvert_exporter": "python",
   "pygments_lexer": "ipython3",
   "version": "3.7.1"
  }
 },
 "nbformat": 4,
 "nbformat_minor": 4
}
