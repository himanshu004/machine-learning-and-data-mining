{
  "nbformat": 4,
  "nbformat_minor": 0,
  "metadata": {
    "colab": {
      "name": "kmeans.ipynb",
      "version": "0.3.2",
      "provenance": [],
      "collapsed_sections": []
    },
    "kernelspec": {
      "name": "python3",
      "display_name": "Python 3"
    }
  },
  "cells": [
    {
      "metadata": {
        "id": "nkyuKZLF73rT",
        "colab_type": "text"
      },
      "cell_type": "markdown",
      "source": [
        "# **K-Means Clustering in Python **\n",
        "For this tutorial, you will need the following **Python packages:**\n",
        "\n",
        "*   [numpy](http://www.numpy.org/)\n",
        "*   [scikit-learn](https://scikit-learn.org/stable/index.html)\n",
        "*   [matplotlib](https://matplotlib.org/index.html)\n",
        "*   [pandas](https://pandas.pydata.org/)\n",
        "\n",
        "---\n",
        "\n",
        "# **Import Libraries**\n",
        "Let's start our script by first importing the required libraries:\n",
        "\n"
      ]
    },
    {
      "metadata": {
        "id": "AnDNoAj6Hnww",
        "colab_type": "code",
        "colab": {}
      },
      "cell_type": "code",
      "source": [
        "import numpy as np\n",
        "from sklearn.cluster import KMeans\n",
        "import matplotlib.pyplot as plt"
      ],
      "execution_count": 0,
      "outputs": []
    },
    {
      "metadata": {
        "id": "GWdd3Q-XH0gF",
        "colab_type": "text"
      },
      "cell_type": "markdown",
      "source": [
        "# **Prepare data**\n",
        "The next step is to prepare the data that we want to cluster. Let's create a numpy array of 15 rows and 2 columns. We create a numpy array of data points because the Scikit-Learn library can work with numpy array type data inputs without requiring any preprocessing."
      ]
    },
    {
      "metadata": {
        "id": "u4IbpOKPIZu6",
        "colab_type": "code",
        "colab": {}
      },
      "cell_type": "code",
      "source": [
        "data = np.array([[5,3], [7,10], [20,21], [30,25], [10,15], [15,12], [24,10], [30,45], [85,70], [62,67], [71,80], [70,60], [60,78], [55,52], [80,91],])"
      ],
      "execution_count": 0,
      "outputs": []
    },
    {
      "metadata": {
        "id": "AIe6YLNVIjlC",
        "colab_type": "text"
      },
      "cell_type": "markdown",
      "source": [
        "# **Visualize the Data**"
      ]
    },
    {
      "metadata": {
        "id": "b9iiH6ktIm_d",
        "colab_type": "code",
        "colab": {}
      },
      "cell_type": "code",
      "source": [
        "plt.scatter(data[:,0],data[:,1])\n",
        "plt.show()"
      ],
      "execution_count": 0,
      "outputs": []
    },
    {
      "metadata": {
        "id": "D0kwMjg8I1hY",
        "colab_type": "text"
      },
      "cell_type": "markdown",
      "source": [
        "# **Create Clusters**\n",
        "To create a K-means cluster with two clusters, simply type the following script:"
      ]
    },
    {
      "metadata": {
        "id": "sdpzMQtMJCwj",
        "colab_type": "code",
        "colab": {}
      },
      "cell_type": "code",
      "source": [
        "km = KMeans(n_clusters=2)\n",
        "km.fit(data)"
      ],
      "execution_count": 0,
      "outputs": []
    },
    {
      "metadata": {
        "id": "iCLtP8m-JYu5",
        "colab_type": "text"
      },
      "cell_type": "markdown",
      "source": [
        " In the first line, you create a** KMeans object** and pass it **2 **as value for** n_clusters** parameter. \n",
        " \n",
        " Next, you simply have to call the **fit method** on** kmeans** and pass the **data** that you want to cluster.\n",
        "\n",
        "---\n",
        "\n"
      ]
    },
    {
      "metadata": {
        "id": "8IotnIlTKXbd",
        "colab_type": "text"
      },
      "cell_type": "markdown",
      "source": [
        "**Now let's see what centroid values the algorithm generated for the final clusters. **"
      ]
    },
    {
      "metadata": {
        "id": "pT3BbXfZKaxQ",
        "colab_type": "code",
        "colab": {}
      },
      "cell_type": "code",
      "source": [
        "print(km.cluster_centers_) "
      ],
      "execution_count": 0,
      "outputs": []
    },
    {
      "metadata": {
        "id": "eM7ZEb1gKePM",
        "colab_type": "text"
      },
      "cell_type": "markdown",
      "source": [
        "The output will be a two dimensional array of shape 2 x 2 (since we passed n_cluster parameter as = 2). \n",
        "\n",
        "---\n",
        "\n"
      ]
    },
    {
      "metadata": {
        "id": "_F7lG0f1Kslf",
        "colab_type": "text"
      },
      "cell_type": "markdown",
      "source": [
        "**To see the labels for the data point, execute the following script.**"
      ]
    },
    {
      "metadata": {
        "id": "K9l5NoUDKx5_",
        "colab_type": "code",
        "colab": {}
      },
      "cell_type": "code",
      "source": [
        "print(km.labels_) "
      ],
      "execution_count": 0,
      "outputs": []
    },
    {
      "metadata": {
        "id": "y6Nchm07K-VR",
        "colab_type": "text"
      },
      "cell_type": "markdown",
      "source": [
        "The output is a one dimensional array of 15 elements corresponding to the clusters assigned to our 15 data points.\n",
        "\n",
        "(Here 0 and 1 are merely used to represent cluster IDs and have no mathematical significance. If there were three clusters, the third cluster would have been represented by digit 2.)\n",
        "\n",
        "---\n",
        "\n"
      ]
    },
    {
      "metadata": {
        "id": "Kogb8eIZLyrU",
        "colab_type": "text"
      },
      "cell_type": "markdown",
      "source": [
        "**Let's plot the data points again on the graph and visualize how the data has been clustered.** \n",
        "\n",
        "This time we will plot the data along with their assigned label so that we can distinguish between the clusters. Execute the following script:"
      ]
    },
    {
      "metadata": {
        "id": "pVvArHgHL0VO",
        "colab_type": "code",
        "colab": {}
      },
      "cell_type": "code",
      "source": [
        "plt.scatter(data[:,0],data[:,1], c=km.labels_, cmap='rainbow')  \n",
        "plt.show()"
      ],
      "execution_count": 0,
      "outputs": []
    },
    {
      "metadata": {
        "id": "tw3S320QL_5I",
        "colab_type": "text"
      },
      "cell_type": "markdown",
      "source": [
        "Here we are plotting the first column of the data array against the second column, however in this case we are also passing km.labels_ as value for the c parameter that corresponds to labels. The cmap='rainbow' parameter is passed for choosing the color type for the different data points. \n",
        "\n",
        "---\n",
        "\n",
        "\n",
        "\n"
      ]
    },
    {
      "metadata": {
        "id": "MuLDvjS2MLrE",
        "colab_type": "text"
      },
      "cell_type": "markdown",
      "source": [
        "Now let's** plot the points along with the centroid coordinates of each cluster to see how the centroid positions effects clustering.**"
      ]
    },
    {
      "metadata": {
        "id": "TV5ixyAZMM0R",
        "colab_type": "code",
        "colab": {}
      },
      "cell_type": "code",
      "source": [
        "plt.scatter(data[:,0], data[:,1], c=km.labels_, cmap='rainbow')  \n",
        "plt.scatter(km.cluster_centers_[:,0] ,km.cluster_centers_[:,1], color='black',marker=\"x\")  \n",
        "plt.show()"
      ],
      "execution_count": 0,
      "outputs": []
    },
    {
      "metadata": {
        "id": "Jsq_s7TsxMtz",
        "colab_type": "text"
      },
      "cell_type": "markdown",
      "source": [
        "**Compute Inter-Cluster Distance:**"
      ]
    },
    {
      "metadata": {
        "id": "oIDiobNAob38",
        "colab_type": "code",
        "colab": {}
      },
      "cell_type": "code",
      "source": [
        "from sklearn.metrics.pairwise import euclidean_distances"
      ],
      "execution_count": 0,
      "outputs": []
    },
    {
      "metadata": {
        "id": "lrj6ZYjiusY5",
        "colab_type": "code",
        "colab": {}
      },
      "cell_type": "code",
      "source": [
        "print(\"->Coordinates of Centroid:\\n\",km.cluster_centers_)\n",
        "\n",
        "dists = euclidean_distances(km.cluster_centers_)\n",
        "print(\"\\n->Distance between Centroids of two Clusters:\\n\",dists)\n",
        "\n",
        "tri_dists = dists[np.triu_indices(2, 1)]\n",
        "max_dist, avg_dist, min_dist = tri_dists.max(), tri_dists.mean(), tri_dists.min()\n",
        "\n",
        "print(\"\\n->Maximum Distance:\",max_dist)\n",
        "print(\"->Average Distance:\",avg_dist)\n",
        "print(\"->Minimum Distance:\",min_dist)"
      ],
      "execution_count": 0,
      "outputs": []
    },
    {
      "metadata": {
        "id": "U18cwI3YoFU5",
        "colab_type": "text"
      },
      "cell_type": "markdown",
      "source": [
        "**Compute Intra-Cluster Distance:**"
      ]
    },
    {
      "metadata": {
        "id": "QBTpVbe9oXdu",
        "colab_type": "code",
        "colab": {}
      },
      "cell_type": "code",
      "source": [
        "print(\"->Coordinates of Centroid:\\n\",km.cluster_centers_)\n",
        "distances = []\n",
        "for i, centroid in enumerate(km.cluster_centers_):\n",
        "    data_array = []\n",
        "    print(\"\\n->Coordinates of Centroid \",i,\":\",centroid)\n",
        "    for (x,y) in data[km.labels_ == i]:\n",
        "      data_array.append([x,y])\n",
        "    \n",
        "    print(\"->Data points in Cluster\",i,\":\", data_array)\n",
        "    \n",
        "    mean_distance = euclidean_distances(data_array,[centroid])\n",
        "    print(\"->Distance between all points and centroid in cluster\",i,\":\\n\",mean_distance)\n",
        "    distances.append(mean_distance)\n",
        "    print(\"################################################################################\")\n",
        "  \n",
        "print(\"\\n***Distances=\\n\",distances)"
      ],
      "execution_count": 0,
      "outputs": []
    },
    {
      "metadata": {
        "id": "0P7H5Qtf82WO",
        "colab_type": "text"
      },
      "cell_type": "markdown",
      "source": [
        "# **A simple case study of K-Means in Python:**\n",
        "\n",
        "\n",
        "\n",
        "## > **Dataset loading utilities**\n",
        "\n",
        "The [sklearn.datasets](https://scikit-learn.org/stable/datasets/index.html).package embeds some small toy datasets.\n",
        "\n",
        "\n",
        "##> **Toy datasets**\n",
        "Scikit-learn comes with a few small standard datasets that do not require to download any file from some external website.\n",
        "\n",
        "They can be loaded using the following functions:\n",
        "\n",
        "**load_boston([return_X_y])**\tLoad and return the boston house-prices dataset (regression).\n",
        "\n",
        "**load_iris([return_X_y])**\tLoad and return the iris dataset (classification).\n",
        "\n",
        "**load_diabetes([return_X_y])**\tLoad and return the diabetes dataset (regression).\n",
        "\n",
        "**load_digits([n_class, return_X_y])**\tLoad and return the digits dataset (classification).\n",
        "\n",
        "**load_linnerud([return_X_y])**\tLoad and return the linnerud dataset (multivariate regression).\n",
        "\n",
        "**load_wine([return_X_y])**\tLoad and return the wine dataset (classification).\n",
        "\n",
        "**load_breast_cancer([return_X_y])**\tLoad and return the breast cancer wisconsin dataset (classification).\n",
        "\n"
      ]
    },
    {
      "metadata": {
        "id": "eBSk7CpPRDBI",
        "colab_type": "code",
        "colab": {}
      },
      "cell_type": "code",
      "source": [
        "from sklearn import datasets"
      ],
      "execution_count": 0,
      "outputs": []
    },
    {
      "metadata": {
        "id": "NP5qglX1UUZV",
        "colab_type": "text"
      },
      "cell_type": "markdown",
      "source": [
        "For the implementation part, we will be using **Iris dataset** available at Sklearn Library."
      ]
    },
    {
      "metadata": {
        "id": "4SlDvkFSRFns",
        "colab_type": "text"
      },
      "cell_type": "markdown",
      "source": [
        "# **Iris plants dataset:**\n",
        "\n",
        "**Data Set Characteristics:**\n",
        "\n",
        "> * **Number of Instances:** 150 (50 in each of three classes)\n",
        "\n",
        ">* **Number of Attributes:** 4 numeric, predictive attributes and the class\n",
        "\n",
        ">* **Attribute Information:**\n",
        " \t\n",
        ">>  * sepal length in cm\n",
        ">>  * sepal width in cm\n",
        ">>  * petal length in cm\n",
        ">>  * petal width in cm\n",
        "\n",
        ">* **class:**\n",
        ">>  * Iris-Setosa\n",
        ">>  * Iris-Versicolour\n",
        ">>  * Iris-Virginica"
      ]
    },
    {
      "metadata": {
        "id": "U75d_zwASwA2",
        "colab_type": "code",
        "colab": {}
      },
      "cell_type": "code",
      "source": [
        "iris = datasets.load_iris()\n",
        "df = iris.data[:, :2]  # we only take the first two features."
      ],
      "execution_count": 0,
      "outputs": []
    },
    {
      "metadata": {
        "id": "fwGPiJ9Qu8Xc",
        "colab_type": "code",
        "colab": {}
      },
      "cell_type": "code",
      "source": [
        "#plotting\n",
        "plt.scatter(df[:,0],df[:,1])\n",
        "plt.xlabel('Sepal Length')\n",
        "plt.ylabel('Sepal Width')\n",
        "plt.show()"
      ],
      "execution_count": 0,
      "outputs": []
    },
    {
      "metadata": {
        "id": "TZa19N9qTMmc",
        "colab_type": "code",
        "colab": {}
      },
      "cell_type": "code",
      "source": [
        "#KMeans\n",
        "km_iris = KMeans(n_clusters=4)\n",
        "km_iris.fit(df)\n",
        "\n",
        "print(\"Cluster Centers:\\n\",km_iris.cluster_centers_)"
      ],
      "execution_count": 0,
      "outputs": []
    },
    {
      "metadata": {
        "id": "xZywASRHPKZq",
        "colab_type": "code",
        "colab": {}
      },
      "cell_type": "code",
      "source": [
        "#Plotting\n",
        "plt.scatter(df[:,0],df[:,1], c=km_iris.labels_, cmap='rainbow')  \n",
        "plt.scatter(km_iris.cluster_centers_[:,0] ,km_iris.cluster_centers_[:,1], color='black',marker=\"X\")\n",
        "\n",
        "plt.title(\"K Means\", fontsize=14)\n",
        "plt.xlabel('Sepal Length')\n",
        "plt.ylabel('Sepal Width')\n",
        "plt.show()"
      ],
      "execution_count": 0,
      "outputs": []
    },
    {
      "metadata": {
        "id": "UJ-Sb2eiqgiE",
        "colab_type": "text"
      },
      "cell_type": "markdown",
      "source": [
        " **Compute Inter-cluster Distance:**"
      ]
    },
    {
      "metadata": {
        "colab_type": "code",
        "id": "zFTSbavWs9t8",
        "colab": {}
      },
      "cell_type": "code",
      "source": [
        "from sklearn.metrics.pairwise import euclidean_distances"
      ],
      "execution_count": 0,
      "outputs": []
    },
    {
      "metadata": {
        "colab_type": "code",
        "id": "xHbh0rU_s9uD",
        "colab": {}
      },
      "cell_type": "code",
      "source": [
        "print(\"->Coordinates of Centroid:\\n\",km_iris.cluster_centers_)\n",
        "\n",
        "dists = euclidean_distances(km_iris.cluster_centers_)\n",
        "print(\"\\n->Distance between Centroids of two Clusters:\\n\",dists)\n",
        "\n",
        "tri_dists = dists[np.triu_indices(4, 1)]\n",
        "max_dist, avg_dist, min_dist = tri_dists.max(), tri_dists.mean(), tri_dists.min()\n",
        "\n",
        "print(\"\\n->Maximum Distance:\",max_dist)\n",
        "print(\"->Average Distance:\",avg_dist)\n",
        "print(\"->Minimum Distance:\",min_dist)"
      ],
      "execution_count": 0,
      "outputs": []
    },
    {
      "metadata": {
        "id": "5nsUX8ButJQZ",
        "colab_type": "text"
      },
      "cell_type": "markdown",
      "source": [
        "**Computer Intra-cluster Distance:**"
      ]
    },
    {
      "metadata": {
        "colab_type": "code",
        "id": "3bAm0iLms9uJ",
        "colab": {}
      },
      "cell_type": "code",
      "source": [
        "print(\"->Coordinates of Centroid:\\n\",km_iris.cluster_centers_)\n",
        "distances = []\n",
        "for i, centroid in enumerate(km_iris.cluster_centers_):\n",
        "    data_array = []\n",
        "    print(\"\\n->Coordinates of Centroid \",i,\":\",centroid)\n",
        "    for (x,y) in df[km_iris.labels_ == i]:\n",
        "      data_array.append([x,y])\n",
        "    \n",
        "    print(\"->Data points in Cluster\",i,\":\", data_array)\n",
        "    \n",
        "    mean_distance = euclidean_distances(data_array,[centroid])\n",
        "    print(\"->Distance between all points and centroid in cluster\",i,\":\\n\",mean_distance)\n",
        "    distances.append(mean_distance)\n",
        "    print(\"################################################################################\")\n",
        "  \n",
        "print(\"\\n***Distances=\\n\",distances)"
      ],
      "execution_count": 0,
      "outputs": []
    },
    {
      "metadata": {
        "id": "r_RIDvlHTRzs",
        "colab_type": "text"
      },
      "cell_type": "markdown",
      "source": [
        "\n",
        "\n",
        "---\n",
        "\n"
      ]
    },
    {
      "metadata": {
        "id": "mXUXbFSl3EP-",
        "colab_type": "text"
      },
      "cell_type": "markdown",
      "source": [
        "# **Example: Applying K-Means Clustering To Delivery Fleet Data:**\n",
        "\n",
        "We'll only be looking at **two driver features**: \n",
        "> * mean distance driven per day and\n",
        "\n",
        "> * the mean percentage of time a driver was >5 mph over the speed limit.\n",
        "\n",
        "In this example, we will fed **4000 records of drivers data** into K-Means algorithm  and cluster data based on similarities between each data point,** identify the groups of drivers with distinct features based on distance and speed.**\n",
        "\n"
      ]
    },
    {
      "metadata": {
        "id": "VNbxVF5DStXM",
        "colab_type": "text"
      },
      "cell_type": "markdown",
      "source": [
        "**Importing and Preparing Data :**"
      ]
    },
    {
      "metadata": {
        "id": "hJ6bBy2u3Czy",
        "colab_type": "code",
        "outputId": "d7263996-65e0-4a9f-d9f9-5014ded30aa0",
        "colab": {
          "resources": {
            "http://localhost:8080/nbextensions/google.colab/files.js": {
              "data": "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",
              "ok": true,
              "headers": [
                [
                  "content-type",
                  "application/javascript"
                ]
              ],
              "status": 200,
              "status_text": ""
            }
          },
          "base_uri": "https://localhost:8080/",
          "height": 75
        }
      },
      "cell_type": "code",
      "source": [
        "import pandas as pd\n",
        "\n",
        "from google.colab import files\n",
        "uploaded = files.upload()"
      ],
      "execution_count": 0,
      "outputs": [
        {
          "output_type": "display_data",
          "data": {
            "text/html": [
              "\n",
              "     <input type=\"file\" id=\"files-4515b652-8fc9-4452-8b0c-778d8bdd1a54\" name=\"files[]\" multiple disabled />\n",
              "     <output id=\"result-4515b652-8fc9-4452-8b0c-778d8bdd1a54\">\n",
              "      Upload widget is only available when the cell has been executed in the\n",
              "      current browser session. Please rerun this cell to enable.\n",
              "      </output>\n",
              "      <script src=\"/nbextensions/google.colab/files.js\"></script> "
            ],
            "text/plain": [
              "<IPython.core.display.HTML object>"
            ]
          },
          "metadata": {
            "tags": []
          }
        },
        {
          "output_type": "stream",
          "text": [
            "Saving driver_data.csv to driver_data.csv\n"
          ],
          "name": "stdout"
        }
      ]
    },
    {
      "metadata": {
        "id": "9hdDyMvW8Rjk",
        "colab_type": "code",
        "colab": {}
      },
      "cell_type": "code",
      "source": [
        "import io\n",
        "\n",
        "dataset = pd.read_csv(io.StringIO(uploaded['driver_data.csv'].decode('utf-8')))\n",
        "dataset"
      ],
      "execution_count": 0,
      "outputs": []
    },
    {
      "metadata": {
        "id": "C8QQHkAk8d5r",
        "colab_type": "code",
        "colab": {}
      },
      "cell_type": "code",
      "source": [
        "f1=dataset['Distance_Feature'].values\n",
        "f2=dataset['Speeding_Feature'].values\n",
        "X=np.array(list(zip(f1,f2)))\n",
        "print(X)"
      ],
      "execution_count": 0,
      "outputs": []
    },
    {
      "metadata": {
        "id": "qCtYJNP39VkS",
        "colab_type": "code",
        "outputId": "75fcb5a4-d9fb-4a8b-dba7-78b280ac9e41",
        "colab": {
          "base_uri": "https://localhost:8080/",
          "height": 361
        }
      },
      "cell_type": "code",
      "source": [
        "#plotting\n",
        "plt.scatter(X[:,0],X[:,1])\n",
        "plt.xlabel('Distance Feature')\n",
        "plt.ylabel('Speed Feature')\n",
        "plt.show()"
      ],
      "execution_count": 0,
      "outputs": [
        {
          "output_type": "display_data",
          "data": {
            "image/png": "[encoded data removed]",
            "text/plain": [
              "<Figure size 576x396 with 1 Axes>"
            ]
          },
          "metadata": {
            "tags": []
          }
        }
      ]
    },
    {
      "metadata": {
        "id": "UOI9z02iOlCT",
        "colab_type": "text"
      },
      "cell_type": "markdown",
      "source": [
        "The chart above shows the dataset for 4,000 drivers, with the distance feature on the x-axis and speeding feature on the y-axis."
      ]
    },
    {
      "metadata": {
        "colab_type": "code",
        "id": "XPXVaBK9Ldl1",
        "colab": {}
      },
      "cell_type": "code",
      "source": [
        "#KMeans\n",
        "km_driver = KMeans(n_clusters=4)\n",
        "km_driver.fit(X)\n",
        "\n",
        "print(\"Cluster Centers:\\n\",km_driver.cluster_centers_)"
      ],
      "execution_count": 0,
      "outputs": []
    },
    {
      "metadata": {
        "colab_type": "code",
        "id": "X_qOjk5gLdmD",
        "outputId": "e955b9a2-a39c-4256-81e0-243b75b0cdb2",
        "colab": {
          "base_uri": "https://localhost:8080/",
          "height": 378
        }
      },
      "cell_type": "code",
      "source": [
        "#Plotting\n",
        "plt.scatter(X[:,0],X[:,1], c=km_driver.labels_, cmap='rainbow')  \n",
        "plt.scatter(km_driver.cluster_centers_[:,0] ,km_driver.cluster_centers_[:,1], color='black',marker=\"X\")\n",
        "\n",
        "plt.title(\"K Means\", fontsize=14)\n",
        "plt.xlabel('Distance Feature')\n",
        "plt.ylabel('Speed Feature')\n",
        "plt.show()"
      ],
      "execution_count": 0,
      "outputs": [
        {
          "output_type": "display_data",
          "data": {
            "image/png": "[encoded data removed]",
            "text/plain": [
              "<Figure size 576x396 with 1 Axes>"
            ]
          },
          "metadata": {
            "tags": []
          }
        }
      ]
    },
    {
      "metadata": {
        "id": "4N8zoBKIM2jT",
        "colab_type": "text"
      },
      "cell_type": "markdown",
      "source": [
        "**In conclusion**, as a result of our analysis we can see that there are four main groups of drivers:\n",
        "\n",
        ">**Cluster 1 **– Short distance, low speed\n",
        "\n",
        ">**Cluster 2** – Short distance, medium speed\n",
        "\n",
        ">**Cluster 3** – Long distance, low speed\n",
        "\n",
        ">**Cluster 4** – Long distance, high speed "
      ]
    }
  ]
}