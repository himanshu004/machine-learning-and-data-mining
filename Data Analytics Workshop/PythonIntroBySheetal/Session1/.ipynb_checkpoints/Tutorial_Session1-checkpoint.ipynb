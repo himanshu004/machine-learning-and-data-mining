{
 "cells": [
  {
   "cell_type": "markdown",
   "metadata": {},
   "source": [
    "The contents contained in this Jupyter notebook may be freely distributed for teaching-learning purpose. When more than 50% of this notebook is used for a presentation or distribution it may be cited as follows: \n",
    "\n",
    "Python Tutorial: developed by Sheetal Taneja (Assistant Professor, Dyal Singh College), Ankit Rajpal (Assistant Professor, Deen Dayal Upadhyaya College), Naveen Kumar (Professor, Department of Computer Science), University of Delhi.   \n"
   ]
  },
  {
   "cell_type": "markdown",
   "metadata": {},
   "source": [
    "---\n",
    "# <font color= blue > **PYTHON** </font>\n",
    "* Interactive, interpreted, and object-oriented programming language. \n",
    "* Simple syntax \n",
    "* Developed by Guido Van Rossum in 1991 at the National Research Institute for Mathematics and Computer Science in the Netherlands.\n",
    "* Name was inspired by: Monty Python's Flying Circus"
   ]
  },
  {
   "cell_type": "markdown",
   "metadata": {},
   "source": [
    "## <font color= blue > PYTHON PROGRAMMING ENVIRONMENT </font>\n",
    "* Available on a wide variety of platforms including Windows, Linux and Mac OS X. \n",
    "* Official Website: __[python.org](https://python.org)__ \n",
    "* IDLE stands for Integrated Development and Learning Environment. Python IDLE comprises Python Shell and Python Editor.\n",
    "                                Python Shell                                    Python Editor                  \n",
    "![](1.png)\n",
    "\n",
    "---"
   ]
  },
  {
   "cell_type": "markdown",
   "metadata": {},
   "source": [
    "## <font color= blue > Display on screen </font>"
   ]
  },
  {
   "cell_type": "code",
   "execution_count": 2,
   "metadata": {},
   "outputs": [
    {
     "name": "stdout",
     "output_type": "stream",
     "text": [
      "hello world\n"
     ]
    }
   ],
   "source": [
    "print('hello world')"
   ]
  },
  {
   "cell_type": "markdown",
   "metadata": {},
   "source": [
    "---\n",
    "\n",
    "## <font color= blue > Names (Variables) and Assignment Statements </font>\n",
    "* Variables provide a means to name values so that they can be used and manipulated later.\n",
    "* Assignment Statement: Statement that assigns value to a variable."
   ]
  },
  {
   "cell_type": "code",
   "execution_count": null,
   "metadata": {},
   "outputs": [],
   "source": [
    "english = 57\n",
    "print(english)"
   ]
  },
  {
   "cell_type": "markdown",
   "metadata": {},
   "source": [
    "Python associates the **name** (variable) **english** with value **57** i.e. the name (variable) **english** is assigned the value **57**, or that the name (variable) **english** refers to value **57**. Values are also called **objects**.\n",
    "<div style=\"width: 300px;\">![](2.png)</div>"
   ]
  },
  {
   "cell_type": "markdown",
   "metadata": {},
   "source": [
    "### <font color= blue > Multiple Assignments </font>\n",
    "* Used to enhance the readability of the program."
   ]
  },
  {
   "cell_type": "code",
   "execution_count": 7,
   "metadata": {},
   "outputs": [],
   "source": [
    "msg, day, time = 'Meeting', 'Mon', '9'\n",
    "totalMarks = count = 0"
   ]
  },
  {
   "cell_type": "markdown",
   "metadata": {},
   "source": [
    "---\n",
    "## <font color= blue > Functions </font>\n",
    "* Functions provide a systematic way of problem solving by dividing the given problem into several sub-problems, finding their individual solutions, and integrating the solutions of individual problems to solve the original problem.\n",
    "* This approach to problem solving is called stepwise refinement method or modular approach."
   ]
  },
  {
   "cell_type": "markdown",
   "metadata": {},
   "source": [
    "## <font color= blue > Built-in Functions </font>\n",
    "* Predefined functions that are already available in Python."
   ]
  },
  {
   "cell_type": "markdown",
   "metadata": {},
   "source": [
    "### <font color= green > Type Conversion: int, float, str functions </font>"
   ]
  },
  {
   "cell_type": "code",
   "execution_count": 13,
   "metadata": {},
   "outputs": [
    {
     "data": {
      "text/plain": [
       "'123'"
      ]
     },
     "execution_count": 13,
     "metadata": {},
     "output_type": "execute_result"
    }
   ],
   "source": [
    "str(123)"
   ]
  },
  {
   "cell_type": "code",
   "execution_count": 14,
   "metadata": {},
   "outputs": [
    {
     "data": {
      "text/plain": [
       "234"
      ]
     },
     "execution_count": 14,
     "metadata": {},
     "output_type": "execute_result"
    }
   ],
   "source": [
    "int('234')"
   ]
  },
  {
   "cell_type": "code",
   "execution_count": 15,
   "metadata": {},
   "outputs": [
    {
     "data": {
      "text/plain": [
       "234"
      ]
     },
     "execution_count": 15,
     "metadata": {},
     "output_type": "execute_result"
    }
   ],
   "source": [
    "int(234.8)"
   ]
  },
  {
   "cell_type": "markdown",
   "metadata": {},
   "source": [
    "### <font color= green > input function </font>\n",
    "* Enables us to accept an input string from the user\n",
    "without evaluating its value. \n",
    "* The function input continues to read input text from the user until it encounters a newline."
   ]
  },
  {
   "cell_type": "code",
   "execution_count": 16,
   "metadata": {},
   "outputs": [
    {
     "name": "stdout",
     "output_type": "stream",
     "text": [
      "Enter a name: Suresh\n",
      "Welcome Suresh\n"
     ]
    }
   ],
   "source": [
    "name = input('Enter a name: ')\n",
    "print('Welcome', name)"
   ]
  },
  {
   "cell_type": "code",
   "execution_count": 21,
   "metadata": {},
   "outputs": [
    {
     "name": "stdout",
     "output_type": "stream",
     "text": [
      "Enter cost price: 50\n",
      "Enter profit: 12\n",
      "Selling Price:  62\n"
     ]
    }
   ],
   "source": [
    "costPrice = int(input('Enter cost price: '))\n",
    "profit = int(input('Enter profit: '))\n",
    "sellingPrice = costPrice + profit\n",
    "print('Selling Price: ', sellingPrice)"
   ]
  },
  {
   "cell_type": "markdown",
   "metadata": {},
   "source": [
    "### <font color= green > eval function </font>\n",
    "* Used to evaluate the value of a string."
   ]
  },
  {
   "cell_type": "code",
   "execution_count": 22,
   "metadata": {},
   "outputs": [
    {
     "name": "stdout",
     "output_type": "stream",
     "text": [
      "25\n"
     ]
    }
   ],
   "source": [
    "a = eval('15+10')\n",
    "print(a)"
   ]
  },
  {
   "cell_type": "markdown",
   "metadata": {},
   "source": [
    "### <font color= green > min and max functions </font>\n",
    "* Used to find maximum and minimum value respectively out of several values."
   ]
  },
  {
   "cell_type": "code",
   "execution_count": 23,
   "metadata": {},
   "outputs": [
    {
     "name": "stdout",
     "output_type": "stream",
     "text": [
      "Minimum Value 95.6\n",
      "Maximum Value Sir\n"
     ]
    }
   ],
   "source": [
    "a = max(59, 80, 95.6, 95.2)\n",
    "b = min('hello', 'how', 'are', 'you', 'Sir')\n",
    "print(\"Minimum Value\", a)\n",
    "print(\"Maximum Value\", b)"
   ]
  },
  {
   "cell_type": "markdown",
   "metadata": {},
   "source": [
    "## <font color= blue > Function Definition and Call </font>"
   ]
  },
  {
   "cell_type": "markdown",
   "metadata": {},
   "source": [
    "> The **syntax** for a function definition is as follows:\n",
    "\n",
    "    def function_name ( comma_separated_list_of_parameters):\n",
    "        statements\n",
    "Note: Statements below **def** begin with four spaces. This is called **indentation**. It is a requirement of Python that the code following a colon must be indented."
   ]
  },
  {
   "cell_type": "markdown",
   "metadata": {},
   "source": [
    "### <font color= green > Computing Area of the Rectangle </font>"
   ]
  },
  {
   "cell_type": "code",
   "execution_count": 30,
   "metadata": {},
   "outputs": [],
   "source": [
    "def areaRectangle(length, breadth):\n",
    "    '''\n",
    "    Objective: To compute the area of rectangle\n",
    "    Input Parameters: length, breadth – numeric value\n",
    "    Return Value: area - numeric value\n",
    "    '''\n",
    "    area = length * breadth\n",
    "    return area"
   ]
  },
  {
   "cell_type": "code",
   "execution_count": 33,
   "metadata": {},
   "outputs": [
    {
     "data": {
      "text/plain": [
       "35"
      ]
     },
     "execution_count": 33,
     "metadata": {},
     "output_type": "execute_result"
    }
   ],
   "source": [
    "areaRectangle(7,5)"
   ]
  },
  {
   "cell_type": "code",
   "execution_count": 34,
   "metadata": {},
   "outputs": [
    {
     "name": "stdout",
     "output_type": "stream",
     "text": [
      "Help on function areaRectangle in module __main__:\n",
      "\n",
      "areaRectangle(length, breadth)\n",
      "    Objective: To compute the area of rectangle\n",
      "    Input Parameters: length, breadth – numeric value\n",
      "    Return Value: area - numeric value\n",
      "\n"
     ]
    }
   ],
   "source": [
    "help(areaRectangle)"
   ]
  },
  {
   "cell_type": "code",
   "execution_count": 43,
   "metadata": {},
   "outputs": [
    {
     "name": "stdout",
     "output_type": "stream",
     "text": [
      "Enter the following values for rectangle:\n",
      "Length : integer value: 7\n",
      "Breadth : integer value: 5\n",
      "Area of rectangle is 35\n"
     ]
    }
   ],
   "source": [
    "def areaRectangle(length, breadth=1):\n",
    "    '''\n",
    "    Objective: To compute the area of rectangle\n",
    "    Input Parameters: length, breadth - numeric value\n",
    "    Return Value: area - numeric value\n",
    "    '''\n",
    "    area = length * breadth\n",
    "    return area\n",
    "\n",
    "def main():\n",
    "    '''\n",
    "    Objective: To compute the area of rectangle based on user input\n",
    "    Input Parameter: None\n",
    "    Return Value: None\n",
    "    '''\n",
    "    print('Enter the following values for rectangle:')\n",
    "    lengthRect = int(input('Length : integer value: '))\n",
    "    breadthRect = int(input('Breadth : integer value: '))\n",
    "    areaRect = areaRectangle(lengthRect, breadthRect)\n",
    "    print('Area of rectangle is', areaRect)\n",
    "    \n",
    "if __name__ == '__main__':\n",
    "    main()"
   ]
  },
  {
   "cell_type": "markdown",
   "metadata": {},
   "source": [
    "---\n",
    "## <font color= blue > Control Structures </font>\n",
    "* Needed for non-sequential and repetitive execution of instructions."
   ]
  },
  {
   "cell_type": "markdown",
   "metadata": {},
   "source": [
    "## <font color= blue > if Conditional Statement </font>\n",
    "* Used to execute a certain sequence of statements depending upon fulfilment of a particular condition\n",
    "> The general form of **if-elif-else** statement is as follows:\n",
    "\n",
    "\n",
    "    if < condition1 >:\n",
    "        < Sequence S1 of statements to be executed >\n",
    "    elif < condition2 >:\n",
    "        < Sequence S2 of statements to be executed >\n",
    "    elif < condition3 >:\n",
    "        < Sequence S3 of statements to be executed >\n",
    "    ...\n",
    "    \n",
    "    else:\n",
    "        < Sequence Sn of statements to be executed >"
   ]
  },
  {
   "cell_type": "markdown",
   "metadata": {},
   "source": [
    "### <font color= green >Problem: Grade assignment on the basis of marks obtained</font>"
   ]
  },
  {
   "cell_type": "code",
   "execution_count": 44,
   "metadata": {},
   "outputs": [
    {
     "name": "stdout",
     "output_type": "stream",
     "text": [
      "Enter your marks: 89\n",
      "Marks: 89.0 \n",
      "Grade: B\n"
     ]
    }
   ],
   "source": [
    "def assignGrade(marks):\n",
    "    '''\n",
    "    Objective: To assign grade on the basis of marks obtained\n",
    "    Input Parameter: marks – numeric value\n",
    "    Return Value: grade - string\n",
    "    '''\n",
    "    assert marks >= 0 and marks <= 100\n",
    "    if marks >= 90:\n",
    "        grade = 'A'\n",
    "    elif marks >= 70:\n",
    "        grade = 'B'\n",
    "    elif marks >= 50:\n",
    "        grade = 'C'\n",
    "    elif marks >= 40:\n",
    "        grade = 'D'\n",
    "    else:\n",
    "        grade = 'F'\n",
    "    return grade\n",
    "\n",
    "def main():\n",
    "    '''\n",
    "    Objective: To assign grade on the basis of input marks\n",
    "    Input Parameter: None\n",
    "    Return Value: None\n",
    "    '''\n",
    "    marks = float(input('Enter your marks: '))\n",
    "    print('Marks:', marks, '\\nGrade:', assignGrade(marks))\n",
    "\n",
    "if __name__ == '__main__':\n",
    "    main()"
   ]
  },
  {
   "cell_type": "markdown",
   "metadata": {},
   "source": [
    "## <font color= blue > for Statement </font>\n",
    "* It is used when we want to execute a sequence of statements (indented to the right of keyword for) a fixed number of times.\n",
    "> Syntax of **for** statement is as follows:\n",
    "    \n",
    "\n",
    "    for variable in sequence:\n",
    "            <block S of statements>"
   ]
  },
  {
   "cell_type": "code",
   "execution_count": 38,
   "metadata": {},
   "outputs": [
    {
     "name": "stdout",
     "output_type": "stream",
     "text": [
      "h\n",
      "e\n",
      "l\n",
      "l\n",
      "o\n"
     ]
    }
   ],
   "source": [
    "for letter in \"hello\":\n",
    "    print(letter)"
   ]
  },
  {
   "cell_type": "markdown",
   "metadata": {},
   "source": [
    "### <font color= green > Generating sequence of numbers using range function</font>\n",
    "> Syntax:\n",
    "\n",
    "    range(start, end, increment)"
   ]
  },
  {
   "cell_type": "markdown",
   "metadata": {},
   "source": [
    "The function call\n",
    "**range(1,n + 1)** produces a sequence of numbers from 1 to n"
   ]
  },
  {
   "cell_type": "code",
   "execution_count": null,
   "metadata": {},
   "outputs": [],
   "source": [
    "start = 1\n",
    "limit = 11\n",
    "for num in range(start, limit):\n",
    "    print(num)"
   ]
  },
  {
   "cell_type": "code",
   "execution_count": null,
   "metadata": {},
   "outputs": [],
   "source": [
    "start = 1\n",
    "limit = 11\n",
    "step = 2\n",
    "for num in range(start, limit, step):\n",
    "    print(num)"
   ]
  },
  {
   "cell_type": "code",
   "execution_count": null,
   "metadata": {},
   "outputs": [],
   "source": [
    "start = 30\n",
    "limit = -4\n",
    "step = -3\n",
    "for num in range(start, limit, step):\n",
    "    print(num)"
   ]
  },
  {
   "cell_type": "code",
   "execution_count": null,
   "metadata": {},
   "outputs": [],
   "source": [
    "limit = 5\n",
    "for num in range(limit):\n",
    "    print(num)"
   ]
  },
  {
   "cell_type": "markdown",
   "metadata": {},
   "source": [
    "### <font color= green > Problem: Factorial of a number </font>\n"
   ]
  },
  {
   "cell_type": "code",
   "execution_count": 41,
   "metadata": {},
   "outputs": [
    {
     "name": "stdout",
     "output_type": "stream",
     "text": [
      "Enter the number: 5\n",
      "Result: 120\n"
     ]
    }
   ],
   "source": [
    "def factorial(num):\n",
    "    '''\n",
    "    Objective: To compute factorial of a number\n",
    "    Input Parameter: num - numeric\n",
    "    Return Value: num! - numeric\n",
    "    '''\n",
    "    if num <= 0:\n",
    "        return 'Factorial Not defined'\n",
    "    fact = 1\n",
    "    for i in range(1, num+1):\n",
    "        fact = fact * i\n",
    "    return fact\n",
    "    \n",
    "def main():\n",
    "    '''\n",
    "    Objective: To compute factorial of a number provided as an input\n",
    "    Input Parameter: None\n",
    "    Return Value: None\n",
    "    '''\n",
    "    num = int(input('Enter the number: '))\n",
    "    fact = factorial(num)\n",
    "    print(\"Result:\", fact)\n",
    "\n",
    "if __name__ == '__main__':\n",
    "    main()"
   ]
  }
 ],
 "metadata": {
  "celltoolbar": "Raw Cell Format",
  "kernelspec": {
   "display_name": "Python 3",
   "language": "python",
   "name": "python3"
  },
  "language_info": {
   "codemirror_mode": {
    "name": "ipython",
    "version": 3
   },
   "file_extension": ".py",
   "mimetype": "text/x-python",
   "name": "python",
   "nbconvert_exporter": "python",
   "pygments_lexer": "ipython3",
   "version": "3.6.4"
  }
 },
 "nbformat": 4,
 "nbformat_minor": 2
}
