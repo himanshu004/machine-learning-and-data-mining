{
 "cells": [
  {
   "cell_type": "code",
   "execution_count": 15,
   "metadata": {},
   "outputs": [
    {
     "name": "stdout",
     "output_type": "stream",
     "text": [
      "WINE DATASET: \n",
      "MEAN :  [ 1.59672525e-16 -8.38280756e-16 -1.19754394e-16 -8.37033314e-16\n",
      " -3.99181312e-17 -3.99181312e-17  0.00000000e+00 -3.99181312e-16\n",
      "  3.59263181e-16 -1.19754394e-16  3.49283648e-17  1.99590656e-16\n",
      "  3.19345050e-16 -1.59672525e-16]\n",
      "STANDARD DEVIATION :  [1. 1. 1. 1. 1. 1. 1. 1. 1. 1. 1. 1. 1. 1.]\n",
      "IRIS DATASET: \n",
      "MEAN :  [-4.73695157e-16 -6.63173220e-16  3.31586610e-16 -2.84217094e-16]\n",
      "STANDARD DEVIATION :  [1. 1. 1. 1.]\n"
     ]
    },
    {
     "name": "stderr",
     "output_type": "stream",
     "text": [
      "c:\\users\\hp-r203tu\\appdata\\local\\programs\\python\\python36-32\\lib\\site-packages\\sklearn\\preprocessing\\data.py:625: DataConversionWarning: Data with input dtype int64, float64 were all converted to float64 by StandardScaler.\n",
      "  return self.partial_fit(X, y)\n",
      "c:\\users\\hp-r203tu\\appdata\\local\\programs\\python\\python36-32\\lib\\site-packages\\sklearn\\base.py:462: DataConversionWarning: Data with input dtype int64, float64 were all converted to float64 by StandardScaler.\n",
      "  return self.fit(X, **fit_params).transform(X)\n"
     ]
    }
   ],
   "source": [
    "import pandas as pd\n",
    "from sklearn.preprocessing import StandardScaler \n",
    "\n",
    "\n",
    "wine = pd.read_csv('wine.csv')\n",
    "iris = pd.read_csv('iris.csv')\n",
    "\n",
    "sc_iris = iris.iloc[:,:-1].values\n",
    "\n",
    "\n",
    "\n",
    "sc = StandardScaler()\n",
    "\n",
    "sc_wine = sc.fit_transform(wine)\n",
    "\n",
    "sc_iris = sc.fit_transform(sc_iris)\n",
    "\n",
    "print(\"WINE DATASET: \")\n",
    "print(\"MEAN : \",sc_wine.mean(axis = 0))\n",
    "print(\"STANDARD DEVIATION : \",sc_wine.std(axis = 0))\n",
    "\n",
    "print(\"IRIS DATASET: \")\n",
    "print(\"MEAN : \",sc_iris.mean(axis = 0))\n",
    "print(\"STANDARD DEVIATION : \",sc_iris.std(axis = 0))\n"
   ]
  }
 ],
 "metadata": {
  "kernelspec": {
   "display_name": "Python 3",
   "language": "python",
   "name": "python3"
  },
  "language_info": {
   "codemirror_mode": {
    "name": "ipython",
    "version": 3
   },
   "file_extension": ".py",
   "mimetype": "text/x-python",
   "name": "python",
   "nbconvert_exporter": "python",
   "pygments_lexer": "ipython3",
   "version": "3.6.2"
  }
 },
 "nbformat": 4,
 "nbformat_minor": 2
}
