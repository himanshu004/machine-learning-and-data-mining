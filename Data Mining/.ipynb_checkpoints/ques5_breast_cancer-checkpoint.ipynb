{
 "cells": [
  {
   "cell_type": "markdown",
   "metadata": {},
   "source": [
    "# breast cancer dataset"
   ]
  },
  {
   "cell_type": "code",
   "execution_count": 1,
   "metadata": {},
   "outputs": [
    {
     "name": "stderr",
     "output_type": "stream",
     "text": [
      "C:\\Users\\HP-R203TU\\Anaconda3\\lib\\site-packages\\sklearn\\model_selection\\_split.py:2179: FutureWarning: From version 0.21, test_size will always complement train_size unless both are specified.\n",
      "  FutureWarning)\n"
     ]
    }
   ],
   "source": [
    "from sklearn.model_selection import train_test_split,cross_val_predict,cross_val_score\n",
    "from sklearn.tree import DecisionTreeClassifier\n",
    "from sklearn.naive_bayes import GaussianNB\n",
    "from sklearn.neighbors import KNeighborsClassifier\n",
    "from sklearn.metrics import accuracy_score,confusion_matrix\n",
    "import pandas as pd\n",
    "import numpy as np\n",
    "from sklearn.preprocessing import MinMaxScaler \n",
    "\n",
    "mm = MinMaxScaler()\n",
    "\n",
    "df = pd.read_csv('breast_cancer.csv', index_col = 'id')\n",
    "# print(df.head())\n",
    "df['diagnosis'] = df['diagnosis'].map({'M': 0, 'B': 1})\n",
    "y = df['diagnosis']\n",
    "del df['Unnamed: 32']\n",
    "del df['diagnosis']\n",
    "X = df.copy()\n",
    "X = mm.fit_transform(X)\n",
    "\n",
    "X_train, X_test, y_train, y_test = train_test_split(X, y, train_size = 0.75)\n"
   ]
  },
  {
   "cell_type": "markdown",
   "metadata": {},
   "source": [
    "# 1. Decision Tree Classifier"
   ]
  },
  {
   "cell_type": "markdown",
   "metadata": {},
   "source": [
    "## Training data size = 0.75 and hold out method"
   ]
  },
  {
   "cell_type": "code",
   "execution_count": 2,
   "metadata": {},
   "outputs": [
    {
     "name": "stdout",
     "output_type": "stream",
     "text": [
      "Accuracy Score : 91.6083916083916\n"
     ]
    },
    {
     "data": {
      "text/html": [
       "<div>\n",
       "<style scoped>\n",
       "    .dataframe tbody tr th:only-of-type {\n",
       "        vertical-align: middle;\n",
       "    }\n",
       "\n",
       "    .dataframe tbody tr th {\n",
       "        vertical-align: top;\n",
       "    }\n",
       "\n",
       "    .dataframe thead th {\n",
       "        text-align: right;\n",
       "    }\n",
       "</style>\n",
       "<table border=\"1\" class=\"dataframe\">\n",
       "  <thead>\n",
       "    <tr style=\"text-align: right;\">\n",
       "      <th></th>\n",
       "      <th>Predicted BENIGN</th>\n",
       "      <th>Predicted MALIGNANT</th>\n",
       "    </tr>\n",
       "  </thead>\n",
       "  <tbody>\n",
       "    <tr>\n",
       "      <th>True BENIGN</th>\n",
       "      <td>52</td>\n",
       "      <td>3</td>\n",
       "    </tr>\n",
       "    <tr>\n",
       "      <th>True MALIGNANT</th>\n",
       "      <td>9</td>\n",
       "      <td>79</td>\n",
       "    </tr>\n",
       "  </tbody>\n",
       "</table>\n",
       "</div>"
      ],
      "text/plain": [
       "                Predicted BENIGN  Predicted MALIGNANT\n",
       "True BENIGN                   52                    3\n",
       "True MALIGNANT                 9                   79"
      ]
     },
     "execution_count": 2,
     "metadata": {},
     "output_type": "execute_result"
    }
   ],
   "source": [
    "model = DecisionTreeClassifier(criterion = \"gini\")\n",
    "model.fit(X_train, y_train)\n",
    "\n",
    "y_predict = model.predict(X_test)\n",
    "\n",
    "dtc_hom = accuracy_score(y_test, y_predict) * 100\n",
    "\n",
    "cm = pd.DataFrame(\n",
    "    confusion_matrix(y_test, y_predict),\n",
    "    columns = ['Predicted BENIGN', 'Predicted MALIGNANT'],\n",
    "    index = ['True BENIGN', 'True MALIGNANT']\n",
    ")\n",
    "\n",
    "print('Accuracy Score :',dtc_hom) \n",
    "cm"
   ]
  },
  {
   "cell_type": "markdown",
   "metadata": {},
   "source": [
    "## Training set = 0.75 and random subsampling"
   ]
  },
  {
   "cell_type": "code",
   "execution_count": 3,
   "metadata": {},
   "outputs": [
    {
     "name": "stdout",
     "output_type": "stream",
     "text": [
      "Accuracy Score : 90.20979020979023\n"
     ]
    },
    {
     "data": {
      "text/html": [
       "<div>\n",
       "<style scoped>\n",
       "    .dataframe tbody tr th:only-of-type {\n",
       "        vertical-align: middle;\n",
       "    }\n",
       "\n",
       "    .dataframe tbody tr th {\n",
       "        vertical-align: top;\n",
       "    }\n",
       "\n",
       "    .dataframe thead th {\n",
       "        text-align: right;\n",
       "    }\n",
       "</style>\n",
       "<table border=\"1\" class=\"dataframe\">\n",
       "  <thead>\n",
       "    <tr style=\"text-align: right;\">\n",
       "      <th></th>\n",
       "      <th>Predicted BENIGN</th>\n",
       "      <th>Predicted MALIGNANT</th>\n",
       "    </tr>\n",
       "  </thead>\n",
       "  <tbody>\n",
       "    <tr>\n",
       "      <th>True BENIGN</th>\n",
       "      <td>49</td>\n",
       "      <td>6</td>\n",
       "    </tr>\n",
       "    <tr>\n",
       "      <th>True MALIGNANT</th>\n",
       "      <td>8</td>\n",
       "      <td>80</td>\n",
       "    </tr>\n",
       "  </tbody>\n",
       "</table>\n",
       "</div>"
      ],
      "text/plain": [
       "                Predicted BENIGN  Predicted MALIGNANT\n",
       "True BENIGN                   49                    6\n",
       "True MALIGNANT                 8                   80"
      ]
     },
     "execution_count": 3,
     "metadata": {},
     "output_type": "execute_result"
    }
   ],
   "source": [
    "model = DecisionTreeClassifier(criterion = \"gini\",random_state = 1)\n",
    "model.fit(X_train, y_train)\n",
    "\n",
    "acc = 0\n",
    "for i in range(0,15):\n",
    "    y_predict = model.predict(X_test)\n",
    "    acc = acc + accuracy_score(y_test,y_predict) * 100\n",
    "\n",
    "dtc_rs = acc / 15\n",
    "\n",
    "cm = pd.DataFrame(\n",
    "    confusion_matrix(y_test, y_predict),\n",
    "    columns = ['Predicted BENIGN', 'Predicted MALIGNANT'],\n",
    "    index = ['True BENIGN', 'True MALIGNANT']\n",
    ")\n",
    "\n",
    "print('Accuracy Score :',dtc_rs) \n",
    "cm"
   ]
  },
  {
   "cell_type": "markdown",
   "metadata": {},
   "source": [
    "## Training set = 0.75 and cross-validation(k-fold)"
   ]
  },
  {
   "cell_type": "code",
   "execution_count": 4,
   "metadata": {},
   "outputs": [
    {
     "name": "stdout",
     "output_type": "stream",
     "text": [
      "Accuracy Score : 90.20979020979021\n"
     ]
    },
    {
     "data": {
      "text/html": [
       "<div>\n",
       "<style scoped>\n",
       "    .dataframe tbody tr th:only-of-type {\n",
       "        vertical-align: middle;\n",
       "    }\n",
       "\n",
       "    .dataframe tbody tr th {\n",
       "        vertical-align: top;\n",
       "    }\n",
       "\n",
       "    .dataframe thead th {\n",
       "        text-align: right;\n",
       "    }\n",
       "</style>\n",
       "<table border=\"1\" class=\"dataframe\">\n",
       "  <thead>\n",
       "    <tr style=\"text-align: right;\">\n",
       "      <th></th>\n",
       "      <th>Predicted BENIGN</th>\n",
       "      <th>Predicted MALIGNANT</th>\n",
       "    </tr>\n",
       "  </thead>\n",
       "  <tbody>\n",
       "    <tr>\n",
       "      <th>True BENIGN</th>\n",
       "      <td>49</td>\n",
       "      <td>6</td>\n",
       "    </tr>\n",
       "    <tr>\n",
       "      <th>True MALIGNANT</th>\n",
       "      <td>8</td>\n",
       "      <td>80</td>\n",
       "    </tr>\n",
       "  </tbody>\n",
       "</table>\n",
       "</div>"
      ],
      "text/plain": [
       "                Predicted BENIGN  Predicted MALIGNANT\n",
       "True BENIGN                   49                    6\n",
       "True MALIGNANT                 8                   80"
      ]
     },
     "execution_count": 4,
     "metadata": {},
     "output_type": "execute_result"
    }
   ],
   "source": [
    "model = DecisionTreeClassifier(criterion = \"gini\",random_state = 1)\n",
    "y_pred = cross_val_predict(model,X,y,cv = 4)\n",
    "\n",
    "accuracy_score(y, y_pred)\n",
    "\n",
    "dtc_cv = accuracy_score(y_test, y_predict) * 100\n",
    "\n",
    "cm = pd.DataFrame(\n",
    "    confusion_matrix(y_test, y_predict),\n",
    "    columns = ['Predicted BENIGN', 'Predicted MALIGNANT'],\n",
    "    index = ['True BENIGN', 'True MALIGNANT']\n",
    ")\n",
    "\n",
    "print('Accuracy Score :',dtc_cv) \n",
    "cm"
   ]
  },
  {
   "cell_type": "markdown",
   "metadata": {},
   "source": [
    "# 2. Naive Bayes Classifier"
   ]
  },
  {
   "cell_type": "markdown",
   "metadata": {},
   "source": [
    "## Training data size = 0.75 and hold out method"
   ]
  },
  {
   "cell_type": "code",
   "execution_count": 5,
   "metadata": {},
   "outputs": [
    {
     "name": "stdout",
     "output_type": "stream",
     "text": [
      "Accuracy Score : 93.00699300699301\n"
     ]
    },
    {
     "data": {
      "text/html": [
       "<div>\n",
       "<style scoped>\n",
       "    .dataframe tbody tr th:only-of-type {\n",
       "        vertical-align: middle;\n",
       "    }\n",
       "\n",
       "    .dataframe tbody tr th {\n",
       "        vertical-align: top;\n",
       "    }\n",
       "\n",
       "    .dataframe thead th {\n",
       "        text-align: right;\n",
       "    }\n",
       "</style>\n",
       "<table border=\"1\" class=\"dataframe\">\n",
       "  <thead>\n",
       "    <tr style=\"text-align: right;\">\n",
       "      <th></th>\n",
       "      <th>Predicted BENIGN</th>\n",
       "      <th>Predicted MALIGNANT</th>\n",
       "    </tr>\n",
       "  </thead>\n",
       "  <tbody>\n",
       "    <tr>\n",
       "      <th>True BENIGN</th>\n",
       "      <td>49</td>\n",
       "      <td>6</td>\n",
       "    </tr>\n",
       "    <tr>\n",
       "      <th>True MALIGNANT</th>\n",
       "      <td>4</td>\n",
       "      <td>84</td>\n",
       "    </tr>\n",
       "  </tbody>\n",
       "</table>\n",
       "</div>"
      ],
      "text/plain": [
       "                Predicted BENIGN  Predicted MALIGNANT\n",
       "True BENIGN                   49                    6\n",
       "True MALIGNANT                 4                   84"
      ]
     },
     "execution_count": 5,
     "metadata": {},
     "output_type": "execute_result"
    }
   ],
   "source": [
    "model = GaussianNB()\n",
    "model.fit(X_train,y_train)\n",
    "\n",
    "y_predict = model.predict(X_test)\n",
    "\n",
    "nb_hom = accuracy_score(y_test,y_predict) * 100\n",
    "\n",
    "cm = pd.DataFrame(\n",
    "    confusion_matrix(y_test, y_predict),\n",
    "    columns = ['Predicted BENIGN', 'Predicted MALIGNANT'],\n",
    "    index = ['True BENIGN', 'True MALIGNANT']\n",
    ")\n",
    "\n",
    "print('Accuracy Score :',nb_hom) \n",
    "cm"
   ]
  },
  {
   "cell_type": "markdown",
   "metadata": {},
   "source": [
    "## Training data size = 0.75 and random subsampling\n"
   ]
  },
  {
   "cell_type": "code",
   "execution_count": 6,
   "metadata": {},
   "outputs": [
    {
     "name": "stdout",
     "output_type": "stream",
     "text": [
      "Accuracy Score : 93.00699300699304\n"
     ]
    },
    {
     "data": {
      "text/html": [
       "<div>\n",
       "<style scoped>\n",
       "    .dataframe tbody tr th:only-of-type {\n",
       "        vertical-align: middle;\n",
       "    }\n",
       "\n",
       "    .dataframe tbody tr th {\n",
       "        vertical-align: top;\n",
       "    }\n",
       "\n",
       "    .dataframe thead th {\n",
       "        text-align: right;\n",
       "    }\n",
       "</style>\n",
       "<table border=\"1\" class=\"dataframe\">\n",
       "  <thead>\n",
       "    <tr style=\"text-align: right;\">\n",
       "      <th></th>\n",
       "      <th>Predicted BENIGN</th>\n",
       "      <th>Predicted MALIGNANT</th>\n",
       "    </tr>\n",
       "  </thead>\n",
       "  <tbody>\n",
       "    <tr>\n",
       "      <th>True BENIGN</th>\n",
       "      <td>49</td>\n",
       "      <td>6</td>\n",
       "    </tr>\n",
       "    <tr>\n",
       "      <th>True MALIGNANT</th>\n",
       "      <td>4</td>\n",
       "      <td>84</td>\n",
       "    </tr>\n",
       "  </tbody>\n",
       "</table>\n",
       "</div>"
      ],
      "text/plain": [
       "                Predicted BENIGN  Predicted MALIGNANT\n",
       "True BENIGN                   49                    6\n",
       "True MALIGNANT                 4                   84"
      ]
     },
     "execution_count": 6,
     "metadata": {},
     "output_type": "execute_result"
    }
   ],
   "source": [
    "model = GaussianNB()\n",
    "model.fit(X_train, y_train)\n",
    "\n",
    "acc = 0\n",
    "for i in range(0,15):\n",
    "    y_predict = model.predict(X_test)\n",
    "    acc = acc + accuracy_score(y_test,y_predict) * 100\n",
    "\n",
    "nb_rs = acc / 15\n",
    "\n",
    "cm = pd.DataFrame(\n",
    "    confusion_matrix(y_test, y_predict),\n",
    "    columns = ['Predicted BENIGN', 'Predicted MALIGNANT'],\n",
    "    index = ['True BENIGN', 'True MALIGNANT']\n",
    ")\n",
    "\n",
    "print('Accuracy Score :',nb_rs) \n",
    "cm"
   ]
  },
  {
   "cell_type": "markdown",
   "metadata": {},
   "source": [
    "# Training data size = 0.75 and cross validation(k-fold)\n"
   ]
  },
  {
   "cell_type": "code",
   "execution_count": 7,
   "metadata": {},
   "outputs": [
    {
     "name": "stdout",
     "output_type": "stream",
     "text": [
      "Accuracy Score : 93.00699300699301\n"
     ]
    },
    {
     "data": {
      "text/html": [
       "<div>\n",
       "<style scoped>\n",
       "    .dataframe tbody tr th:only-of-type {\n",
       "        vertical-align: middle;\n",
       "    }\n",
       "\n",
       "    .dataframe tbody tr th {\n",
       "        vertical-align: top;\n",
       "    }\n",
       "\n",
       "    .dataframe thead th {\n",
       "        text-align: right;\n",
       "    }\n",
       "</style>\n",
       "<table border=\"1\" class=\"dataframe\">\n",
       "  <thead>\n",
       "    <tr style=\"text-align: right;\">\n",
       "      <th></th>\n",
       "      <th>Predicted BENIGN</th>\n",
       "      <th>Predicted MALIGNANT</th>\n",
       "    </tr>\n",
       "  </thead>\n",
       "  <tbody>\n",
       "    <tr>\n",
       "      <th>True BENIGN</th>\n",
       "      <td>49</td>\n",
       "      <td>6</td>\n",
       "    </tr>\n",
       "    <tr>\n",
       "      <th>True MALIGNANT</th>\n",
       "      <td>4</td>\n",
       "      <td>84</td>\n",
       "    </tr>\n",
       "  </tbody>\n",
       "</table>\n",
       "</div>"
      ],
      "text/plain": [
       "                Predicted BENIGN  Predicted MALIGNANT\n",
       "True BENIGN                   49                    6\n",
       "True MALIGNANT                 4                   84"
      ]
     },
     "execution_count": 7,
     "metadata": {},
     "output_type": "execute_result"
    }
   ],
   "source": [
    "model = GaussianNB()\n",
    "y_pred = cross_val_predict(model,X,y,cv = 4)\n",
    "\n",
    "accuracy_score(y, y_pred)\n",
    "\n",
    "nb_cv = accuracy_score(y_test, y_predict) * 100\n",
    "\n",
    "cm = pd.DataFrame(\n",
    "    confusion_matrix(y_test, y_predict),\n",
    "    columns = ['Predicted BENIGN', 'Predicted MALIGNANT'],\n",
    "    index = ['True BENIGN', 'True MALIGNANT']\n",
    ")\n",
    "\n",
    "print('Accuracy Score :',nb_cv) \n",
    "cm"
   ]
  },
  {
   "cell_type": "markdown",
   "metadata": {},
   "source": [
    "# 3. K-nearest Neighbours classifier"
   ]
  },
  {
   "cell_type": "markdown",
   "metadata": {},
   "source": [
    "## 1.Training data size = 0.75,hold out method"
   ]
  },
  {
   "cell_type": "code",
   "execution_count": 8,
   "metadata": {},
   "outputs": [
    {
     "name": "stdout",
     "output_type": "stream",
     "text": [
      "Accuracy Score : 96.5034965034965\n"
     ]
    },
    {
     "data": {
      "text/html": [
       "<div>\n",
       "<style scoped>\n",
       "    .dataframe tbody tr th:only-of-type {\n",
       "        vertical-align: middle;\n",
       "    }\n",
       "\n",
       "    .dataframe tbody tr th {\n",
       "        vertical-align: top;\n",
       "    }\n",
       "\n",
       "    .dataframe thead th {\n",
       "        text-align: right;\n",
       "    }\n",
       "</style>\n",
       "<table border=\"1\" class=\"dataframe\">\n",
       "  <thead>\n",
       "    <tr style=\"text-align: right;\">\n",
       "      <th></th>\n",
       "      <th>Predicted BENIGN</th>\n",
       "      <th>Predicted MALIGNANT</th>\n",
       "    </tr>\n",
       "  </thead>\n",
       "  <tbody>\n",
       "    <tr>\n",
       "      <th>True BENIGN</th>\n",
       "      <td>52</td>\n",
       "      <td>3</td>\n",
       "    </tr>\n",
       "    <tr>\n",
       "      <th>True MALIGNANT</th>\n",
       "      <td>2</td>\n",
       "      <td>86</td>\n",
       "    </tr>\n",
       "  </tbody>\n",
       "</table>\n",
       "</div>"
      ],
      "text/plain": [
       "                Predicted BENIGN  Predicted MALIGNANT\n",
       "True BENIGN                   52                    3\n",
       "True MALIGNANT                 2                   86"
      ]
     },
     "execution_count": 8,
     "metadata": {},
     "output_type": "execute_result"
    }
   ],
   "source": [
    "model = KNeighborsClassifier()\n",
    "model.fit(X_train,y_train)\n",
    "y_predict = model.predict(X_test)\n",
    "\n",
    "knn_hom = accuracy_score(y_test,y_predict) * 100\n",
    "\n",
    "cm = pd.DataFrame(\n",
    "    confusion_matrix(y_test, y_predict),\n",
    "    columns = ['Predicted BENIGN', 'Predicted MALIGNANT'],\n",
    "    index = ['True BENIGN', 'True MALIGNANT']\n",
    ")\n",
    "\n",
    "print('Accuracy Score :',knn_hom) \n",
    "cm"
   ]
  },
  {
   "cell_type": "markdown",
   "metadata": {},
   "source": [
    "## 2.Training data set = 0.75,random subsampling"
   ]
  },
  {
   "cell_type": "code",
   "execution_count": 9,
   "metadata": {},
   "outputs": [
    {
     "name": "stdout",
     "output_type": "stream",
     "text": [
      "Accuracy Score : 97.20279720279721\n"
     ]
    },
    {
     "data": {
      "text/html": [
       "<div>\n",
       "<style scoped>\n",
       "    .dataframe tbody tr th:only-of-type {\n",
       "        vertical-align: middle;\n",
       "    }\n",
       "\n",
       "    .dataframe tbody tr th {\n",
       "        vertical-align: top;\n",
       "    }\n",
       "\n",
       "    .dataframe thead th {\n",
       "        text-align: right;\n",
       "    }\n",
       "</style>\n",
       "<table border=\"1\" class=\"dataframe\">\n",
       "  <thead>\n",
       "    <tr style=\"text-align: right;\">\n",
       "      <th></th>\n",
       "      <th>Predicted BENIGN</th>\n",
       "      <th>Predicted MALIGNANT</th>\n",
       "    </tr>\n",
       "  </thead>\n",
       "  <tbody>\n",
       "    <tr>\n",
       "      <th>True BENIGN</th>\n",
       "      <td>53</td>\n",
       "      <td>2</td>\n",
       "    </tr>\n",
       "    <tr>\n",
       "      <th>True MALIGNANT</th>\n",
       "      <td>2</td>\n",
       "      <td>86</td>\n",
       "    </tr>\n",
       "  </tbody>\n",
       "</table>\n",
       "</div>"
      ],
      "text/plain": [
       "                Predicted BENIGN  Predicted MALIGNANT\n",
       "True BENIGN                   53                    2\n",
       "True MALIGNANT                 2                   86"
      ]
     },
     "execution_count": 9,
     "metadata": {},
     "output_type": "execute_result"
    }
   ],
   "source": [
    "model = KNeighborsClassifier(n_neighbors = 7)\n",
    "model.fit(X_train,y_train)\n",
    "\n",
    "acc = 0\n",
    "for i in range(0,15):\n",
    "    y_predict = model.predict(X_test)\n",
    "    acc = acc + accuracy_score(y_test,y_predict) * 100\n",
    "\n",
    "knn_rs = acc / 15\n",
    "\n",
    "cm = pd.DataFrame(\n",
    "    confusion_matrix(y_test, y_predict),\n",
    "    columns = ['Predicted BENIGN', 'Predicted MALIGNANT'],\n",
    "    index = ['True BENIGN', 'True MALIGNANT']\n",
    ")\n",
    "\n",
    "print('Accuracy Score :',knn_rs) \n",
    "cm"
   ]
  },
  {
   "cell_type": "markdown",
   "metadata": {},
   "source": [
    "## 3. Training data set = 0.75,cross validation(k - fold)"
   ]
  },
  {
   "cell_type": "code",
   "execution_count": 10,
   "metadata": {},
   "outputs": [
    {
     "name": "stdout",
     "output_type": "stream",
     "text": [
      "Accuracy Score : 97.2027972027972\n"
     ]
    },
    {
     "data": {
      "text/html": [
       "<div>\n",
       "<style scoped>\n",
       "    .dataframe tbody tr th:only-of-type {\n",
       "        vertical-align: middle;\n",
       "    }\n",
       "\n",
       "    .dataframe tbody tr th {\n",
       "        vertical-align: top;\n",
       "    }\n",
       "\n",
       "    .dataframe thead th {\n",
       "        text-align: right;\n",
       "    }\n",
       "</style>\n",
       "<table border=\"1\" class=\"dataframe\">\n",
       "  <thead>\n",
       "    <tr style=\"text-align: right;\">\n",
       "      <th></th>\n",
       "      <th>Predicted BENIGN</th>\n",
       "      <th>Predicted MALIGNANT</th>\n",
       "    </tr>\n",
       "  </thead>\n",
       "  <tbody>\n",
       "    <tr>\n",
       "      <th>True BENIGN</th>\n",
       "      <td>53</td>\n",
       "      <td>2</td>\n",
       "    </tr>\n",
       "    <tr>\n",
       "      <th>True MALIGNANT</th>\n",
       "      <td>2</td>\n",
       "      <td>86</td>\n",
       "    </tr>\n",
       "  </tbody>\n",
       "</table>\n",
       "</div>"
      ],
      "text/plain": [
       "                Predicted BENIGN  Predicted MALIGNANT\n",
       "True BENIGN                   53                    2\n",
       "True MALIGNANT                 2                   86"
      ]
     },
     "execution_count": 10,
     "metadata": {},
     "output_type": "execute_result"
    }
   ],
   "source": [
    "model = KNeighborsClassifier()\n",
    "y_pred = cross_val_predict(model,X,y,cv = 4)\n",
    "\n",
    "accuracy_score(y, y_pred)\n",
    "\n",
    "knn_cv = accuracy_score(y_test, y_predict) * 100\n",
    "\n",
    "cm = pd.DataFrame(\n",
    "    confusion_matrix(y_test, y_predict),\n",
    "    columns = ['Predicted BENIGN', 'Predicted MALIGNANT'],\n",
    "    index = ['True BENIGN', 'True MALIGNANT']\n",
    ")\n",
    "\n",
    "print('Accuracy Score :',knn_cv) \n",
    "cm"
   ]
  },
  {
   "cell_type": "code",
   "execution_count": 11,
   "metadata": {},
   "outputs": [
    {
     "data": {
      "text/html": [
       "<div>\n",
       "<style scoped>\n",
       "    .dataframe tbody tr th:only-of-type {\n",
       "        vertical-align: middle;\n",
       "    }\n",
       "\n",
       "    .dataframe tbody tr th {\n",
       "        vertical-align: top;\n",
       "    }\n",
       "\n",
       "    .dataframe thead th {\n",
       "        text-align: right;\n",
       "    }\n",
       "</style>\n",
       "<table border=\"1\" class=\"dataframe\">\n",
       "  <thead>\n",
       "    <tr style=\"text-align: right;\">\n",
       "      <th></th>\n",
       "      <th>Decision tree</th>\n",
       "      <th>Naive Bayes</th>\n",
       "      <th>KNN</th>\n",
       "    </tr>\n",
       "  </thead>\n",
       "  <tbody>\n",
       "    <tr>\n",
       "      <th>Hold Out Method</th>\n",
       "      <td>91.608392</td>\n",
       "      <td>93.006993</td>\n",
       "      <td>96.503497</td>\n",
       "    </tr>\n",
       "    <tr>\n",
       "      <th>Random Subsampling</th>\n",
       "      <td>90.209790</td>\n",
       "      <td>93.006993</td>\n",
       "      <td>97.202797</td>\n",
       "    </tr>\n",
       "    <tr>\n",
       "      <th>Cross validation</th>\n",
       "      <td>90.209790</td>\n",
       "      <td>93.006993</td>\n",
       "      <td>97.202797</td>\n",
       "    </tr>\n",
       "  </tbody>\n",
       "</table>\n",
       "</div>"
      ],
      "text/plain": [
       "                    Decision tree  Naive Bayes        KNN\n",
       "Hold Out Method         91.608392    93.006993  96.503497\n",
       "Random Subsampling      90.209790    93.006993  97.202797\n",
       "Cross validation        90.209790    93.006993  97.202797"
      ]
     },
     "execution_count": 11,
     "metadata": {},
     "output_type": "execute_result"
    }
   ],
   "source": [
    "method1 = pd.Series({'Decision tree': dtc_hom,\n",
    "                        'Naive Bayes': nb_hom,\n",
    "                        'KNN': knn_hom})\n",
    "method2 = pd.Series({'Decision tree': dtc_rs,\n",
    "                        'Naive Bayes': nb_rs,\n",
    "                        'KNN': knn_rs})\n",
    "method3 = pd.Series({'Decision tree': dtc_cv,\n",
    "                        'Naive Bayes': nb_cv,\n",
    "                        'KNN': knn_cv})\n",
    "purchase = pd.DataFrame([method1, method2, method3], index = ['Hold Out Method', 'Random Subsampling', 'Cross validation'])\n",
    "purchase"
   ]
  }
 ],
 "metadata": {
  "kernelspec": {
   "display_name": "Python 3",
   "language": "python",
   "name": "python3"
  },
  "language_info": {
   "codemirror_mode": {
    "name": "ipython",
    "version": 3
   },
   "file_extension": ".py",
   "mimetype": "text/x-python",
   "name": "python",
   "nbconvert_exporter": "python",
   "pygments_lexer": "ipython3",
   "version": "3.7.1"
  }
 },
 "nbformat": 4,
 "nbformat_minor": 2
}
