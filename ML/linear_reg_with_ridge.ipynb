{
 "cells": [
  {
   "cell_type": "code",
   "execution_count": null,
   "metadata": {},
   "outputs": [],
   "source": [
    "import pandas as pd\n",
    "import matplotlib.pyplot as plt\n",
    "import numpy as np\n",
    "from sklearn.model_selection import train_test_split\n",
    "from sklearn import metrics\n",
    "from sklearn import preprocessing\n",
    "import random\n",
    "\n",
    "\n",
    "\n"
   ]
  },
  {
   "cell_type": "code",
   "execution_count": null,
   "metadata": {},
   "outputs": [],
   "source": [
    "dataset = pd.read_csv(\"headbrain.csv\")\n",
    "dataset.head()"
   ]
  },
  {
   "cell_type": "code",
   "execution_count": null,
   "metadata": {},
   "outputs": [],
   "source": [
    "#dividing the data into training and testing data\n",
    "x = dataset[\"Head Size(cm^3)\"].values\n",
    "y = dataset[\"Brain Weight(grams)\"].values\n",
    "x = (x - np.min(x)) / (np.max(x) - np.min(x))\n",
    "y = (y - np.min(y)) / (np.max(y) - np.min(y))\n",
    "x_train, x_test, y_train, y_test = train_test_split(x, y, test_size =  0.3,random_state = 2)\n",
    "x_train = x_train.reshape(165,1)\n",
    "y_train = y_train.reshape(165,1)\n",
    "x_train  = np.c_[np.ones(len(x_train)),x_train]\n",
    "x_test  = np.c_[np.ones(len(x_test)),x_test]"
   ]
  },
  {
   "cell_type": "code",
   "execution_count": null,
   "metadata": {},
   "outputs": [],
   "source": [
    "plt.plot(x_train[:,1:], y_train, '*')\n",
    "plt.show()"
   ]
  },
  {
   "cell_type": "code",
   "execution_count": null,
   "metadata": {},
   "outputs": [],
   "source": [
    "iter = 5000\n",
    "theta = np.array([[0, 0]]).T  # shape (3, 1)\n",
    "alpha = 0.1\n",
    "n = len(x_train)\n",
    "l = 1000\n",
    "theta"
   ]
  },
  {
   "cell_type": "code",
   "execution_count": null,
   "metadata": {
    "scrolled": false
   },
   "outputs": [],
   "source": [
    "cost = np.empty(iter)\n",
    "for i in range(iter):\n",
    "    Y_pred = x_train.dot(theta)\n",
    "    cost[i] = (1 / (2 * n)) * np.transpose((x_train @ theta - y_train)) @ (x_train @ theta - y_train) + ((l / (2 * n)) * np.sum(np.square(theta)))\n",
    "    theta = theta - (alpha / n) * ((x_train.T.dot(x_train @ theta - y_train)) + l * (np.sum(theta)))\n",
    "    Y_pred =  x_train.dot(theta)"
   ]
  },
  {
   "cell_type": "code",
   "execution_count": null,
   "metadata": {},
   "outputs": [],
   "source": [
    "plt.plot(x_train[:,1:],Y_pred,label = \"predicted\",color = \"black\")\n",
    "plt.scatter(x_train[:,1:],y_train,label = \"actual\")\n",
    "plt.legend()\n",
    "plt.title(\"Training data\")\n",
    "plt.show()"
   ]
  },
  {
   "cell_type": "code",
   "execution_count": null,
   "metadata": {},
   "outputs": [],
   "source": [
    "h_theta = x_test @ theta\n",
    "plt.plot(x_test[:,1:],h_theta,label = \"predicted\",color = \"black\")\n",
    "plt.scatter(x_test[:,1:],y_test,label = \"actual\")\n",
    "plt.legend()\n",
    "plt.title(\"Testing data\")\n",
    "plt.show()\n"
   ]
  },
  {
   "cell_type": "code",
   "execution_count": null,
   "metadata": {},
   "outputs": [],
   "source": [
    "print(\"RMSE: \",np.sqrt(metrics.mean_squared_error(h_theta,y_test)))"
   ]
  },
  {
   "cell_type": "code",
   "execution_count": null,
   "metadata": {},
   "outputs": [],
   "source": [
    "\n",
    "plt.plot(np.arange(0,iter),cost,'o')\n",
    "plt.xlabel(\"No of iterations\")\n",
    "plt.ylabel(\"Cost function\")\n",
    "plt.title(\"Number of iterations v/s Cost function\")\n",
    "plt.show()"
   ]
  }
 ],
 "metadata": {
  "kernelspec": {
   "display_name": "Python 3",
   "language": "python",
   "name": "python3"
  },
  "language_info": {
   "codemirror_mode": {
    "name": "ipython",
    "version": 3
   },
   "file_extension": ".py",
   "mimetype": "text/x-python",
   "name": "python",
   "nbconvert_exporter": "python",
   "pygments_lexer": "ipython3",
   "version": "3.7.1"
  }
 },
 "nbformat": 4,
 "nbformat_minor": 2
}
