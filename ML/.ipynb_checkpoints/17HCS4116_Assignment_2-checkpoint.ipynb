{
 "cells": [
  {
   "cell_type": "markdown",
   "metadata": {},
   "source": [
    "# Question 1 "
   ]
  },
  {
   "cell_type": "code",
   "execution_count": 1,
   "metadata": {},
   "outputs": [],
   "source": [
    "import pandas as pd\n",
    "import numpy as np\n",
    "import matplotlib.pyplot as plt\n",
    "from sklearn.linear_model import Ridge, Lasso, LogisticRegression\n",
    "from sklearn.preprocessing import MinMaxScaler,LabelEncoder, label_binarize\n",
    "from sklearn.model_selection import train_test_split, GridSearchCV\n",
    "from sklearn.metrics import accuracy_score,confusion_matrix, roc_curve, auc\n",
    "from mnist.loader import MNIST\n"
   ]
  },
  {
   "cell_type": "code",
   "execution_count": 2,
   "metadata": {},
   "outputs": [],
   "source": [
    "def sigmoid(z):\n",
    "    return 1 / (1 + np.exp(-z))"
   ]
  },
  {
   "cell_type": "code",
   "execution_count": 3,
   "metadata": {},
   "outputs": [
    {
     "data": {
      "text/html": [
       "<div>\n",
       "<style scoped>\n",
       "    .dataframe tbody tr th:only-of-type {\n",
       "        vertical-align: middle;\n",
       "    }\n",
       "\n",
       "    .dataframe tbody tr th {\n",
       "        vertical-align: top;\n",
       "    }\n",
       "\n",
       "    .dataframe thead th {\n",
       "        text-align: right;\n",
       "    }\n",
       "</style>\n",
       "<table border=\"1\" class=\"dataframe\">\n",
       "  <thead>\n",
       "    <tr style=\"text-align: right;\">\n",
       "      <th></th>\n",
       "      <th>one</th>\n",
       "      <th>two</th>\n",
       "      <th>three</th>\n",
       "      <th>four</th>\n",
       "      <th>five</th>\n",
       "      <th>six</th>\n",
       "      <th>seven</th>\n",
       "      <th>eight</th>\n",
       "      <th>nine</th>\n",
       "      <th>ten</th>\n",
       "      <th>eleven</th>\n",
       "      <th>twelve</th>\n",
       "      <th>thirteen</th>\n",
       "      <th>fourteen</th>\n",
       "      <th>fifteen</th>\n",
       "    </tr>\n",
       "  </thead>\n",
       "  <tbody>\n",
       "    <tr>\n",
       "      <th>0</th>\n",
       "      <td>39</td>\n",
       "      <td>State-gov</td>\n",
       "      <td>77516</td>\n",
       "      <td>Bachelors</td>\n",
       "      <td>13</td>\n",
       "      <td>Never-married</td>\n",
       "      <td>Adm-clerical</td>\n",
       "      <td>Not-in-family</td>\n",
       "      <td>White</td>\n",
       "      <td>Male</td>\n",
       "      <td>2174</td>\n",
       "      <td>0</td>\n",
       "      <td>40</td>\n",
       "      <td>United-States</td>\n",
       "      <td>0</td>\n",
       "    </tr>\n",
       "    <tr>\n",
       "      <th>1</th>\n",
       "      <td>50</td>\n",
       "      <td>Self-emp-not-inc</td>\n",
       "      <td>83311</td>\n",
       "      <td>Bachelors</td>\n",
       "      <td>13</td>\n",
       "      <td>Married-civ-spouse</td>\n",
       "      <td>Exec-managerial</td>\n",
       "      <td>Husband</td>\n",
       "      <td>White</td>\n",
       "      <td>Male</td>\n",
       "      <td>0</td>\n",
       "      <td>0</td>\n",
       "      <td>13</td>\n",
       "      <td>United-States</td>\n",
       "      <td>0</td>\n",
       "    </tr>\n",
       "    <tr>\n",
       "      <th>2</th>\n",
       "      <td>38</td>\n",
       "      <td>Private</td>\n",
       "      <td>215646</td>\n",
       "      <td>HS-grad</td>\n",
       "      <td>9</td>\n",
       "      <td>Divorced</td>\n",
       "      <td>Handlers-cleaners</td>\n",
       "      <td>Not-in-family</td>\n",
       "      <td>White</td>\n",
       "      <td>Male</td>\n",
       "      <td>0</td>\n",
       "      <td>0</td>\n",
       "      <td>40</td>\n",
       "      <td>United-States</td>\n",
       "      <td>0</td>\n",
       "    </tr>\n",
       "    <tr>\n",
       "      <th>3</th>\n",
       "      <td>53</td>\n",
       "      <td>Private</td>\n",
       "      <td>234721</td>\n",
       "      <td>11th</td>\n",
       "      <td>7</td>\n",
       "      <td>Married-civ-spouse</td>\n",
       "      <td>Handlers-cleaners</td>\n",
       "      <td>Husband</td>\n",
       "      <td>Black</td>\n",
       "      <td>Male</td>\n",
       "      <td>0</td>\n",
       "      <td>0</td>\n",
       "      <td>40</td>\n",
       "      <td>United-States</td>\n",
       "      <td>0</td>\n",
       "    </tr>\n",
       "    <tr>\n",
       "      <th>4</th>\n",
       "      <td>28</td>\n",
       "      <td>Private</td>\n",
       "      <td>338409</td>\n",
       "      <td>Bachelors</td>\n",
       "      <td>13</td>\n",
       "      <td>Married-civ-spouse</td>\n",
       "      <td>Prof-specialty</td>\n",
       "      <td>Wife</td>\n",
       "      <td>Black</td>\n",
       "      <td>Female</td>\n",
       "      <td>0</td>\n",
       "      <td>0</td>\n",
       "      <td>40</td>\n",
       "      <td>Cuba</td>\n",
       "      <td>0</td>\n",
       "    </tr>\n",
       "  </tbody>\n",
       "</table>\n",
       "</div>"
      ],
      "text/plain": [
       "   one                two   three        four  five                  six  \\\n",
       "0   39          State-gov   77516   Bachelors    13        Never-married   \n",
       "1   50   Self-emp-not-inc   83311   Bachelors    13   Married-civ-spouse   \n",
       "2   38            Private  215646     HS-grad     9             Divorced   \n",
       "3   53            Private  234721        11th     7   Married-civ-spouse   \n",
       "4   28            Private  338409   Bachelors    13   Married-civ-spouse   \n",
       "\n",
       "                seven           eight    nine      ten  eleven  twelve  \\\n",
       "0        Adm-clerical   Not-in-family   White     Male    2174       0   \n",
       "1     Exec-managerial         Husband   White     Male       0       0   \n",
       "2   Handlers-cleaners   Not-in-family   White     Male       0       0   \n",
       "3   Handlers-cleaners         Husband   Black     Male       0       0   \n",
       "4      Prof-specialty            Wife   Black   Female       0       0   \n",
       "\n",
       "   thirteen        fourteen  fifteen  \n",
       "0        40   United-States        0  \n",
       "1        13   United-States        0  \n",
       "2        40   United-States        0  \n",
       "3        40   United-States        0  \n",
       "4        40            Cuba        0  "
      ]
     },
     "execution_count": 3,
     "metadata": {},
     "output_type": "execute_result"
    }
   ],
   "source": [
    "train_set = pd.read_csv('train_new.csv',names = ['one','two','three','four','five','six','seven','eight','nine','ten','eleven','twelve','thirteen','fourteen','fifteen'])\n",
    "test_set = pd.read_csv('test_new.csv',names = ['one','two','three','four','five','six','seven','eight','nine','ten','eleven','twelve','thirteen','fourteen','fifteen'])\n",
    "\n",
    "\n",
    "total_set = train_set.append(test_set)\n",
    "total_set.head()"
   ]
  },
  {
   "cell_type": "code",
   "execution_count": 4,
   "metadata": {},
   "outputs": [],
   "source": [
    "\n",
    "y_train = total_set.iloc[0:30161,-1]\n",
    "y_test = total_set.iloc[30161:,-1]\n",
    "\n",
    "total_set.drop('fifteen',axis = 1,inplace = True)\n",
    "\n",
    "total_set = pd.get_dummies(total_set)\n",
    "\n",
    "x_train = total_set.iloc[0:30161,:]\n",
    "x_test = total_set.iloc[30161:,:]\n",
    "\n",
    "\n",
    "scaler = MinMaxScaler()\n",
    "x_train = scaler.fit_transform(x_train)\n",
    "x_test = scaler.fit_transform(x_test)\n",
    "\n",
    "x_train  = np.c_[np.ones(len(x_train)),x_train]\n",
    "x_test  = np.c_[np.ones(len(x_test)),x_test]\n"
   ]
  },
  {
   "cell_type": "markdown",
   "metadata": {},
   "source": [
    "# Logistic Regression without regularization as a classifier "
   ]
  },
  {
   "cell_type": "code",
   "execution_count": 5,
   "metadata": {},
   "outputs": [
    {
     "name": "stdout",
     "output_type": "stream",
     "text": [
      "Model accuracy is: 82.29865214793173\n"
     ]
    }
   ],
   "source": [
    "iter = 2000\n",
    "theta = np.zeros(x_train.shape[1]).T  \n",
    "alpha = 0.1\n",
    "n = len(x_train)\n",
    "\n",
    "cost = np.empty(iter)\n",
    "for i in range(iter):\n",
    "    z = x_train.dot(theta)\n",
    "    Y_pred = sigmoid(z)\n",
    "    cost[i] = (-1 / n) * (y_train.T.dot(np.log(Y_pred)) + (1 - y_train).T.dot(np.log(1 - Y_pred)) )\n",
    "    theta = theta - (alpha / n) * (x_train.T.dot(Y_pred - y_train)) \n",
    "    \n",
    "h_theta = x_test.dot(theta)\n",
    "h_theta[h_theta < 0.5] = 0\n",
    "h_theta[h_theta >= 0.5] = 1\n",
    "\n",
    "print(\"Model accuracy is:\" , accuracy_score(y_test,h_theta) * 100)\n"
   ]
  },
  {
   "cell_type": "markdown",
   "metadata": {},
   "source": [
    "# Logistic Regression with L1 regularization"
   ]
  },
  {
   "cell_type": "code",
   "execution_count": 6,
   "metadata": {},
   "outputs": [
    {
     "name": "stdout",
     "output_type": "stream",
     "text": [
      "Model accuracy is: 82.29865214793173\n"
     ]
    },
    {
     "data": {
      "image/png": "[encoded data removed]",
      "text/plain": [
       "<Figure size 432x288 with 1 Axes>"
      ]
     },
     "metadata": {
      "needs_background": "light"
     },
     "output_type": "display_data"
    }
   ],
   "source": [
    "iter = 2000\n",
    "theta = np.zeros(x_train.shape[1]).T  \n",
    "alpha = 0.1\n",
    "n = len(x_train)\n",
    "l1_param = 0.01\n",
    "\n",
    "cost = np.empty(iter)\n",
    "accuracy = np.empty(iter)\n",
    "for i in range(iter):\n",
    "    z = x_train.dot(theta)\n",
    "    Y_pred = sigmoid(z)\n",
    "    cost[i] = (-1 / n) * (y_train.T.dot(np.log(Y_pred)) + (1 - y_train).T.dot(np.log(1 - Y_pred)) + (l1_param * (np.sum(np.abs(theta)))))  \n",
    "    theta = theta - (alpha / n) * (x_train.T.dot(Y_pred - y_train)) \n",
    "    h_theta = x_test.dot(theta)\n",
    "    h_theta[h_theta < 0.5] = 0\n",
    "    h_theta[h_theta >= 0.5] = 1\n",
    "    accuracy[i] = accuracy_score(y_test,h_theta)\n",
    "    \n",
    "\n",
    "\n",
    "print(\"Model accuracy is:\" , accuracy_score(y_test,h_theta) * 100)\n",
    "\n",
    "plt.plot(np.arange(0,iter),cost,'r-',label = 'Cost')\n",
    "plt.plot(np.arange(0,iter),accuracy,'b-',label = 'Accuracy')\n",
    "plt.xlabel(\"No of iterations\")\n",
    "plt.ylabel(\"Percentage\")\n",
    "plt.title(\"Number of iterations v/s Cost function and Accuracy\")\n",
    "plt.legend()\n",
    "plt.show()\n"
   ]
  },
  {
   "cell_type": "markdown",
   "metadata": {},
   "source": [
    "# Logistic Regression with L2 regularization "
   ]
  },
  {
   "cell_type": "code",
   "execution_count": 7,
   "metadata": {},
   "outputs": [
    {
     "name": "stdout",
     "output_type": "stream",
     "text": [
      "Model accuracy is: 82.29865214793173\n"
     ]
    },
    {
     "data": {
      "image/png": "[encoded data removed]",
      "text/plain": [
       "<Figure size 432x288 with 1 Axes>"
      ]
     },
     "metadata": {
      "needs_background": "light"
     },
     "output_type": "display_data"
    }
   ],
   "source": [
    "iter = 2000\n",
    "theta = np.zeros(x_train.shape[1]).T  \n",
    "alpha = 0.1\n",
    "n = len(x_train)\n",
    "l2_param = 0.01\n",
    "\n",
    "cost = np.empty(iter)\n",
    "accuracy = np.empty(iter)\n",
    "\n",
    "for i in range(iter):\n",
    "    z = x_train.dot(theta)\n",
    "    Y_pred = sigmoid(z)\n",
    "    cost[i] = (-1 / n) * (y_train.T.dot(np.log(Y_pred)) + (1 - y_train).T.dot(np.log(1 - Y_pred)) + (l2_param * (np.sum(theta**2))))  \n",
    "    theta = theta - (alpha / n) * (x_train.T.dot(Y_pred - y_train)) \n",
    "    h_theta = x_test.dot(theta)\n",
    "    h_theta[h_theta < 0.5] = 0\n",
    "    h_theta[h_theta >= 0.5] = 1\n",
    "    accuracy[i] = accuracy_score(y_test,h_theta)\n",
    "    \n",
    "\n",
    "\n",
    "print(\"Model accuracy is:\" , accuracy_score(y_test,h_theta) * 100)\n",
    "\n",
    "plt.plot(np.arange(0,iter),cost,'r-',label = 'Cost')\n",
    "plt.plot(np.arange(0,iter),accuracy,'b-',label = 'Accuracy')\n",
    "plt.xlabel(\"No of iterations\")\n",
    "plt.ylabel(\"Percentage\")\n",
    "plt.title(\"Number of iterations v/s Cost function and Accuracy\")\n",
    "plt.legend()\n",
    "plt.show()\n"
   ]
  },
  {
   "cell_type": "markdown",
   "metadata": {},
   "source": [
    "# Conclusion:\n",
    "### By reducing the sum of absolute values of the coefficients, what Lasso Regularization (L1 Norm) does is to reduce the number of features in the model altogether to predict the target variable.\n",
    "### On the other hand, by reducing the sum of square of coefficients, Ridge Regularization (L2 Norm) doesn’t necessarily reduce the number of features, but rather reduces the magnitude/impact that each features has on the model by reducing the coefficient value.\n",
    "### Both regularization does indeed prevent the model from overfitting, but I would like to think of Lasso Regularization as reducing the quantity of features while Ridge Regularization as reducing the quality of features."
   ]
  },
  {
   "cell_type": "markdown",
   "metadata": {},
   "source": [
    "# Question 2"
   ]
  },
  {
   "cell_type": "code",
   "execution_count": 8,
   "metadata": {},
   "outputs": [],
   "source": [
    "mndata = MNIST(gz=True)\n",
    "images, labels = mndata.load_training()\n",
    "x_train, y_train = np.array(images), np.array(labels)\n",
    "images, labels = mndata.load_testing()\n",
    "x_test, y_test = np.array(images), np.array(labels)"
   ]
  },
  {
   "cell_type": "markdown",
   "metadata": {},
   "source": [
    "## One vs All Logistic Regression with L1 regularization"
   ]
  },
  {
   "cell_type": "code",
   "execution_count": 9,
   "metadata": {},
   "outputs": [
    {
     "name": "stdout",
     "output_type": "stream",
     "text": [
      "Training accuracy:  93.18833333333333\n",
      "Testing accuracy:  91.75\n"
     ]
    }
   ],
   "source": [
    "logreg_with_L1 = LogisticRegression(penalty='l1', multi_class='ovr', solver='liblinear')\n",
    "logreg_with_L1.fit(x_train, y_train)\n",
    "print('Training accuracy: ',logreg_with_L1.score(x_train, y_train) * 100)\n",
    "print('Testing accuracy: ',logreg_with_L1.score(x_test, y_test) * 100)"
   ]
  },
  {
   "cell_type": "markdown",
   "metadata": {},
   "source": [
    "## One vs All Logistic Regression with L2 regularization"
   ]
  },
  {
   "cell_type": "code",
   "execution_count": 10,
   "metadata": {},
   "outputs": [
    {
     "name": "stdout",
     "output_type": "stream",
     "text": [
      "Training accuracy:  85.38833333333334\n",
      "Testing accuracy:  98.88\n"
     ]
    }
   ],
   "source": [
    "images, labels = mndata.load_training()\n",
    "x_train, y_train = np.array(images), np.array(labels)\n",
    "images, labels = mndata.load_testing()\n",
    "x_test, y_test = np.array(images), np.array(labels)\n",
    "\n",
    "logreg_with_L2 = LogisticRegression(penalty='l2', multi_class='ovr', solver='liblinear',max_iter = 1000)\n",
    "logreg_with_L2.fit(x_test, y_test)\n",
    "print('Training accuracy: ',logreg_with_L2.score(x_train, y_train) * 100)\n",
    "print('Testing accuracy: ',logreg_with_L2.score(x_test, y_test) * 100)"
   ]
  },
  {
   "cell_type": "markdown",
   "metadata": {},
   "source": [
    "### Observation:\n",
    "###  Since the training accuracy and testing accuracy are almost the same with both L1 and L2 regularization, we can conclude that the model is a good fit."
   ]
  },
  {
   "cell_type": "code",
   "execution_count": 11,
   "metadata": {},
   "outputs": [
    {
     "data": {
      "image/png": "[encoded data removed]",
      "text/plain": [
       "<Figure size 432x288 with 1 Axes>"
      ]
     },
     "metadata": {
      "needs_background": "light"
     },
     "output_type": "display_data"
    }
   ],
   "source": [
    "probabs = logreg_with_L2.predict_proba(x_train)\n",
    "classes = range(10)\n",
    "y_test = label_binarize(y_train, classes)\n",
    "\n",
    "for i in range(10):\n",
    "    preds = probabs[:,i]    \n",
    "    fpr, tpr, threshold = roc_curve(y_test[:, i], preds)\n",
    "    roc_auc = auc(fpr, tpr)\n",
    "    plt.title('Receiver Operating Characteristic')\n",
    "    plt.plot(fpr, tpr, 'b', label = 'AUC = %0.2f' % roc_auc)\n",
    "    plt.legend(loc = 'lower right')\n",
    "    plt.ylabel('True Positive Rate')\n",
    "    plt.xlabel('False Positive Rate')\n",
    "plt.show()"
   ]
  }
 ],
 "metadata": {
  "kernelspec": {
   "display_name": "Python 3",
   "language": "python",
   "name": "python3"
  },
  "language_info": {
   "codemirror_mode": {
    "name": "ipython",
    "version": 3
   },
   "file_extension": ".py",
   "mimetype": "text/x-python",
   "name": "python",
   "nbconvert_exporter": "python",
   "pygments_lexer": "ipython3",
   "version": "3.7.1"
  }
 },
 "nbformat": 4,
 "nbformat_minor": 4
}
