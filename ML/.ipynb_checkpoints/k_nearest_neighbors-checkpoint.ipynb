{
 "cells": [
  {
   "cell_type": "code",
   "execution_count": 27,
   "metadata": {},
   "outputs": [
    {
     "name": "stdout",
     "output_type": "stream",
     "text": [
      "   sepal_length  sepal_width  petal_length  petal_width species\n",
      "0           5.1          3.5           1.4          0.2  setosa\n",
      "1           4.9          3.0           1.4          0.2  setosa\n",
      "2           4.7          3.2           1.3          0.2  setosa\n",
      "3           4.6          3.1           1.5          0.2  setosa\n",
      "4           5.0          3.6           1.4          0.2  setosa\n",
      "setosa\n",
      "[14, 50, 65, 18, 15]\n"
     ]
    }
   ],
   "source": [
    "import pandas as pd\n",
    "import numpy as np\n",
    "import math\n",
    "import operator\n",
    "\n",
    "data = pd.read_csv(\"iris.csv\")\n",
    "print(x.head()) \n",
    "\n",
    "def ED(x1, x2, length): \n",
    "    distance = 0\n",
    "    for x in range(length):\n",
    "        distance += np.square(x1[x] - x2[x])\n",
    "    return math.sqrt(distance)\n",
    "\n",
    "def knn(trainingSet, testInstance, k): \n",
    "\n",
    "    distances = {}\n",
    "    sort = {}\n",
    " \n",
    "    length = testInstance.shape[1]\n",
    "    \n",
    "    for x in range(len(trainingSet)):\n",
    "        dist = ED(testInstance, trainingSet.iloc[x], length)\n",
    "        distances[x] = dist\n",
    "    \n",
    "    sortdist = sorted(distances.items(), key = operator.itemgetter(1))\n",
    "    neighbors = []\n",
    "    \n",
    "    for x in range(k):\n",
    "        neighbors.append(sortdist[x][0])\n",
    "        \n",
    "    Votes = {}\n",
    "    \n",
    "    for x in range(len(neighbors)):\n",
    "        response = trainingSet.iloc[neighbors[x]][-1]\n",
    "        if response in Votes:\n",
    "            Votes[response] += 1\n",
    "        else:\n",
    "            Votes[response] = 1\n",
    "    sortvotes = sorted(Votes.items(), key = operator.itemgetter(1), reverse = True)\n",
    "    return(sortvotes[0][0], neighbors)\n",
    "\n",
    "testSet = [[12.8, 3.4, 0.8, .4]]\n",
    "test = pd.DataFrame(testSet)\n",
    "k = 5\n",
    "result,neigh = knn(data, test, k)\n",
    "print(result)\n",
    "print(neigh)"
   ]
  }
 ],
 "metadata": {
  "kernelspec": {
   "display_name": "Python 3.6.2 32-bit",
   "language": "python",
   "name": "python36232bitd47103a6e5ae4c098fd049203838ad8c"
  },
  "language_info": {
   "codemirror_mode": {
    "name": "ipython",
    "version": 3
   },
   "file_extension": ".py",
   "mimetype": "text/x-python",
   "name": "python",
   "nbconvert_exporter": "python",
   "pygments_lexer": "ipython3",
   "version": "3.6.2"
  }
 },
 "nbformat": 4,
 "nbformat_minor": 2
}
