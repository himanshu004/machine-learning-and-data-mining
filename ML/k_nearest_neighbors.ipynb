{
 "cells": [
  {
   "cell_type": "code",
   "execution_count": 2,
   "metadata": {},
   "outputs": [
    {
     "name": "stdout",
     "output_type": "stream",
     "text": [
      "   sepal_length  sepal_width  petal_length  petal_width\n",
      "0      0.222222     0.625000      0.067797     0.041667\n",
      "1      0.166667     0.416667      0.067797     0.041667\n",
      "2      0.111111     0.500000      0.050847     0.041667\n",
      "3      0.083333     0.458333      0.084746     0.041667\n",
      "4      0.194444     0.666667      0.067797     0.041667\n",
      "setosa\n",
      "[14, 50, 65, 18, 15]\n"
     ]
    }
   ],
   "source": [
    "import pandas as pd\n",
    "import numpy as np\n",
    "import math\n",
    "import operator\n",
    "\n",
    "data = pd.read_csv(\"iris.csv\")\n",
    "print(x.head()) \n",
    "\n",
    "def ED(x1, x2, length): \n",
    "    distance = 0\n",
    "    for x in range(length):\n",
    "        distance += np.square(x1[x] - x2[x])\n",
    "    return math.sqrt(distance)\n",
    "\n",
    "def knn(trainingSet, testInstance, k): \n",
    "\n",
    "    distances = {}\n",
    "    sort = {}\n",
    " \n",
    "    length = testInstance.shape[1]\n",
    "    \n",
    "    for x in range(len(trainingSet)):\n",
    "        dist = ED(testInstance, trainingSet.iloc[x], length)\n",
    "        distances[x] = dist\n",
    "    \n",
    "    sortdist = sorted(distances.items(), key = operator.itemgetter(1))\n",
    "    neighbors = []\n",
    "    \n",
    "    for x in range(k):\n",
    "        neighbors.append(sortdist[x][0])\n",
    "        \n",
    "    Votes = {}\n",
    "    \n",
    "    for x in range(len(neighbors)):\n",
    "        response = trainingSet.iloc[neighbors[x]][-1]\n",
    "        if response in Votes:\n",
    "            Votes[response] += 1\n",
    "        else:\n",
    "            Votes[response] = 1\n",
    "    sortvotes = sorted(Votes.items(), key = operator.itemgetter(1), reverse = True)\n",
    "    return(sortvotes[0][0], neighbors)\n",
    "\n",
    "testSet = [[12.8, 3.4, 0.8, .4]]\n",
    "test = pd.DataFrame(testSet)\n",
    "k = 5\n",
    "result,neigh = knn(data, test, k)\n",
    "print(result)\n",
    "print(neigh)"
   ]
  }
 ],
 "metadata": {
  "kernelspec": {
   "display_name": "Python 3",
   "language": "python",
   "name": "python3"
  },
  "language_info": {
   "codemirror_mode": {
    "name": "ipython",
    "version": 3
   },
   "file_extension": ".py",
   "mimetype": "text/x-python",
   "name": "python",
   "nbconvert_exporter": "python",
   "pygments_lexer": "ipython3",
   "version": "3.7.1"
  }
 },
 "nbformat": 4,
 "nbformat_minor": 2
}
