{
 "cells": [
  {
   "cell_type": "code",
   "execution_count": 160,
   "metadata": {},
   "outputs": [],
   "source": [
    "import pandas as pd\n",
    "import matplotlib.pyplot as plt\n",
    "import numpy as np\n",
    "from sklearn.model_selection import train_test_split\n",
    "from sklearn import metrics\n",
    "from sklearn import preprocessing\n",
    "import random\n",
    "\n",
    "\n",
    "\n"
   ]
  },
  {
   "cell_type": "code",
   "execution_count": 191,
   "metadata": {},
   "outputs": [
    {
     "data": {
      "text/html": [
       "<div>\n",
       "<style scoped>\n",
       "    .dataframe tbody tr th:only-of-type {\n",
       "        vertical-align: middle;\n",
       "    }\n",
       "\n",
       "    .dataframe tbody tr th {\n",
       "        vertical-align: top;\n",
       "    }\n",
       "\n",
       "    .dataframe thead th {\n",
       "        text-align: right;\n",
       "    }\n",
       "</style>\n",
       "<table border=\"1\" class=\"dataframe\">\n",
       "  <thead>\n",
       "    <tr style=\"text-align: right;\">\n",
       "      <th></th>\n",
       "      <th>Gender</th>\n",
       "      <th>Age Range</th>\n",
       "      <th>Head Size(cm^3)</th>\n",
       "      <th>Brain Weight(grams)</th>\n",
       "    </tr>\n",
       "  </thead>\n",
       "  <tbody>\n",
       "    <tr>\n",
       "      <td>0</td>\n",
       "      <td>1</td>\n",
       "      <td>1</td>\n",
       "      <td>4512</td>\n",
       "      <td>1530</td>\n",
       "    </tr>\n",
       "    <tr>\n",
       "      <td>1</td>\n",
       "      <td>1</td>\n",
       "      <td>1</td>\n",
       "      <td>3738</td>\n",
       "      <td>1297</td>\n",
       "    </tr>\n",
       "    <tr>\n",
       "      <td>2</td>\n",
       "      <td>1</td>\n",
       "      <td>1</td>\n",
       "      <td>4261</td>\n",
       "      <td>1335</td>\n",
       "    </tr>\n",
       "    <tr>\n",
       "      <td>3</td>\n",
       "      <td>1</td>\n",
       "      <td>1</td>\n",
       "      <td>3777</td>\n",
       "      <td>1282</td>\n",
       "    </tr>\n",
       "    <tr>\n",
       "      <td>4</td>\n",
       "      <td>1</td>\n",
       "      <td>1</td>\n",
       "      <td>4177</td>\n",
       "      <td>1590</td>\n",
       "    </tr>\n",
       "    <tr>\n",
       "      <td>...</td>\n",
       "      <td>...</td>\n",
       "      <td>...</td>\n",
       "      <td>...</td>\n",
       "      <td>...</td>\n",
       "    </tr>\n",
       "    <tr>\n",
       "      <td>232</td>\n",
       "      <td>2</td>\n",
       "      <td>2</td>\n",
       "      <td>3214</td>\n",
       "      <td>1110</td>\n",
       "    </tr>\n",
       "    <tr>\n",
       "      <td>233</td>\n",
       "      <td>2</td>\n",
       "      <td>2</td>\n",
       "      <td>3394</td>\n",
       "      <td>1215</td>\n",
       "    </tr>\n",
       "    <tr>\n",
       "      <td>234</td>\n",
       "      <td>2</td>\n",
       "      <td>2</td>\n",
       "      <td>3233</td>\n",
       "      <td>1104</td>\n",
       "    </tr>\n",
       "    <tr>\n",
       "      <td>235</td>\n",
       "      <td>2</td>\n",
       "      <td>2</td>\n",
       "      <td>3352</td>\n",
       "      <td>1170</td>\n",
       "    </tr>\n",
       "    <tr>\n",
       "      <td>236</td>\n",
       "      <td>2</td>\n",
       "      <td>2</td>\n",
       "      <td>3391</td>\n",
       "      <td>1120</td>\n",
       "    </tr>\n",
       "  </tbody>\n",
       "</table>\n",
       "<p>237 rows × 4 columns</p>\n",
       "</div>"
      ],
      "text/plain": [
       "     Gender  Age Range  Head Size(cm^3)  Brain Weight(grams)\n",
       "0         1          1             4512                 1530\n",
       "1         1          1             3738                 1297\n",
       "2         1          1             4261                 1335\n",
       "3         1          1             3777                 1282\n",
       "4         1          1             4177                 1590\n",
       "..      ...        ...              ...                  ...\n",
       "232       2          2             3214                 1110\n",
       "233       2          2             3394                 1215\n",
       "234       2          2             3233                 1104\n",
       "235       2          2             3352                 1170\n",
       "236       2          2             3391                 1120\n",
       "\n",
       "[237 rows x 4 columns]"
      ]
     },
     "execution_count": 191,
     "metadata": {},
     "output_type": "execute_result"
    }
   ],
   "source": [
    "dataset = pd.read_csv(\"headbrain.csv\")\n",
    "dataset"
   ]
  },
  {
   "cell_type": "code",
   "execution_count": 266,
   "metadata": {},
   "outputs": [],
   "source": [
    "#dividing the data into training and testing data\n",
    "x = dataset[\"Head Size(cm^3)\"].values\n",
    "y = dataset[\"Brain Weight(grams)\"].values\n",
    "x = (x - np.min(x)) / (np.max(x) - np.min(x))\n",
    "y = (y - np.min(y)) / (np.max(y) - np.min(y))\n",
    "x_train, x_test, y_train, y_test = train_test_split(x, y, test_size =  0.3,random_state = 2)"
   ]
  },
  {
   "cell_type": "code",
   "execution_count": 8,
   "metadata": {},
   "outputs": [
    {
     "data": {
      "image/png": "[encoded data removed]",
      "text/plain": [
       "<Figure size 432x288 with 1 Axes>"
      ]
     },
     "metadata": {
      "needs_background": "light"
     },
     "output_type": "display_data"
    }
   ],
   "source": [
    "plt.plot(x_train, y_train, 'o')\n",
    "plt.show()"
   ]
  },
  {
   "cell_type": "code",
   "execution_count": 272,
   "metadata": {},
   "outputs": [
    {
     "name": "stdout",
     "output_type": "stream",
     "text": [
      "[0.25308337 0.64824864 0.5574741  0.52244697 0.3325111  0.4671929\n",
      " 0.45436606 0.78687716 0.47360631 0.26048347 0.37444499 0.71336951\n",
      " 0.2150962  0.22446966 0.33103108 0.47705969 0.50074001 0.10804144\n",
      " 0.40108535 0.25061667 0.38431179 0.19930932 0.62802171 0.31573754\n",
      " 0.73211643 0.44055254 0.55895412 0.29501727 0.06758757 0.23828318\n",
      " 0.21953626 0.28465713 0.60039467 0.46077948 0.17118895 0.21608288\n",
      " 0.65416872 0.3300444  0.41983226 0.3078441  0.55796744 0.48347311\n",
      " 0.59694129 0.         0.37444499 0.35421806 0.38135175 0.59003453\n",
      " 0.42723236 0.3325111  0.62900839 0.449926   0.46669956 0.29501727\n",
      " 0.550074   0.50222003 0.26097681 0.3127775  0.43857918 0.4573261\n",
      " 0.2224963  0.39812531 0.4647262  0.84953133 0.88406512 0.64232856\n",
      " 0.38233843 0.48495313 0.17217563 0.38628515 0.36803157 0.46817958\n",
      " 0.28219043 0.29748397 0.44104588 0.36408485 0.38332511 0.13813518\n",
      " 0.49531327 0.47804637 0.33843118 0.33596448 0.37987173 0.52392699\n",
      " 0.33201776 0.56043414 0.84361125 0.425259   0.5772077  0.84065121\n",
      " 0.29057721 0.63542181 0.28712383 0.56536754 0.70942279 0.61272817\n",
      " 0.18944253 0.41341885 0.63394179 0.64923532 0.6822891  0.24370992\n",
      " 0.37148495 0.4227923  0.48100641 0.45781944 0.65959546 0.5821411\n",
      " 0.34188456 0.58164776 0.4548594  0.31179082 0.62111495 0.52836704\n",
      " 0.44153922 0.38085841 0.45584608 0.07104095 0.65416872 0.57770104\n",
      " 0.76467686 0.5476073  0.41243217 0.32609768 0.73014307 0.49136655\n",
      " 0.78342378 0.16674889 0.38776517 0.81943759 0.32165762 0.22200296\n",
      " 0.59940799 0.71090281 0.30291071 0.46423286 0.52935372 0.3349778\n",
      " 0.20966946 0.71879625 0.57030094 0.02614702 0.31475086 0.50715343\n",
      " 0.42871238 0.65663542 0.36063148 0.27035027 0.53083374 0.75629008\n",
      " 0.21953626 0.13270844 0.47607301 0.52244697 0.41489887 0.40848545\n",
      " 0.41391219 0.44301924 0.3325111  0.10705476 0.53478046 0.53478046\n",
      " 0.69116922 0.57030094 0.53428712]\n"
     ]
    },
    {
     "data": {
      "text/plain": [
       "165"
      ]
     },
     "execution_count": 272,
     "metadata": {},
     "output_type": "execute_result"
    }
   ],
   "source": [
    "iter = 5000\n",
    "m = 0\n",
    "c = 0\n",
    "alpha = 0.01\n",
    "n = len(x_train)\n",
    "print(x_train)\n",
    "n"
   ]
  },
  {
   "cell_type": "code",
   "execution_count": 276,
   "metadata": {
    "scrolled": false
   },
   "outputs": [
    {
     "name": "stdout",
     "output_type": "stream",
     "text": [
      "0.7675093084960777 0.13209803506452777\n"
     ]
    }
   ],
   "source": [
    "Y_pred\n",
    "for i in range(iter):\n",
    "    Y_pred = m * x_train + c\n",
    "#     print(Y_pred)\n",
    "#     print(np.sum((y_train - Y_pred) ** 2))\n",
    "    dm = (-1 / n) * np.sum(x_train @ (y_train - Y_pred))\n",
    "    dc = (-1 / n) * np.sum(y_train - Y_pred)  \n",
    "#     print(dm, dc)\n",
    "    m = m - alpha * dm  \n",
    "    c = c - alpha * dc  \n",
    "#     print(m,c)\n",
    "\n",
    "    Y_pred = m * x_train + c\n",
    "\n",
    "print(m,c)"
   ]
  },
  {
   "cell_type": "code",
   "execution_count": 277,
   "metadata": {},
   "outputs": [
    {
     "data": {
      "text/plain": [
       "<matplotlib.legend.Legend at 0x2a9178fdfc8>"
      ]
     },
     "execution_count": 277,
     "metadata": {},
     "output_type": "execute_result"
    },
    {
     "data": {
      "image/png": "[encoded data removed]",
      "text/plain": [
       "<Figure size 432x288 with 1 Axes>"
      ]
     },
     "metadata": {
      "needs_background": "light"
     },
     "output_type": "display_data"
    }
   ],
   "source": [
    "plt.plot(x_train,Y_pred,label = \"line\",color = \"black\")\n",
    "plt.scatter(x_train,y_train,label = \"points\")\n",
    "plt.legend()"
   ]
  }
 ],
 "metadata": {
  "kernelspec": {
   "display_name": "Python 3",
   "language": "python",
   "name": "python3"
  },
  "language_info": {
   "codemirror_mode": {
    "name": "ipython",
    "version": 3
   },
   "file_extension": ".py",
   "mimetype": "text/x-python",
   "name": "python",
   "nbconvert_exporter": "python",
   "pygments_lexer": "ipython3",
   "version": "3.7.4"
  }
 },
 "nbformat": 4,
 "nbformat_minor": 2
}
