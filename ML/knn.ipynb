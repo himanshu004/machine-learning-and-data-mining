{
 "cells": [
  {
   "cell_type": "markdown",
   "metadata": {},
   "source": [
    "# Imports"
   ]
  },
  {
   "cell_type": "code",
   "execution_count": 240,
   "metadata": {},
   "outputs": [],
   "source": [
    "from sklearn import datasets, model_selection, neighbors, metrics\n",
    "import numpy as np\n",
    "from statistics import mode"
   ]
  },
  {
   "cell_type": "markdown",
   "metadata": {},
   "source": [
    "# Functions"
   ]
  },
  {
   "cell_type": "code",
   "execution_count": 241,
   "metadata": {},
   "outputs": [],
   "source": [
    "def split_data(x, y, test_size):\n",
    "    test_size = int(test_size * x.shape[0])\n",
    "    test_indices = np.random.choice(np.arange(x.shape[0]), test_size, replace=False)\n",
    "    x_test = x[test_indices]\n",
    "    y_test = y[test_indices]\n",
    "    train_indices = np.setdiff1d(np.arange(x.shape[0]), test_indices)\n",
    "    x_train = x[train_indices]\n",
    "    y_train = y[train_indices]\n",
    "    return x_train, x_test, y_train, y_test\n",
    "\n",
    "def knn(x_train, y_train, x_test, k):\n",
    "    n = x_test.shape[0]\n",
    "    pred = np.empty(n)\n",
    "    for i in range(n):\n",
    "        distances = np.sqrt(np.sum((x_train - x_test[i]) ** 2, axis = 1))\n",
    "        distWithLabels = np.c_[distances, y_train]\n",
    "        distWithLabels = distWithLabels[distWithLabels[:,0].argsort()]\n",
    "        pred[i] = Counter(distWithLabels[:k, 1]).most_common()[0][0]\n",
    "    return pred\n",
    "\n",
    "\n",
    "def accuracy(y_true, y_pred):\n",
    "    a = y_true - y_pred\n",
    "    return len(a[a == 0]) / len(a)"
   ]
  },
  {
   "cell_type": "markdown",
   "metadata": {},
   "source": [
    "# Loading and splitting data"
   ]
  },
  {
   "cell_type": "code",
   "execution_count": 242,
   "metadata": {},
   "outputs": [],
   "source": [
    "x, y = datasets.load_iris(return_X_y = True)\n",
    "x_train, x_test, y_train, y_test = split_data(x, y, 0.2)"
   ]
  },
  {
   "cell_type": "markdown",
   "metadata": {},
   "source": [
    "# Using built-ins"
   ]
  },
  {
   "cell_type": "code",
   "execution_count": 243,
   "metadata": {
    "scrolled": true
   },
   "outputs": [
    {
     "data": {
      "text/plain": [
       "0.9666666666666667"
      ]
     },
     "execution_count": 243,
     "metadata": {},
     "output_type": "execute_result"
    }
   ],
   "source": [
    "clf = neighbors.KNeighborsClassifier(n_neighbors=5)\n",
    "clf.fit(x_train, y_train)\n",
    "y_pred = clf.predict(x_test)\n",
    "metrics.accuracy_score(y_test, y_pred)"
   ]
  },
  {
   "cell_type": "markdown",
   "metadata": {},
   "source": [
    "# Using own functions"
    "pred = np.empty(n)\n",
    "for i in range(n):\n",
    "    dist = np.sqrt(np.sum((x_train - x_test[i]) ** 2, axis = 1))\n",
    "    dist.shape = (len(dist), 1)\n",
    "    yTrain = np.copy(y_train)\n",
    "    yTrain.shape = (len(yTrain), 1)\n",
    "    vals = np.hstack((dist, yTrain))\n",
    "    vals = vals[vals[:,0].argsort()]\n",
    "#     print(vals)\n",
    "#     print(Counter(vals[:10, 1]).most_common(1)[0][0])\n",
    "    pred[i] = Counter(vals[:7, 1]).most_common(1)[0][0]\n",
    "print(pred)\n"
   ]
  },
  {
   "cell_type": "code",
   "execution_count": 244,
   "metadata": {},
   "outputs": [
    {
     "data": {
      "text/plain": [
       "0.9666666666666667"
      ]
     },
     "execution_count": 244,
     "metadata": {},
     "output_type": "execute_result"
    }
   ],
   "source": [
    "k = 5\n",
    "y_pred = knn(x_train, y_train, x_test, k)\n",
    "accuracy(y_test, y_pred)"
   ]
  },
  {
   "cell_type": "code",
   "execution_count": null,
   "metadata": {},
   "outputs": [],
   "source": []
  }
 ],
 "metadata": {
  "kernelspec": {
   "display_name": "Python 3",
   "language": "python",
   "name": "python3"
  },
  "language_info": {
   "codemirror_mode": {
    "name": "ipython",
    "version": 3
   },
   "file_extension": ".py",
   "mimetype": "text/x-python",
   "name": "python",
   "nbconvert_exporter": "python",
   "pygments_lexer": "ipython3",
   "version": "3.7.4"
  }
 },
 "nbformat": 4,
 "nbformat_minor": 4
}
